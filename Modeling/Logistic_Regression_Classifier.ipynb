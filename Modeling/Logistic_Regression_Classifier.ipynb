{
 "cells": [
  {
   "cell_type": "markdown",
   "metadata": {
    "id": "CcEkGa4I4Cn8"
   },
   "source": [
    "# Logistic Regression"
   ]
  },
  {
   "cell_type": "markdown",
   "metadata": {
    "id": "1Cz-7Iec4GFX"
   },
   "source": [
    "## Pull and Clean Datasets"
   ]
  },
  {
   "cell_type": "code",
   "execution_count": 1,
   "metadata": {
    "id": "HgpkTLrW4IHi"
   },
   "outputs": [],
   "source": [
    "import pandas as pd\n",
    "\n",
    "import warnings\n",
    "warnings.filterwarnings(\"ignore\")"
   ]
  },
  {
   "cell_type": "code",
   "execution_count": 2,
   "metadata": {
    "id": "299772_D4SUq"
   },
   "outputs": [],
   "source": [
    "df_train = pd.read_csv('hate_speech_training.csv')\n",
    "df_train_2 = pd.read_csv('hate_speech_training_2.csv')\n",
    "df_train_3 = pd.read_csv('hate_speech_training_3.csv')\n",
    "df_train_4 = pd.read_csv('hate_speech_training_4.tsv', sep = '\\t')\n",
    "df_train_5 = pd.read_csv('hate_speech_training_5.csv')"
   ]
  },
  {
   "cell_type": "code",
   "execution_count": 3,
   "metadata": {
    "id": "9zLl3Q6t4SaP"
   },
   "outputs": [],
   "source": [
    "df_train = df_train.drop('id', axis = 1) #0 = Not Hate Speech, 1 = Hate Speech"
   ]
  },
  {
   "cell_type": "code",
   "execution_count": 4,
   "metadata": {
    "id": "DeLsSCv64SfI"
   },
   "outputs": [],
   "source": [
    "df_train_2 = df_train_2[['tweet', 'class']]\n",
    "df_train_2['class'] = df_train_2['class'].replace([0], 'hate speech')\n",
    "df_train_2['class'] = df_train_2['class'].replace([1, 2], 'not hate speech')\n",
    "df_train_2['class'] = df_train_2['class'].replace(['hate speech'], 1)\n",
    "df_train_2['class'] = df_train_2['class'].replace(['not hate speech'], 0)\n",
    "df_train_2.rename(columns = {'class': 'label'}, inplace = True) #0 = Not Hate Speech, 1 = Hate Speech"
   ]
  },
  {
   "cell_type": "code",
   "execution_count": 5,
   "metadata": {
    "id": "yx5bCgoT4SiF"
   },
   "outputs": [],
   "source": [
    "df_train_3 = df_train_3.drop('index', axis = 1) \n",
    "df_train_3.rename(columns = {'post': 'tweet'}, inplace = True) #0 = Not Hate Speech, 1 = Hate Speech"
   ]
  },
  {
   "cell_type": "code",
   "execution_count": 6,
   "metadata": {
    "id": "cD5Jr3TD4Sll"
   },
   "outputs": [],
   "source": [
    "df_train_4 = df_train_4[['text', 'HS']] \n",
    "df_train_4.rename(columns = {'text': 'tweet', 'HS': 'label'}, inplace = True) #0 = Not Hate Speech, 1 = Hate Speech"
   ]
  },
  {
   "cell_type": "code",
   "execution_count": 7,
   "metadata": {
    "id": "BAeFqZBY4SpG"
   },
   "outputs": [],
   "source": [
    "df_train_5['Label'] = df_train_5['Label'].replace(['Hate', 'Non-Asian Aggression'], 1)\n",
    "df_train_5['Label'] = df_train_5['Label'].replace(['Neutral', 'Counterhate'], 0) \n",
    "df_train_5.rename(columns = {'Text': 'tweet', 'Label': 'label'}, inplace = True) #0 = Not Hate Speech, 1 = Hate Speech"
   ]
  },
  {
   "cell_type": "code",
   "execution_count": 8,
   "metadata": {
    "id": "bxJFnaNY4Stc"
   },
   "outputs": [],
   "source": [
    "dfs = [df_train, df_train_2, df_train_3, df_train_4, df_train_5]\n",
    "df = pd.concat(dfs)"
   ]
  },
  {
   "cell_type": "markdown",
   "metadata": {
    "id": "x4XOfMMb4mlo"
   },
   "source": [
    "## Train, Test, Split"
   ]
  },
  {
   "cell_type": "code",
   "execution_count": 9,
   "metadata": {
    "id": "khZ-tdx74SyX"
   },
   "outputs": [],
   "source": [
    "from sklearn.model_selection import train_test_split"
   ]
  },
  {
   "cell_type": "code",
   "execution_count": 10,
   "metadata": {
    "id": "sMb0CfoN4tmm"
   },
   "outputs": [],
   "source": [
    "X = df['tweet']\n",
    "y = df['label']\n",
    "X_train, X_test, y_train, y_test = train_test_split(X,\n",
    "                                                    y,\n",
    "                                                    random_state=3,\n",
    "                                                    test_size=0.20,\n",
    "                                                   stratify = y) #80/20 split"
   ]
  },
  {
   "cell_type": "markdown",
   "metadata": {},
   "source": [
    "## NLP Clean Up"
   ]
  },
  {
   "cell_type": "code",
   "execution_count": 11,
   "metadata": {},
   "outputs": [],
   "source": [
    "import nltk\n",
    "from nltk.tokenize import RegexpTokenizer\n",
    "from nltk.corpus import stopwords, wordnet\n",
    "from nltk import pos_tag\n",
    "from nltk.stem import WordNetLemmatizer"
   ]
  },
  {
   "cell_type": "code",
   "execution_count": 12,
   "metadata": {},
   "outputs": [
    {
     "name": "stderr",
     "output_type": "stream",
     "text": [
      "[nltk_data] Downloading package averaged_perceptron_tagger to\n",
      "[nltk_data]     /home/ec2-user/nltk_data...\n",
      "[nltk_data]   Package averaged_perceptron_tagger is already up-to-\n",
      "[nltk_data]       date!\n"
     ]
    },
    {
     "data": {
      "text/plain": [
       "True"
      ]
     },
     "execution_count": 12,
     "metadata": {},
     "output_type": "execute_result"
    }
   ],
   "source": [
    "nltk.download('averaged_perceptron_tagger')"
   ]
  },
  {
   "cell_type": "code",
   "execution_count": 13,
   "metadata": {},
   "outputs": [
    {
     "name": "stderr",
     "output_type": "stream",
     "text": [
      "[nltk_data] Downloading package wordnet to /home/ec2-user/nltk_data...\n",
      "[nltk_data]   Package wordnet is already up-to-date!\n"
     ]
    },
    {
     "data": {
      "text/plain": [
       "True"
      ]
     },
     "execution_count": 13,
     "metadata": {},
     "output_type": "execute_result"
    }
   ],
   "source": [
    "nltk.download('wordnet')"
   ]
  },
  {
   "cell_type": "code",
   "execution_count": 14,
   "metadata": {},
   "outputs": [],
   "source": [
    "sw = stopwords.words('english')\n",
    "sw_add = ['@user', '#', '@', 'https', 'amp', 'co', \n",
    "          'http', 'RT', '#','##','####','######','##########','##@user']\n",
    "sw = sw + sw_add"
   ]
  },
  {
   "cell_type": "code",
   "execution_count": 15,
   "metadata": {},
   "outputs": [],
   "source": [
    "def get_wordnet_pos(treebank_tag):\n",
    "    \n",
    "    if treebank_tag.startswith('J'):\n",
    "        return wordnet.ADJ\n",
    "    elif treebank_tag.startswith('V'):\n",
    "        return wordnet.VERB\n",
    "    elif treebank_tag.startswith('N'):\n",
    "        return wordnet.NOUN\n",
    "    elif treebank_tag.startswith('R'):\n",
    "        return wordnet.ADV\n",
    "    else:\n",
    "        return wordnet.NOUN"
   ]
  },
  {
   "cell_type": "code",
   "execution_count": 16,
   "metadata": {},
   "outputs": [],
   "source": [
    "def doc_preparer(doc, stop_words=sw):\n",
    " \n",
    "    regex_token = RegexpTokenizer(r\"([@#a-zA-Z]+(?:’[a-z]+)?)\")\n",
    "    doc = regex_token.tokenize(doc)\n",
    "    doc = [word.lower() for word in doc]\n",
    "    doc = [word for word in doc if word not in sw]\n",
    "    doc = pos_tag(doc)\n",
    "    doc = [(word[0], get_wordnet_pos(word[1])) for word in doc]\n",
    "    lemmatizer = WordNetLemmatizer() \n",
    "    doc = [lemmatizer.lemmatize(word[0], word[1]) for word in doc]\n",
    "    return ' '.join(doc)"
   ]
  },
  {
   "cell_type": "code",
   "execution_count": 36,
   "metadata": {},
   "outputs": [],
   "source": [
    "token_docs = [doc_preparer(doc, sw) for doc in X_train]\n",
    "test_token_docs = [doc_preparer(doc, sw) for doc in X_test]"
   ]
  },
  {
   "cell_type": "markdown",
   "metadata": {
    "id": "aiXcHEqe4uq1"
   },
   "source": [
    "## Pipeline for TF-IDF on Logistic Regression"
   ]
  },
  {
   "cell_type": "code",
   "execution_count": 17,
   "metadata": {
    "id": "_Eo4qXSX4zDO"
   },
   "outputs": [],
   "source": [
    "from imblearn.over_sampling import SMOTE\n",
    "from imblearn.pipeline import Pipeline\n",
    "from sklearn.linear_model import LogisticRegression\n",
    "\n",
    "from sklearn.feature_extraction.text import TfidfVectorizer, CountVectorizer"
   ]
  },
  {
   "cell_type": "code",
   "execution_count": 18,
   "metadata": {
    "colab": {
     "base_uri": "https://localhost:8080/"
    },
    "id": "d_WTZ-ti5CUh",
    "outputId": "2acc581f-8c36-4490-d850-3ff6a43472b8"
   },
   "outputs": [
    {
     "name": "stderr",
     "output_type": "stream",
     "text": [
      "[nltk_data] Downloading package stopwords to\n",
      "[nltk_data]     /home/ec2-user/nltk_data...\n",
      "[nltk_data]   Package stopwords is already up-to-date!\n"
     ]
    },
    {
     "data": {
      "text/plain": [
       "True"
      ]
     },
     "execution_count": 18,
     "metadata": {},
     "output_type": "execute_result"
    }
   ],
   "source": [
    "nltk.download('stopwords')"
   ]
  },
  {
   "cell_type": "code",
   "execution_count": 39,
   "metadata": {
    "id": "IjkbSd4-5CeV"
   },
   "outputs": [],
   "source": [
    "tfidf_lr_pipe = Pipeline([\n",
    " ('tfidf', TfidfVectorizer()),\n",
    " ('SMOTE', SMOTE(n_jobs = -1)),\n",
    " ('lr', LogisticRegression())\n",
    "])"
   ]
  },
  {
   "cell_type": "code",
   "execution_count": 40,
   "metadata": {
    "colab": {
     "base_uri": "https://localhost:8080/"
    },
    "id": "l1tgESTE5CiD",
    "outputId": "c3d12a3f-6b05-4990-ffb3-a2404c7a796e"
   },
   "outputs": [
    {
     "data": {
      "text/plain": [
       "Pipeline(steps=[('tfidf', TfidfVectorizer()), ('SMOTE', SMOTE(n_jobs=-1)),\n",
       "                ('lr', LogisticRegression())])"
      ]
     },
     "execution_count": 40,
     "metadata": {},
     "output_type": "execute_result"
    }
   ],
   "source": [
    "tfidf_lr_pipe.fit(token_docs, y_train)"
   ]
  },
  {
   "cell_type": "code",
   "execution_count": 19,
   "metadata": {
    "id": "rAZDAd5h5CoQ"
   },
   "outputs": [],
   "source": [
    "import numpy as np\n",
    "tfidf_lr_params = {\n",
    "    'tfidf__max_features':[None, 27_000, 10_000],\n",
    "    'tfidf__ngram_range':[(1,1), (1,2), (2,2)],\n",
    "    'SMOTE__sampling_strategy':['auto', .75, .9],\n",
    "    'lr__C': np.logspace(-3, 3, 3),\n",
    "}"
   ]
  },
  {
   "cell_type": "code",
   "execution_count": 20,
   "metadata": {
    "id": "dvCA8fL760ym"
   },
   "outputs": [],
   "source": [
    "from sklearn.model_selection import GridSearchCV"
   ]
  },
  {
   "cell_type": "code",
   "execution_count": 46,
   "metadata": {
    "id": "L_1Zy9yX63rW"
   },
   "outputs": [],
   "source": [
    "gs_tfidf_lr = GridSearchCV(tfidf_lr_pipe,\n",
    "                            param_grid=tfidf_lr_params, \n",
    "                            cv = 3, \n",
    "                            verbose = 1,\n",
    "                            n_jobs = -1)"
   ]
  },
  {
   "cell_type": "code",
   "execution_count": 47,
   "metadata": {
    "colab": {
     "background_save": true,
     "base_uri": "https://localhost:8080/"
    },
    "id": "M4r1yY5163yT",
    "outputId": "dd335f53-ebb1-4d84-da5f-dc4c26775ce3"
   },
   "outputs": [
    {
     "name": "stdout",
     "output_type": "stream",
     "text": [
      "Fitting 3 folds for each of 81 candidates, totalling 243 fits\n"
     ]
    },
    {
     "data": {
      "text/plain": [
       "GridSearchCV(cv=3,\n",
       "             estimator=Pipeline(steps=[('tfidf', TfidfVectorizer()),\n",
       "                                       ('SMOTE', SMOTE(n_jobs=-1)),\n",
       "                                       ('lr', LogisticRegression())]),\n",
       "             n_jobs=-1,\n",
       "             param_grid={'SMOTE__sampling_strategy': ['auto', 0.75, 0.9],\n",
       "                         'lr__C': array([1.e-03, 1.e+00, 1.e+03]),\n",
       "                         'tfidf__max_features': [None, 27000, 10000],\n",
       "                         'tfidf__ngram_range': [(1, 1), (1, 2), (2, 2)]},\n",
       "             verbose=1)"
      ]
     },
     "execution_count": 47,
     "metadata": {},
     "output_type": "execute_result"
    }
   ],
   "source": [
    "gs_tfidf_lr.fit(token_docs, y_train)"
   ]
  },
  {
   "cell_type": "code",
   "execution_count": 48,
   "metadata": {
    "id": "0TgUHzdn631p"
   },
   "outputs": [
    {
     "data": {
      "text/plain": [
       "Pipeline(steps=[('tfidf', TfidfVectorizer(ngram_range=(2, 2))),\n",
       "                ('SMOTE', SMOTE(n_jobs=-1)),\n",
       "                ('lr', LogisticRegression(C=0.001))])"
      ]
     },
     "execution_count": 48,
     "metadata": {},
     "output_type": "execute_result"
    }
   ],
   "source": [
    "gs_tfidf_lr.best_estimator_"
   ]
  },
  {
   "cell_type": "code",
   "execution_count": 49,
   "metadata": {
    "id": "-cd6tQDQ634u"
   },
   "outputs": [
    {
     "data": {
      "text/plain": [
       "0.9201751258697967"
      ]
     },
     "execution_count": 49,
     "metadata": {},
     "output_type": "execute_result"
    }
   ],
   "source": [
    "gs_tfidf_lr.best_score_"
   ]
  },
  {
   "cell_type": "code",
   "execution_count": 50,
   "metadata": {
    "id": "-tozZpyv637l"
   },
   "outputs": [
    {
     "data": {
      "text/plain": [
       "{'SMOTE__sampling_strategy': 'auto',\n",
       " 'lr__C': 0.001,\n",
       " 'tfidf__max_features': None,\n",
       " 'tfidf__ngram_range': (2, 2)}"
      ]
     },
     "execution_count": 50,
     "metadata": {},
     "output_type": "execute_result"
    }
   ],
   "source": [
    "gs_tfidf_lr.best_params_"
   ]
  },
  {
   "cell_type": "markdown",
   "metadata": {
    "id": "ZWv3VrWhp4a2"
   },
   "source": [
    "## Pipeline For Best Logistic Regression Model w/TFIDF"
   ]
  },
  {
   "cell_type": "code",
   "execution_count": 53,
   "metadata": {
    "id": "G3l1d1SWp9hy"
   },
   "outputs": [],
   "source": [
    "tfidf_best_lr_pipe = Pipeline([\n",
    "    ('tfidf', TfidfVectorizer(max_features = None, ngram_range = (2,2))),\n",
    "    ('SMOTE', SMOTE(n_jobs = -1, sampling_strategy = 'auto')),\n",
    "    ('lr', LogisticRegression(C = .001))\n",
    "])"
   ]
  },
  {
   "cell_type": "code",
   "execution_count": 54,
   "metadata": {
    "colab": {
     "base_uri": "https://localhost:8080/"
    },
    "id": "H6cBBiJjqVez",
    "outputId": "fc41d3c4-ab35-46ff-815a-94598b363c87"
   },
   "outputs": [
    {
     "data": {
      "text/plain": [
       "Pipeline(steps=[('tfidf', TfidfVectorizer(ngram_range=(2, 2))),\n",
       "                ('SMOTE', SMOTE(n_jobs=-1)),\n",
       "                ('lr', LogisticRegression(C=0.001))])"
      ]
     },
     "execution_count": 54,
     "metadata": {},
     "output_type": "execute_result"
    }
   ],
   "source": [
    "tfidf_best_lr_pipe.fit(token_docs, y_train)"
   ]
  },
  {
   "cell_type": "code",
   "execution_count": 55,
   "metadata": {
    "colab": {
     "base_uri": "https://localhost:8080/"
    },
    "id": "d6Mu69SGqVo8",
    "outputId": "d96986e7-c832-4258-a6f8-9cf1f439e4a3"
   },
   "outputs": [
    {
     "data": {
      "text/plain": [
       "0.9602323098912631"
      ]
     },
     "execution_count": 55,
     "metadata": {},
     "output_type": "execute_result"
    }
   ],
   "source": [
    "tfidf_best_lr_pipe.score(token_docs, y_train)"
   ]
  },
  {
   "cell_type": "code",
   "execution_count": 21,
   "metadata": {
    "id": "OU5pccjzqVt_"
   },
   "outputs": [],
   "source": [
    "from sklearn.model_selection import cross_val_score"
   ]
  },
  {
   "cell_type": "code",
   "execution_count": 57,
   "metadata": {
    "colab": {
     "base_uri": "https://localhost:8080/"
    },
    "id": "qiV1-wIBqm7K",
    "outputId": "0271fe34-96e5-4bf8-c8ec-0b388bd1514a"
   },
   "outputs": [
    {
     "data": {
      "text/plain": [
       "array([0.92121212, 0.9209336 , 0.92328569, 0.92174778, 0.9206622 ])"
      ]
     },
     "execution_count": 57,
     "metadata": {},
     "output_type": "execute_result"
    }
   ],
   "source": [
    "cross_val_score(tfidf_best_lr_pipe, token_docs, y_train, cv = 5)"
   ]
  },
  {
   "cell_type": "code",
   "execution_count": 58,
   "metadata": {
    "colab": {
     "base_uri": "https://localhost:8080/"
    },
    "id": "vHjEnjm4qm_E",
    "outputId": "6bc47098-d951-4c5e-c571-dc2d4f684170"
   },
   "outputs": [
    {
     "data": {
      "text/plain": [
       "0.9235055724417427"
      ]
     },
     "execution_count": 58,
     "metadata": {},
     "output_type": "execute_result"
    }
   ],
   "source": [
    "tfidf_best_lr_pipe.score(test_token_docs, y_test)"
   ]
  },
  {
   "cell_type": "code",
   "execution_count": 22,
   "metadata": {
    "id": "f6mTGIFAqnEg"
   },
   "outputs": [],
   "source": [
    "from sklearn.metrics import plot_confusion_matrix, plot_roc_curve, classification_report"
   ]
  },
  {
   "cell_type": "code",
   "execution_count": 60,
   "metadata": {
    "colab": {
     "base_uri": "https://localhost:8080/",
     "height": 296
    },
    "id": "NAZiazCgq0fg",
    "outputId": "6103b8ed-2863-4fdb-895d-bb0f6c20822d"
   },
   "outputs": [
    {
     "data": {
      "text/plain": [
       "<sklearn.metrics._plot.confusion_matrix.ConfusionMatrixDisplay at 0x7fe6f4cdeac8>"
      ]
     },
     "execution_count": 60,
     "metadata": {},
     "output_type": "execute_result"
    },
    {
     "data": {
      "image/png": "[encoded data removed]",
      "text/plain": [
       "<Figure size 432x288 with 2 Axes>"
      ]
     },
     "metadata": {
      "needs_background": "light"
     },
     "output_type": "display_data"
    }
   ],
   "source": [
    "plot_confusion_matrix(tfidf_best_lr_pipe, test_token_docs, y_test)"
   ]
  },
  {
   "cell_type": "code",
   "execution_count": 61,
   "metadata": {
    "colab": {
     "base_uri": "https://localhost:8080/",
     "height": 296
    },
    "id": "p0TgLv2Aq0qc",
    "outputId": "4e4f5f5f-b97c-45f3-99c6-5147bda3a4c5"
   },
   "outputs": [
    {
     "data": {
      "text/plain": [
       "<sklearn.metrics._plot.roc_curve.RocCurveDisplay at 0x7fe6e22e1588>"
      ]
     },
     "execution_count": 61,
     "metadata": {},
     "output_type": "execute_result"
    },
    {
     "data": {
      "image/png": "[encoded data removed]",
      "text/plain": [
       "<Figure size 432x288 with 1 Axes>"
      ]
     },
     "metadata": {
      "needs_background": "light"
     },
     "output_type": "display_data"
    }
   ],
   "source": [
    "plot_roc_curve(tfidf_best_lr_pipe, test_token_docs, y_test)"
   ]
  },
  {
   "cell_type": "code",
   "execution_count": 62,
   "metadata": {
    "colab": {
     "base_uri": "https://localhost:8080/"
    },
    "id": "Fkjc-8usq02u",
    "outputId": "5e3ac53f-e4f8-4c56-fba8-e360a3506166"
   },
   "outputs": [
    {
     "name": "stdout",
     "output_type": "stream",
     "text": [
      "              precision    recall  f1-score   support\n",
      "\n",
      "           0       0.93      0.99      0.96     12643\n",
      "           1       0.62      0.25      0.36      1175\n",
      "\n",
      "    accuracy                           0.92     13818\n",
      "   macro avg       0.78      0.62      0.66     13818\n",
      "weighted avg       0.91      0.92      0.91     13818\n",
      "\n"
     ]
    }
   ],
   "source": [
    "y_hat = tfidf_best_lr_pipe.predict(test_token_docs)\n",
    "print(classification_report(y_pred = y_hat, y_true = y_test))"
   ]
  },
  {
   "cell_type": "markdown",
   "metadata": {
    "id": "sG3wNbvjrEu6"
   },
   "source": [
    "## Grid Search Pipeline for Logistic Regression on Count Vectorizer"
   ]
  },
  {
   "cell_type": "code",
   "execution_count": 63,
   "metadata": {
    "id": "5vZ4DsMXrPsW"
   },
   "outputs": [],
   "source": [
    "cv_lr_pipe = Pipeline([\n",
    "    ('cv', CountVectorizer()),\n",
    "    ('SMOTE', SMOTE(n_jobs = -1)),\n",
    "    ('lr', LogisticRegression())\n",
    "])"
   ]
  },
  {
   "cell_type": "code",
   "execution_count": 64,
   "metadata": {
    "colab": {
     "base_uri": "https://localhost:8080/"
    },
    "id": "itoTAfCqrYYa",
    "outputId": "720f04df-4b55-4d94-9c32-7a3188858c80"
   },
   "outputs": [
    {
     "data": {
      "text/plain": [
       "Pipeline(steps=[('cv', CountVectorizer()), ('SMOTE', SMOTE(n_jobs=-1)),\n",
       "                ('lr', LogisticRegression())])"
      ]
     },
     "execution_count": 64,
     "metadata": {},
     "output_type": "execute_result"
    }
   ],
   "source": [
    "cv_lr_pipe.fit(token_docs, y_train)"
   ]
  },
  {
   "cell_type": "code",
   "execution_count": 23,
   "metadata": {
    "id": "4TUGc8hhrYcn"
   },
   "outputs": [],
   "source": [
    "cv_lr_params = {\n",
    "    'cv__max_features':[None, 27_000, 10_000],\n",
    "    'cv__ngram_range':[(1,1), (1,2), (2,2)],\n",
    "    'cv__binary':[False, True],\n",
    "    'SMOTE__sampling_strategy':['auto', .75, .9],\n",
    "    'lr__C': np.logspace(-3, 3, 3),\n",
    "    'lr__penalty': ['l1', 'l2'],\n",
    "}"
   ]
  },
  {
   "cell_type": "code",
   "execution_count": 66,
   "metadata": {
    "id": "V7LAxJmArYh_"
   },
   "outputs": [],
   "source": [
    "gs_cv_lr = GridSearchCV(cv_lr_pipe,\n",
    "                            param_grid=cv_lr_params, \n",
    "                            cv = 3, \n",
    "                            verbose = 1,\n",
    "                            n_jobs = -1)"
   ]
  },
  {
   "cell_type": "code",
   "execution_count": 67,
   "metadata": {
    "colab": {
     "base_uri": "https://localhost:8080/"
    },
    "id": "4_c95ixVrYpw",
    "outputId": "d962382b-7b39-468a-e363-271bfddae4fd"
   },
   "outputs": [
    {
     "name": "stdout",
     "output_type": "stream",
     "text": [
      "Fitting 3 folds for each of 324 candidates, totalling 972 fits\n"
     ]
    },
    {
     "data": {
      "text/plain": [
       "GridSearchCV(cv=3,\n",
       "             estimator=Pipeline(steps=[('cv', CountVectorizer()),\n",
       "                                       ('SMOTE', SMOTE(n_jobs=-1)),\n",
       "                                       ('lr', LogisticRegression())]),\n",
       "             n_jobs=-1,\n",
       "             param_grid={'SMOTE__sampling_strategy': ['auto', 0.75, 0.9],\n",
       "                         'cv__binary': [False, True],\n",
       "                         'cv__max_features': [None, 27000, 10000],\n",
       "                         'cv__ngram_range': [(1, 1), (1, 2), (2, 2)],\n",
       "                         'lr__C': array([1.e-03, 1.e+00, 1.e+03]),\n",
       "                         'lr__penalty': ['l1', 'l2']},\n",
       "             verbose=1)"
      ]
     },
     "execution_count": 67,
     "metadata": {},
     "output_type": "execute_result"
    }
   ],
   "source": [
    "gs_cv_lr.fit(token_docs, y_train)"
   ]
  },
  {
   "cell_type": "code",
   "execution_count": 68,
   "metadata": {
    "id": "CrbjYLJ6rYtU"
   },
   "outputs": [
    {
     "data": {
      "text/plain": [
       "0.9188181834258901"
      ]
     },
     "execution_count": 68,
     "metadata": {},
     "output_type": "execute_result"
    }
   ],
   "source": [
    "gs_cv_lr.best_score_"
   ]
  },
  {
   "cell_type": "code",
   "execution_count": 69,
   "metadata": {
    "colab": {
     "base_uri": "https://localhost:8080/"
    },
    "id": "icg1V7Q7rYxE",
    "outputId": "fcec065d-09c1-421b-9f10-8617304a63c6"
   },
   "outputs": [
    {
     "data": {
      "text/plain": [
       "Pipeline(steps=[('cv',\n",
       "                 CountVectorizer(binary=True, max_features=10000,\n",
       "                                 ngram_range=(2, 2))),\n",
       "                ('SMOTE', SMOTE(n_jobs=-1, sampling_strategy=0.9)),\n",
       "                ('lr', LogisticRegression(C=0.001))])"
      ]
     },
     "execution_count": 69,
     "metadata": {},
     "output_type": "execute_result"
    }
   ],
   "source": [
    "gs_cv_lr.best_estimator_"
   ]
  },
  {
   "cell_type": "code",
   "execution_count": 70,
   "metadata": {
    "colab": {
     "base_uri": "https://localhost:8080/"
    },
    "id": "ZAZyvPXTNyHx",
    "outputId": "e2523e48-7229-471d-9244-b7ec98218a20"
   },
   "outputs": [
    {
     "data": {
      "text/plain": [
       "{'SMOTE__sampling_strategy': 0.9,\n",
       " 'cv__binary': True,\n",
       " 'cv__max_features': 10000,\n",
       " 'cv__ngram_range': (2, 2),\n",
       " 'lr__C': 0.001,\n",
       " 'lr__penalty': 'l2'}"
      ]
     },
     "execution_count": 70,
     "metadata": {},
     "output_type": "execute_result"
    }
   ],
   "source": [
    "gs_cv_lr.best_params_"
   ]
  },
  {
   "cell_type": "markdown",
   "metadata": {},
   "source": [
    "## Best Possible Logistic Regression Model for Count Vectorizer"
   ]
  },
  {
   "cell_type": "code",
   "execution_count": 71,
   "metadata": {},
   "outputs": [],
   "source": [
    "cv_best_lr_pipe = Pipeline([\n",
    "    ('cv', CountVectorizer(max_features = 10_000, ngram_range = (2,2),\n",
    "                          binary = True)),\n",
    "    ('SMOTE', SMOTE(n_jobs = -1, sampling_strategy = 0.9)),\n",
    "    ('lr', LogisticRegression(C = 0.001, penalty = 'l2'))\n",
    "])"
   ]
  },
  {
   "cell_type": "code",
   "execution_count": 72,
   "metadata": {},
   "outputs": [
    {
     "data": {
      "text/plain": [
       "Pipeline(steps=[('cv',\n",
       "                 CountVectorizer(binary=True, max_features=10000,\n",
       "                                 ngram_range=(2, 2))),\n",
       "                ('SMOTE', SMOTE(n_jobs=-1, sampling_strategy=0.9)),\n",
       "                ('lr', LogisticRegression(C=0.001))])"
      ]
     },
     "execution_count": 72,
     "metadata": {},
     "output_type": "execute_result"
    }
   ],
   "source": [
    "cv_best_lr_pipe.fit(token_docs, y_train)"
   ]
  },
  {
   "cell_type": "code",
   "execution_count": 73,
   "metadata": {},
   "outputs": [
    {
     "data": {
      "text/plain": [
       "0.9195418935789111"
      ]
     },
     "execution_count": 73,
     "metadata": {},
     "output_type": "execute_result"
    }
   ],
   "source": [
    "cv_best_lr_pipe.score(token_docs, y_train)"
   ]
  },
  {
   "cell_type": "code",
   "execution_count": 74,
   "metadata": {},
   "outputs": [
    {
     "data": {
      "text/plain": [
       "array([0.91904116, 0.91812918, 0.91812918, 0.91966709, 0.91930523])"
      ]
     },
     "execution_count": 74,
     "metadata": {},
     "output_type": "execute_result"
    }
   ],
   "source": [
    "cross_val_score(cv_best_lr_pipe, token_docs, y_train, cv = 5)"
   ]
  },
  {
   "cell_type": "code",
   "execution_count": 75,
   "metadata": {},
   "outputs": [
    {
     "data": {
      "text/plain": [
       "0.9181502388189319"
      ]
     },
     "execution_count": 75,
     "metadata": {},
     "output_type": "execute_result"
    }
   ],
   "source": [
    "cv_best_lr_pipe.score(test_token_docs, y_test)"
   ]
  },
  {
   "cell_type": "code",
   "execution_count": 76,
   "metadata": {},
   "outputs": [
    {
     "data": {
      "text/plain": [
       "<sklearn.metrics._plot.confusion_matrix.ConfusionMatrixDisplay at 0x7fe6df381908>"
      ]
     },
     "execution_count": 76,
     "metadata": {},
     "output_type": "execute_result"
    },
    {
     "data": {
      "image/png": "[encoded data removed]",
      "text/plain": [
       "<Figure size 432x288 with 2 Axes>"
      ]
     },
     "metadata": {
      "needs_background": "light"
     },
     "output_type": "display_data"
    }
   ],
   "source": [
    "plot_confusion_matrix(cv_best_lr_pipe, test_token_docs, y_test)"
   ]
  },
  {
   "cell_type": "code",
   "execution_count": 77,
   "metadata": {},
   "outputs": [
    {
     "data": {
      "text/plain": [
       "<sklearn.metrics._plot.roc_curve.RocCurveDisplay at 0x7fe6d481f780>"
      ]
     },
     "execution_count": 77,
     "metadata": {},
     "output_type": "execute_result"
    },
    {
     "data": {
      "image/png": "[encoded data removed]",
      "text/plain": [
       "<Figure size 432x288 with 1 Axes>"
      ]
     },
     "metadata": {
      "needs_background": "light"
     },
     "output_type": "display_data"
    }
   ],
   "source": [
    "plot_roc_curve(cv_best_lr_pipe, test_token_docs, y_test)"
   ]
  },
  {
   "cell_type": "code",
   "execution_count": 78,
   "metadata": {},
   "outputs": [
    {
     "name": "stdout",
     "output_type": "stream",
     "text": [
      "              precision    recall  f1-score   support\n",
      "\n",
      "           0       0.92      1.00      0.96     12643\n",
      "           1       0.64      0.09      0.15      1175\n",
      "\n",
      "    accuracy                           0.92     13818\n",
      "   macro avg       0.78      0.54      0.55     13818\n",
      "weighted avg       0.90      0.92      0.89     13818\n",
      "\n"
     ]
    }
   ],
   "source": [
    "y_hat_2 = cv_best_lr_pipe.predict(test_token_docs)\n",
    "print(classification_report(y_pred = y_hat_2, y_true = y_test))"
   ]
  },
  {
   "cell_type": "markdown",
   "metadata": {},
   "source": [
    "## NLP Clean-Up including ONLY language"
   ]
  },
  {
   "cell_type": "code",
   "execution_count": 25,
   "metadata": {},
   "outputs": [],
   "source": [
    "def doc_preparer_2(doc, stop_words=sw):\n",
    " \n",
    "    regex_token = RegexpTokenizer(r\"([a-zA-Z]+(?:’[a-z]+)?)\")\n",
    "    doc = regex_token.tokenize(doc)\n",
    "    doc = [word.lower() for word in doc]\n",
    "    doc = [word for word in doc if word not in sw]\n",
    "    doc = pos_tag(doc)\n",
    "    doc = [(word[0], get_wordnet_pos(word[1])) for word in doc]\n",
    "    lemmatizer = WordNetLemmatizer() \n",
    "    doc = [lemmatizer.lemmatize(word[0], word[1]) for word in doc]\n",
    "    return ' '.join(doc)"
   ]
  },
  {
   "cell_type": "code",
   "execution_count": 26,
   "metadata": {},
   "outputs": [],
   "source": [
    "token_docs_2 = [doc_preparer_2(doc, sw) for doc in X_train]\n",
    "test_token_docs_2 = [doc_preparer_2(doc, sw) for doc in X_test]"
   ]
  },
  {
   "cell_type": "markdown",
   "metadata": {},
   "source": [
    "## Grid Search Pipelin for TFIDF/Logistic Regression"
   ]
  },
  {
   "cell_type": "code",
   "execution_count": 35,
   "metadata": {},
   "outputs": [],
   "source": [
    "tfidf_lr_pipe_2 = Pipeline([\n",
    "    ('tfidf', TfidfVectorizer()),\n",
    "    ('SMOTE', SMOTE(n_jobs = -1)),\n",
    "    ('lr', LogisticRegression())\n",
    "])"
   ]
  },
  {
   "cell_type": "code",
   "execution_count": 27,
   "metadata": {},
   "outputs": [
    {
     "data": {
      "text/plain": [
       "Pipeline(steps=[('tfidf', TfidfVectorizer()), ('SMOTE', SMOTE(n_jobs=-1)),\n",
       "                ('lr', LogisticRegression())])"
      ]
     },
     "execution_count": 27,
     "metadata": {},
     "output_type": "execute_result"
    }
   ],
   "source": [
    "tfidf_lr_pipe_2.fit(token_docs_2, y_train)"
   ]
  },
  {
   "cell_type": "code",
   "execution_count": 28,
   "metadata": {},
   "outputs": [],
   "source": [
    "gs_tfidf_lr_2 = GridSearchCV(tfidf_lr_pipe_2,\n",
    "                            param_grid=tfidf_lr_params, \n",
    "                            cv = 3, \n",
    "                            verbose = 1,\n",
    "                            n_jobs = -1)"
   ]
  },
  {
   "cell_type": "code",
   "execution_count": 29,
   "metadata": {},
   "outputs": [
    {
     "name": "stdout",
     "output_type": "stream",
     "text": [
      "Fitting 3 folds for each of 81 candidates, totalling 243 fits\n"
     ]
    },
    {
     "data": {
      "text/plain": [
       "GridSearchCV(cv=3,\n",
       "             estimator=Pipeline(steps=[('tfidf', TfidfVectorizer()),\n",
       "                                       ('SMOTE', SMOTE(n_jobs=-1)),\n",
       "                                       ('lr', LogisticRegression())]),\n",
       "             n_jobs=-1,\n",
       "             param_grid={'SMOTE__sampling_strategy': ['auto', 0.75, 0.9],\n",
       "                         'lr__C': array([1.e-03, 1.e+00, 1.e+03]),\n",
       "                         'tfidf__max_features': [None, 27000, 10000],\n",
       "                         'tfidf__ngram_range': [(1, 1), (1, 2), (2, 2)]},\n",
       "             verbose=1)"
      ]
     },
     "execution_count": 29,
     "metadata": {},
     "output_type": "execute_result"
    }
   ],
   "source": [
    "gs_tfidf_lr_2.fit(token_docs_2, y_train)"
   ]
  },
  {
   "cell_type": "code",
   "execution_count": 30,
   "metadata": {},
   "outputs": [
    {
     "data": {
      "text/plain": [
       "0.9227804311643365"
      ]
     },
     "execution_count": 30,
     "metadata": {},
     "output_type": "execute_result"
    }
   ],
   "source": [
    "gs_tfidf_lr_2.best_score_"
   ]
  },
  {
   "cell_type": "code",
   "execution_count": 31,
   "metadata": {},
   "outputs": [
    {
     "data": {
      "text/plain": [
       "Pipeline(steps=[('tfidf', TfidfVectorizer(ngram_range=(1, 2))),\n",
       "                ('SMOTE', SMOTE(n_jobs=-1, sampling_strategy=0.9)),\n",
       "                ('lr', LogisticRegression(C=1000.0))])"
      ]
     },
     "execution_count": 31,
     "metadata": {},
     "output_type": "execute_result"
    }
   ],
   "source": [
    "gs_tfidf_lr_2.best_estimator_"
   ]
  },
  {
   "cell_type": "code",
   "execution_count": 32,
   "metadata": {},
   "outputs": [
    {
     "data": {
      "text/plain": [
       "{'SMOTE__sampling_strategy': 0.9,\n",
       " 'lr__C': 1000.0,\n",
       " 'tfidf__max_features': None,\n",
       " 'tfidf__ngram_range': (1, 2)}"
      ]
     },
     "execution_count": 32,
     "metadata": {},
     "output_type": "execute_result"
    }
   ],
   "source": [
    "gs_tfidf_lr_2.best_params_"
   ]
  },
  {
   "cell_type": "markdown",
   "metadata": {},
   "source": [
    "## Best Logistic Regression Model with TFIDF"
   ]
  },
  {
   "cell_type": "code",
   "execution_count": 34,
   "metadata": {},
   "outputs": [],
   "source": [
    "tfidf_best_lr_pipe_2 = Pipeline([\n",
    "    ('tfidf', TfidfVectorizer(max_features = None, ngram_range = (1,2))),\n",
    "    ('SMOTE', SMOTE(n_jobs = -1, sampling_strategy = 0.9)),\n",
    "    ('lr', LogisticRegression(C = 1000))\n",
    "])"
   ]
  },
  {
   "cell_type": "code",
   "execution_count": 36,
   "metadata": {},
   "outputs": [
    {
     "data": {
      "text/plain": [
       "Pipeline(steps=[('tfidf', TfidfVectorizer(ngram_range=(1, 2))),\n",
       "                ('SMOTE', SMOTE(n_jobs=-1, sampling_strategy=0.9)),\n",
       "                ('lr', LogisticRegression(C=1000))])"
      ]
     },
     "execution_count": 36,
     "metadata": {},
     "output_type": "execute_result"
    }
   ],
   "source": [
    "tfidf_best_lr_pipe_2.fit(token_docs_2, y_train)"
   ]
  },
  {
   "cell_type": "code",
   "execution_count": 37,
   "metadata": {},
   "outputs": [
    {
     "data": {
      "text/plain": [
       "0.9990229957844078"
      ]
     },
     "execution_count": 37,
     "metadata": {},
     "output_type": "execute_result"
    }
   ],
   "source": [
    "tfidf_best_lr_pipe_2.score(token_docs_2, y_train)"
   ]
  },
  {
   "cell_type": "code",
   "execution_count": 39,
   "metadata": {},
   "outputs": [
    {
     "data": {
      "text/plain": [
       "array([0.91949344, 0.92735661, 0.92057174, 0.92364755, 0.9191243 ])"
      ]
     },
     "execution_count": 39,
     "metadata": {},
     "output_type": "execute_result"
    }
   ],
   "source": [
    "cross_val_score(tfidf_best_lr_pipe_2, token_docs_2, y_train, cv = 5)"
   ]
  },
  {
   "cell_type": "code",
   "execution_count": 40,
   "metadata": {},
   "outputs": [
    {
     "data": {
      "text/plain": [
       "0.9235055724417427"
      ]
     },
     "execution_count": 40,
     "metadata": {},
     "output_type": "execute_result"
    }
   ],
   "source": [
    "tfidf_best_lr_pipe_2.score(test_token_docs_2, y_test)"
   ]
  },
  {
   "cell_type": "code",
   "execution_count": 41,
   "metadata": {},
   "outputs": [
    {
     "data": {
      "text/plain": [
       "<sklearn.metrics._plot.confusion_matrix.ConfusionMatrixDisplay at 0x7f57ce868c50>"
      ]
     },
     "execution_count": 41,
     "metadata": {},
     "output_type": "execute_result"
    },
    {
     "data": {
      "image/png": "[encoded data removed]",
      "text/plain": [
       "<Figure size 432x288 with 2 Axes>"
      ]
     },
     "metadata": {
      "needs_background": "light"
     },
     "output_type": "display_data"
    }
   ],
   "source": [
    "plot_confusion_matrix(tfidf_best_lr_pipe_2, test_token_docs_2, y_test)"
   ]
  },
  {
   "cell_type": "code",
   "execution_count": 42,
   "metadata": {},
   "outputs": [
    {
     "data": {
      "text/plain": [
       "<sklearn.metrics._plot.roc_curve.RocCurveDisplay at 0x7f57ce8f4cf8>"
      ]
     },
     "execution_count": 42,
     "metadata": {},
     "output_type": "execute_result"
    },
    {
     "data": {
      "image/png": "[encoded data removed]",
      "text/plain": [
       "<Figure size 432x288 with 1 Axes>"
      ]
     },
     "metadata": {
      "needs_background": "light"
     },
     "output_type": "display_data"
    }
   ],
   "source": [
    "plot_roc_curve(tfidf_best_lr_pipe_2, test_token_docs_2, y_test)"
   ]
  },
  {
   "cell_type": "code",
   "execution_count": 44,
   "metadata": {},
   "outputs": [
    {
     "name": "stdout",
     "output_type": "stream",
     "text": [
      "              precision    recall  f1-score   support\n",
      "\n",
      "           0       0.95      0.96      0.96     12643\n",
      "           1       0.56      0.49      0.52      1175\n",
      "\n",
      "    accuracy                           0.92     13818\n",
      "   macro avg       0.76      0.73      0.74     13818\n",
      "weighted avg       0.92      0.92      0.92     13818\n",
      "\n"
     ]
    }
   ],
   "source": [
    "y_hat_3 = tfidf_best_lr_pipe_2.predict(test_token_docs_2)\n",
    "print(classification_report(y_pred = y_hat_3, y_true = y_test))"
   ]
  },
  {
   "cell_type": "markdown",
   "metadata": {},
   "source": [
    "## Grid Search Pipeline on Count Vectorizer with Logistic Regression"
   ]
  },
  {
   "cell_type": "code",
   "execution_count": 24,
   "metadata": {},
   "outputs": [],
   "source": [
    "cv_lr_pipe_2 = Pipeline([\n",
    "    ('cv', CountVectorizer()),\n",
    "    ('SMOTE', SMOTE(n_jobs = -1)),\n",
    "    ('lr', LogisticRegression())\n",
    "])"
   ]
  },
  {
   "cell_type": "code",
   "execution_count": 27,
   "metadata": {},
   "outputs": [
    {
     "data": {
      "text/plain": [
       "Pipeline(steps=[('cv', CountVectorizer()), ('SMOTE', SMOTE(n_jobs=-1)),\n",
       "                ('lr', LogisticRegression())])"
      ]
     },
     "execution_count": 27,
     "metadata": {},
     "output_type": "execute_result"
    }
   ],
   "source": [
    "cv_lr_pipe_2.fit(token_docs_2, y_train)"
   ]
  },
  {
   "cell_type": "code",
   "execution_count": 28,
   "metadata": {},
   "outputs": [],
   "source": [
    "gs_cv_lr_2 = GridSearchCV(cv_lr_pipe_2,\n",
    "                            param_grid=cv_lr_params, \n",
    "                            cv = 3, \n",
    "                            verbose = 1,\n",
    "                            n_jobs = -1)"
   ]
  },
  {
   "cell_type": "code",
   "execution_count": 29,
   "metadata": {},
   "outputs": [
    {
     "name": "stdout",
     "output_type": "stream",
     "text": [
      "Fitting 3 folds for each of 324 candidates, totalling 972 fits\n"
     ]
    },
    {
     "data": {
      "text/plain": [
       "GridSearchCV(cv=3,\n",
       "             estimator=Pipeline(steps=[('cv', CountVectorizer()),\n",
       "                                       ('SMOTE', SMOTE(n_jobs=-1)),\n",
       "                                       ('lr', LogisticRegression())]),\n",
       "             n_jobs=-1,\n",
       "             param_grid={'SMOTE__sampling_strategy': ['auto', 0.75, 0.9],\n",
       "                         'cv__binary': [False, True],\n",
       "                         'cv__max_features': [None, 27000, 10000],\n",
       "                         'cv__ngram_range': [(1, 1), (1, 2), (2, 2)],\n",
       "                         'lr__C': array([1.e-03, 1.e+00, 1.e+03]),\n",
       "                         'lr__penalty': ['l1', 'l2']},\n",
       "             verbose=1)"
      ]
     },
     "execution_count": 29,
     "metadata": {},
     "output_type": "execute_result"
    }
   ],
   "source": [
    "gs_cv_lr_2.fit(token_docs_2, y_train)"
   ]
  },
  {
   "cell_type": "code",
   "execution_count": 30,
   "metadata": {},
   "outputs": [
    {
     "data": {
      "text/plain": [
       "0.9203922398819521"
      ]
     },
     "execution_count": 30,
     "metadata": {},
     "output_type": "execute_result"
    }
   ],
   "source": [
    "gs_cv_lr_2.best_score_"
   ]
  },
  {
   "cell_type": "code",
   "execution_count": 31,
   "metadata": {},
   "outputs": [
    {
     "data": {
      "text/plain": [
       "Pipeline(steps=[('cv',\n",
       "                 CountVectorizer(binary=True, max_features=27000,\n",
       "                                 ngram_range=(2, 2))),\n",
       "                ('SMOTE', SMOTE(n_jobs=-1, sampling_strategy=0.9)),\n",
       "                ('lr', LogisticRegression(C=0.001))])"
      ]
     },
     "execution_count": 31,
     "metadata": {},
     "output_type": "execute_result"
    }
   ],
   "source": [
    "gs_cv_lr_2.best_estimator_"
   ]
  },
  {
   "cell_type": "code",
   "execution_count": 32,
   "metadata": {},
   "outputs": [
    {
     "data": {
      "text/plain": [
       "{'SMOTE__sampling_strategy': 0.9,\n",
       " 'cv__binary': True,\n",
       " 'cv__max_features': 27000,\n",
       " 'cv__ngram_range': (2, 2),\n",
       " 'lr__C': 0.001,\n",
       " 'lr__penalty': 'l2'}"
      ]
     },
     "execution_count": 32,
     "metadata": {},
     "output_type": "execute_result"
    }
   ],
   "source": [
    "gs_cv_lr_2.best_params_"
   ]
  },
  {
   "cell_type": "markdown",
   "metadata": {},
   "source": [
    "## Best Logistic Regression Model with Count Vectorizer"
   ]
  },
  {
   "cell_type": "code",
   "execution_count": 34,
   "metadata": {},
   "outputs": [],
   "source": [
    "cv_best_lr_pipe_2 = Pipeline([\n",
    "    ('cv', CountVectorizer(max_features = 27000, ngram_range = (2,2), binary = True)),\n",
    "    ('SMOTE', SMOTE(n_jobs = -1, sampling_strategy = 0.9)),\n",
    "    ('lr', LogisticRegression(C = 0.001, penalty = 'l2'))\n",
    "])"
   ]
  },
  {
   "cell_type": "code",
   "execution_count": 35,
   "metadata": {},
   "outputs": [
    {
     "data": {
      "text/plain": [
       "Pipeline(steps=[('cv',\n",
       "                 CountVectorizer(binary=True, max_features=27000,\n",
       "                                 ngram_range=(2, 2))),\n",
       "                ('SMOTE', SMOTE(n_jobs=-1, sampling_strategy=0.9)),\n",
       "                ('lr', LogisticRegression(C=0.001))])"
      ]
     },
     "execution_count": 35,
     "metadata": {},
     "output_type": "execute_result"
    }
   ],
   "source": [
    "cv_best_lr_pipe_2.fit(token_docs_2, y_train)"
   ]
  },
  {
   "cell_type": "code",
   "execution_count": 36,
   "metadata": {},
   "outputs": [
    {
     "data": {
      "text/plain": [
       "0.9208988438783449"
      ]
     },
     "execution_count": 36,
     "metadata": {},
     "output_type": "execute_result"
    }
   ],
   "source": [
    "cv_best_lr_pipe_2.score(token_docs_2, y_train)"
   ]
  },
  {
   "cell_type": "code",
   "execution_count": 37,
   "metadata": {},
   "outputs": [
    {
     "data": {
      "text/plain": [
       "array([0.92057892, 0.92002895, 0.9191243 , 0.92039081, 0.92048127])"
      ]
     },
     "execution_count": 37,
     "metadata": {},
     "output_type": "execute_result"
    }
   ],
   "source": [
    "cross_val_score(cv_best_lr_pipe_2, token_docs_2, y_train, cv = 5)"
   ]
  },
  {
   "cell_type": "code",
   "execution_count": 38,
   "metadata": {},
   "outputs": [
    {
     "data": {
      "text/plain": [
       "0.9197423650311188"
      ]
     },
     "execution_count": 38,
     "metadata": {},
     "output_type": "execute_result"
    }
   ],
   "source": [
    "cv_best_lr_pipe_2.score(test_token_docs_2, y_test)"
   ]
  },
  {
   "cell_type": "code",
   "execution_count": 39,
   "metadata": {},
   "outputs": [
    {
     "data": {
      "text/plain": [
       "<sklearn.metrics._plot.confusion_matrix.ConfusionMatrixDisplay at 0x7f408f024630>"
      ]
     },
     "execution_count": 39,
     "metadata": {},
     "output_type": "execute_result"
    },
    {
     "data": {
      "image/png": "[encoded data removed]",
      "text/plain": [
       "<Figure size 432x288 with 2 Axes>"
      ]
     },
     "metadata": {
      "needs_background": "light"
     },
     "output_type": "display_data"
    }
   ],
   "source": [
    "plot_confusion_matrix(cv_best_lr_pipe_2, test_token_docs_2, y_test)"
   ]
  },
  {
   "cell_type": "code",
   "execution_count": 40,
   "metadata": {},
   "outputs": [
    {
     "data": {
      "text/plain": [
       "<sklearn.metrics._plot.roc_curve.RocCurveDisplay at 0x7f407f05c6a0>"
      ]
     },
     "execution_count": 40,
     "metadata": {},
     "output_type": "execute_result"
    },
    {
     "data": {
      "image/png": "[encoded data removed]",
      "text/plain": [
       "<Figure size 432x288 with 1 Axes>"
      ]
     },
     "metadata": {
      "needs_background": "light"
     },
     "output_type": "display_data"
    }
   ],
   "source": [
    "plot_roc_curve(cv_best_lr_pipe_2, test_token_docs_2, y_test)"
   ]
  },
  {
   "cell_type": "code",
   "execution_count": 41,
   "metadata": {},
   "outputs": [
    {
     "name": "stdout",
     "output_type": "stream",
     "text": [
      "              precision    recall  f1-score   support\n",
      "\n",
      "           0       0.92      1.00      0.96     12643\n",
      "           1       0.70      0.10      0.17      1175\n",
      "\n",
      "    accuracy                           0.92     13818\n",
      "   macro avg       0.81      0.55      0.57     13818\n",
      "weighted avg       0.90      0.92      0.89     13818\n",
      "\n"
     ]
    }
   ],
   "source": [
    "y_hat_4 = cv_best_lr_pipe_2.predict(test_token_docs_2)\n",
    "print(classification_report(y_pred = y_hat_4, y_true = y_test))"
   ]
  },
  {
   "cell_type": "code",
   "execution_count": null,
   "metadata": {},
   "outputs": [],
   "source": []
  }
 ],
 "metadata": {
  "colab": {
   "name": "Logistic Regression Classifier.ipynb",
   "provenance": []
  },
  "kernelspec": {
   "display_name": "conda_python3",
   "language": "python",
   "name": "conda_python3"
  },
  "language_info": {
   "codemirror_mode": {
    "name": "ipython",
    "version": 3
   },
   "file_extension": ".py",
   "mimetype": "text/x-python",
   "name": "python",
   "nbconvert_exporter": "python",
   "pygments_lexer": "ipython3",
   "version": "3.6.13"
  }
 },
 "nbformat": 4,
 "nbformat_minor": 1
}

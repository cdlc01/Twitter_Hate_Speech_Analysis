{
 "cells": [
  {
   "cell_type": "markdown",
   "id": "7cdca1c4",
   "metadata": {},
   "source": [
    "# Decision Tree Classifier"
   ]
  },
  {
   "cell_type": "markdown",
   "id": "f026546f",
   "metadata": {},
   "source": [
    "## Pull and Clean Datasets"
   ]
  },
  {
   "cell_type": "code",
   "execution_count": 1,
   "id": "aeae8a26",
   "metadata": {},
   "outputs": [],
   "source": [
    "import pandas as pd\n",
    "\n",
    "import warnings\n",
    "warnings.filterwarnings(\"ignore\")"
   ]
  },
  {
   "cell_type": "code",
   "execution_count": 2,
   "id": "856f4cac",
   "metadata": {},
   "outputs": [],
   "source": [
    "df_train = pd.read_csv('hate_speech_training.csv')\n",
    "df_train_2 = pd.read_csv('hate_speech_training_2.csv')\n",
    "df_train_3 = pd.read_csv('hate_speech_training_3.csv')\n",
    "df_train_4 = pd.read_csv('hate_speech_training_4.tsv', sep = '\\t')\n",
    "df_train_5 = pd.read_csv('hate_speech_training_5.csv')"
   ]
  },
  {
   "cell_type": "code",
   "execution_count": 3,
   "id": "60f5e92b",
   "metadata": {},
   "outputs": [],
   "source": [
    "df_train = df_train.drop('id', axis = 1) #0 = Not Hate Speech, 1 = Hate Speech"
   ]
  },
  {
   "cell_type": "code",
   "execution_count": 4,
   "id": "e1483a7b",
   "metadata": {},
   "outputs": [],
   "source": [
    "df_train_2 = df_train_2[['tweet', 'class']]\n",
    "df_train_2['class'] = df_train_2['class'].replace([0], 'hate speech')\n",
    "df_train_2['class'] = df_train_2['class'].replace([1, 2], 'not hate speech')\n",
    "df_train_2['class'] = df_train_2['class'].replace(['hate speech'], 1)\n",
    "df_train_2['class'] = df_train_2['class'].replace(['not hate speech'], 0)\n",
    "df_train_2.rename(columns = {'class': 'label'}, inplace = True) #0 = Not Hate Speech, 1 = Hate Speech"
   ]
  },
  {
   "cell_type": "code",
   "execution_count": 5,
   "id": "f4fc9dc8",
   "metadata": {},
   "outputs": [],
   "source": [
    "df_train_3 = df_train_3.drop('index', axis = 1) \n",
    "df_train_3.rename(columns = {'post': 'tweet'}, inplace = True) #0 = Not Hate Speech, 1 = Hate Speech"
   ]
  },
  {
   "cell_type": "code",
   "execution_count": 6,
   "id": "659b4b63",
   "metadata": {},
   "outputs": [],
   "source": [
    "df_train_4 = df_train_4[['text', 'HS']] \n",
    "df_train_4.rename(columns = {'text': 'tweet', 'HS': 'label'}, inplace = True) #0 = Not Hate Speech, 1 = Hate Speech"
   ]
  },
  {
   "cell_type": "code",
   "execution_count": 7,
   "id": "5c0fa7b8",
   "metadata": {},
   "outputs": [],
   "source": [
    "df_train_5['Label'] = df_train_5['Label'].replace(['Hate', 'Non-Asian Aggression'], 1)\n",
    "df_train_5['Label'] = df_train_5['Label'].replace(['Neutral', 'Counterhate'], 0) \n",
    "df_train_5.rename(columns = {'Text': 'tweet', 'Label': 'label'}, inplace = True) #0 = Not Hate Speech, 1 = Hate Speech"
   ]
  },
  {
   "cell_type": "code",
   "execution_count": 8,
   "id": "e588c3f2",
   "metadata": {},
   "outputs": [],
   "source": [
    "dfs = [df_train, df_train_2, df_train_3, df_train_4, df_train_5]\n",
    "df = pd.concat(dfs)"
   ]
  },
  {
   "cell_type": "markdown",
   "id": "8bf44920",
   "metadata": {},
   "source": [
    "## Train, Test, Split\n"
   ]
  },
  {
   "cell_type": "code",
   "execution_count": 9,
   "id": "9d1565c4",
   "metadata": {},
   "outputs": [],
   "source": [
    "from sklearn.model_selection import train_test_split"
   ]
  },
  {
   "cell_type": "code",
   "execution_count": 10,
   "id": "97781684",
   "metadata": {},
   "outputs": [],
   "source": [
    "X = df['tweet']\n",
    "y = df['label']\n",
    "X_train, X_test, y_train, y_test = train_test_split(X,\n",
    "                                                    y,\n",
    "                                                    random_state=3,\n",
    "                                                    test_size=0.20,\n",
    "                                                   stratify = y) #80/20 split"
   ]
  },
  {
   "cell_type": "markdown",
   "id": "6b4040d9",
   "metadata": {},
   "source": [
    "## NLP Cleaning"
   ]
  },
  {
   "cell_type": "code",
   "execution_count": 11,
   "id": "c2f3149c",
   "metadata": {},
   "outputs": [],
   "source": [
    "import nltk\n",
    "from nltk.tokenize import RegexpTokenizer\n",
    "from nltk.corpus import stopwords, wordnet\n",
    "from nltk import pos_tag\n",
    "from nltk.stem import WordNetLemmatizer"
   ]
  },
  {
   "cell_type": "code",
   "execution_count": 12,
   "id": "bcdc9f02",
   "metadata": {},
   "outputs": [
    {
     "name": "stderr",
     "output_type": "stream",
     "text": [
      "[nltk_data] Downloading package averaged_perceptron_tagger to\n",
      "[nltk_data]     /home/ec2-user/nltk_data...\n",
      "[nltk_data]   Package averaged_perceptron_tagger is already up-to-\n",
      "[nltk_data]       date!\n"
     ]
    },
    {
     "data": {
      "text/plain": [
       "True"
      ]
     },
     "execution_count": 12,
     "metadata": {},
     "output_type": "execute_result"
    }
   ],
   "source": [
    "nltk.download('averaged_perceptron_tagger')"
   ]
  },
  {
   "cell_type": "code",
   "execution_count": 13,
   "id": "db1b6609",
   "metadata": {},
   "outputs": [
    {
     "name": "stderr",
     "output_type": "stream",
     "text": [
      "[nltk_data] Downloading package wordnet to /home/ec2-user/nltk_data...\n",
      "[nltk_data]   Package wordnet is already up-to-date!\n"
     ]
    },
    {
     "data": {
      "text/plain": [
       "True"
      ]
     },
     "execution_count": 13,
     "metadata": {},
     "output_type": "execute_result"
    }
   ],
   "source": [
    "nltk.download('wordnet')"
   ]
  },
  {
   "cell_type": "code",
   "execution_count": 14,
   "id": "c901f048",
   "metadata": {},
   "outputs": [],
   "source": [
    "sw = stopwords.words('english')\n",
    "sw_add = ['@user', '#', '@', 'https', 'amp', 'co', \n",
    "          'http', 'RT', '#','##','####','######','##########','##@user']\n",
    "sw = sw + sw_add"
   ]
  },
  {
   "cell_type": "code",
   "execution_count": 15,
   "id": "78cc02d5",
   "metadata": {},
   "outputs": [],
   "source": [
    "def get_wordnet_pos(treebank_tag):\n",
    "    \n",
    "    if treebank_tag.startswith('J'):\n",
    "        return wordnet.ADJ\n",
    "    elif treebank_tag.startswith('V'):\n",
    "        return wordnet.VERB\n",
    "    elif treebank_tag.startswith('N'):\n",
    "        return wordnet.NOUN\n",
    "    elif treebank_tag.startswith('R'):\n",
    "        return wordnet.ADV\n",
    "    else:\n",
    "        return wordnet.NOUN"
   ]
  },
  {
   "cell_type": "code",
   "execution_count": 16,
   "id": "5a1c6d6f",
   "metadata": {},
   "outputs": [],
   "source": [
    "def doc_preparer(doc, stop_words=sw):\n",
    " \n",
    "    regex_token = RegexpTokenizer(r\"([@#a-zA-Z]+(?:’[a-z]+)?)\")\n",
    "    doc = regex_token.tokenize(doc)\n",
    "    doc = [word.lower() for word in doc]\n",
    "    doc = [word for word in doc if word not in sw]\n",
    "    doc = pos_tag(doc)\n",
    "    doc = [(word[0], get_wordnet_pos(word[1])) for word in doc]\n",
    "    lemmatizer = WordNetLemmatizer() \n",
    "    doc = [lemmatizer.lemmatize(word[0], word[1]) for word in doc]\n",
    "    return ' '.join(doc)"
   ]
  },
  {
   "cell_type": "code",
   "execution_count": 17,
   "id": "8ac9015b",
   "metadata": {},
   "outputs": [],
   "source": [
    "token_docs = [doc_preparer(doc, sw) for doc in X_train]\n",
    "test_token_docs = [doc_preparer(doc, sw) for doc in X_test]"
   ]
  },
  {
   "cell_type": "markdown",
   "id": "d1b9bb49",
   "metadata": {},
   "source": [
    "## Grid Search Pipeline for TF-IDF on Decision Tree Classifier"
   ]
  },
  {
   "cell_type": "code",
   "execution_count": 18,
   "id": "7c3d5fd8",
   "metadata": {},
   "outputs": [],
   "source": [
    "from imblearn.over_sampling import SMOTE\n",
    "from imblearn.pipeline import Pipeline\n",
    "from sklearn.tree import DecisionTreeClassifier\n",
    "\n",
    "from sklearn.feature_extraction.text import TfidfVectorizer, CountVectorizer"
   ]
  },
  {
   "cell_type": "code",
   "execution_count": 19,
   "id": "1ae6b337",
   "metadata": {},
   "outputs": [
    {
     "name": "stderr",
     "output_type": "stream",
     "text": [
      "[nltk_data] Downloading package stopwords to\n",
      "[nltk_data]     /home/ec2-user/nltk_data...\n",
      "[nltk_data]   Package stopwords is already up-to-date!\n"
     ]
    },
    {
     "data": {
      "text/plain": [
       "True"
      ]
     },
     "execution_count": 19,
     "metadata": {},
     "output_type": "execute_result"
    }
   ],
   "source": [
    "nltk.download('stopwords')"
   ]
  },
  {
   "cell_type": "code",
   "execution_count": 27,
   "id": "eeac8ffb",
   "metadata": {},
   "outputs": [],
   "source": [
    "tfidf_dtc_pipeline = Pipeline([\n",
    "    ('tfidf', TfidfVectorizer()),\n",
    "    ('SMOTE', SMOTE(n_jobs = -1)),\n",
    "    ('dtc', DecisionTreeClassifier())\n",
    "])"
   ]
  },
  {
   "cell_type": "code",
   "execution_count": 28,
   "id": "699c5f47",
   "metadata": {},
   "outputs": [
    {
     "data": {
      "text/plain": [
       "Pipeline(steps=[('tfidf', TfidfVectorizer()), ('SMOTE', SMOTE(n_jobs=-1)),\n",
       "                ('dtc', DecisionTreeClassifier())])"
      ]
     },
     "execution_count": 28,
     "metadata": {},
     "output_type": "execute_result"
    }
   ],
   "source": [
    "tfidf_dtc_pipeline.fit(token_docs, y_train)"
   ]
  },
  {
   "cell_type": "code",
   "execution_count": 18,
   "id": "6ca193ee",
   "metadata": {},
   "outputs": [],
   "source": [
    "tfidf_dtc_params = {\n",
    "    'tfidf__max_features':[None, 27_000, 10_000],\n",
    "    'tfidf__ngram_range':[(1,1), (1,2), (2,2)],\n",
    "    'SMOTE__sampling_strategy':['auto', .75, .9],\n",
    "    'dtc__criterion': ['gini', 'entropy'],\n",
    "    'dtc__max_depth': [1, 5, 9]\n",
    "}"
   ]
  },
  {
   "cell_type": "code",
   "execution_count": 20,
   "id": "2b06c541",
   "metadata": {},
   "outputs": [],
   "source": [
    "from sklearn.model_selection import GridSearchCV"
   ]
  },
  {
   "cell_type": "code",
   "execution_count": 32,
   "id": "f1469a98",
   "metadata": {},
   "outputs": [],
   "source": [
    "gs_tfidf_dtc = GridSearchCV(tfidf_dtc_pipeline,\n",
    "                            param_grid=tfidf_dtc_params, \n",
    "                            cv = 3, \n",
    "                            verbose = 1,\n",
    "                            n_jobs = -1)"
   ]
  },
  {
   "cell_type": "code",
   "execution_count": 33,
   "id": "34afe1a6",
   "metadata": {},
   "outputs": [
    {
     "name": "stdout",
     "output_type": "stream",
     "text": [
      "Fitting 3 folds for each of 162 candidates, totalling 486 fits\n"
     ]
    },
    {
     "data": {
      "text/plain": [
       "GridSearchCV(cv=3,\n",
       "             estimator=Pipeline(steps=[('tfidf', TfidfVectorizer()),\n",
       "                                       ('SMOTE', SMOTE(n_jobs=-1)),\n",
       "                                       ('dtc', DecisionTreeClassifier())]),\n",
       "             n_jobs=-1,\n",
       "             param_grid={'SMOTE__sampling_strategy': ['auto', 0.75, 0.9],\n",
       "                         'dtc__criterion': ['gini', 'entropy'],\n",
       "                         'dtc__max_depth': [1, 5, 9],\n",
       "                         'tfidf__max_features': [None, 27000, 10000],\n",
       "                         'tfidf__ngram_range': [(1, 1), (1, 2), (2, 2)]},\n",
       "             verbose=1)"
      ]
     },
     "execution_count": 33,
     "metadata": {},
     "output_type": "execute_result"
    }
   ],
   "source": [
    "gs_tfidf_dtc.fit(token_docs, y_train)"
   ]
  },
  {
   "cell_type": "code",
   "execution_count": 34,
   "id": "c8912d77",
   "metadata": {},
   "outputs": [
    {
     "data": {
      "text/plain": [
       "0.9185829937652978"
      ]
     },
     "execution_count": 34,
     "metadata": {},
     "output_type": "execute_result"
    }
   ],
   "source": [
    "gs_tfidf_dtc.best_score_"
   ]
  },
  {
   "cell_type": "code",
   "execution_count": 35,
   "id": "6bcf9e04",
   "metadata": {},
   "outputs": [
    {
     "data": {
      "text/plain": [
       "Pipeline(steps=[('tfidf',\n",
       "                 TfidfVectorizer(max_features=10000, ngram_range=(2, 2))),\n",
       "                ('SMOTE', SMOTE(n_jobs=-1, sampling_strategy=0.75)),\n",
       "                ('dtc',\n",
       "                 DecisionTreeClassifier(criterion='entropy', max_depth=9))])"
      ]
     },
     "execution_count": 35,
     "metadata": {},
     "output_type": "execute_result"
    }
   ],
   "source": [
    "gs_tfidf_dtc.best_estimator_"
   ]
  },
  {
   "cell_type": "code",
   "execution_count": 36,
   "id": "f79507f8",
   "metadata": {},
   "outputs": [
    {
     "data": {
      "text/plain": [
       "{'SMOTE__sampling_strategy': 0.75,\n",
       " 'dtc__criterion': 'entropy',\n",
       " 'dtc__max_depth': 9,\n",
       " 'tfidf__max_features': 10000,\n",
       " 'tfidf__ngram_range': (2, 2)}"
      ]
     },
     "execution_count": 36,
     "metadata": {},
     "output_type": "execute_result"
    }
   ],
   "source": [
    "gs_tfidf_dtc.best_params_"
   ]
  },
  {
   "cell_type": "markdown",
   "id": "c3ac9c25",
   "metadata": {},
   "source": [
    "## Optimized Decision Tree Model w/ TF-IDF"
   ]
  },
  {
   "cell_type": "code",
   "execution_count": 21,
   "id": "c706ebd5",
   "metadata": {},
   "outputs": [],
   "source": [
    "tfidf_best_dtc_pipeline = Pipeline([\n",
    "    ('tfidf', TfidfVectorizer(max_features = 10_000, ngram_range = (2,2))),\n",
    "    ('SMOTE', SMOTE(n_jobs = -1, sampling_strategy = 0.75)),\n",
    "    ('dtc', DecisionTreeClassifier(criterion = 'entropy', max_depth = 9))\n",
    "])"
   ]
  },
  {
   "cell_type": "code",
   "execution_count": 22,
   "id": "b7ea2629",
   "metadata": {},
   "outputs": [
    {
     "data": {
      "text/plain": [
       "Pipeline(steps=[('tfidf',\n",
       "                 TfidfVectorizer(max_features=10000, ngram_range=(2, 2))),\n",
       "                ('SMOTE', SMOTE(n_jobs=-1, sampling_strategy=0.75)),\n",
       "                ('dtc',\n",
       "                 DecisionTreeClassifier(criterion='entropy', max_depth=9))])"
      ]
     },
     "execution_count": 22,
     "metadata": {},
     "output_type": "execute_result"
    }
   ],
   "source": [
    "tfidf_best_dtc_pipeline.fit(token_docs, y_train)"
   ]
  },
  {
   "cell_type": "code",
   "execution_count": 39,
   "id": "3228175d",
   "metadata": {},
   "outputs": [
    {
     "data": {
      "text/plain": [
       "0.9192162255070471"
      ]
     },
     "execution_count": 39,
     "metadata": {},
     "output_type": "execute_result"
    }
   ],
   "source": [
    "tfidf_best_dtc_pipeline.score(token_docs, y_train)"
   ]
  },
  {
   "cell_type": "code",
   "execution_count": 23,
   "id": "6666c79c",
   "metadata": {},
   "outputs": [],
   "source": [
    "from sklearn.model_selection import cross_val_score"
   ]
  },
  {
   "cell_type": "code",
   "execution_count": 41,
   "id": "57958c6f",
   "metadata": {},
   "outputs": [
    {
     "data": {
      "text/plain": [
       "array([0.91813659, 0.91867197, 0.91749593, 0.91939569, 0.91903383])"
      ]
     },
     "execution_count": 41,
     "metadata": {},
     "output_type": "execute_result"
    }
   ],
   "source": [
    "cross_val_score(tfidf_best_dtc_pipeline, token_docs, y_train, cv = 5)"
   ]
  },
  {
   "cell_type": "code",
   "execution_count": 24,
   "id": "9dfa8257",
   "metadata": {},
   "outputs": [],
   "source": [
    "from sklearn.metrics import plot_confusion_matrix, plot_roc_curve, classification_report"
   ]
  },
  {
   "cell_type": "code",
   "execution_count": 43,
   "id": "3c84c595",
   "metadata": {},
   "outputs": [
    {
     "data": {
      "text/plain": [
       "0.9180055000723694"
      ]
     },
     "execution_count": 43,
     "metadata": {},
     "output_type": "execute_result"
    }
   ],
   "source": [
    "tfidf_best_dtc_pipeline.score(test_token_docs, y_test)"
   ]
  },
  {
   "cell_type": "code",
   "execution_count": 44,
   "id": "901bf9c7",
   "metadata": {},
   "outputs": [
    {
     "data": {
      "text/plain": [
       "<sklearn.metrics._plot.confusion_matrix.ConfusionMatrixDisplay at 0x7fcef6133518>"
      ]
     },
     "execution_count": 44,
     "metadata": {},
     "output_type": "execute_result"
    },
    {
     "data": {
      "image/png": "[encoded data removed]",
      "text/plain": [
       "<Figure size 432x288 with 2 Axes>"
      ]
     },
     "metadata": {
      "needs_background": "light"
     },
     "output_type": "display_data"
    }
   ],
   "source": [
    "plot_confusion_matrix(tfidf_best_dtc_pipeline, test_token_docs, y_test)"
   ]
  },
  {
   "cell_type": "code",
   "execution_count": 45,
   "id": "59635f84",
   "metadata": {},
   "outputs": [
    {
     "data": {
      "text/plain": [
       "<sklearn.metrics._plot.roc_curve.RocCurveDisplay at 0x7fceef643e80>"
      ]
     },
     "execution_count": 45,
     "metadata": {},
     "output_type": "execute_result"
    },
    {
     "data": {
      "image/png": "[encoded data removed]",
      "text/plain": [
       "<Figure size 432x288 with 1 Axes>"
      ]
     },
     "metadata": {
      "needs_background": "light"
     },
     "output_type": "display_data"
    }
   ],
   "source": [
    "plot_roc_curve(tfidf_best_dtc_pipeline, test_token_docs, y_test)"
   ]
  },
  {
   "cell_type": "code",
   "execution_count": 46,
   "id": "3e82578a",
   "metadata": {},
   "outputs": [
    {
     "name": "stdout",
     "output_type": "stream",
     "text": [
      "              precision    recall  f1-score   support\n",
      "\n",
      "           0       0.92      1.00      0.96     12643\n",
      "           1       0.68      0.07      0.13      1175\n",
      "\n",
      "    accuracy                           0.92     13818\n",
      "   macro avg       0.80      0.53      0.54     13818\n",
      "weighted avg       0.90      0.92      0.89     13818\n",
      "\n"
     ]
    }
   ],
   "source": [
    "y_hat = tfidf_best_dtc_pipeline.predict(test_token_docs)\n",
    "print(classification_report(y_pred = y_hat, y_true = y_test))"
   ]
  },
  {
   "cell_type": "markdown",
   "id": "6e0a65fd",
   "metadata": {},
   "source": [
    "## Grid Search Pipeline for Count Vectorizer on Decision Tree Classifier"
   ]
  },
  {
   "cell_type": "code",
   "execution_count": 49,
   "id": "265af1cf",
   "metadata": {},
   "outputs": [],
   "source": [
    "cv_dtc_pipeline = Pipeline([\n",
    "    ('cv', CountVectorizer()),\n",
    "    ('SMOTE', SMOTE(n_jobs = -1)),\n",
    "    ('dtc', DecisionTreeClassifier())\n",
    "])"
   ]
  },
  {
   "cell_type": "code",
   "execution_count": 50,
   "id": "138eeacb",
   "metadata": {},
   "outputs": [
    {
     "data": {
      "text/plain": [
       "Pipeline(steps=[('cv', CountVectorizer()), ('SMOTE', SMOTE(n_jobs=-1)),\n",
       "                ('dtc', DecisionTreeClassifier())])"
      ]
     },
     "execution_count": 50,
     "metadata": {},
     "output_type": "execute_result"
    }
   ],
   "source": [
    "cv_dtc_pipeline.fit(token_docs, y_train)"
   ]
  },
  {
   "cell_type": "code",
   "execution_count": 22,
   "id": "512a07e9",
   "metadata": {},
   "outputs": [],
   "source": [
    "cv_dtc_params = {\n",
    "    'cv__max_features':[None, 27_000, 10_000],\n",
    "    'cv__ngram_range':[(1,1), (1,2), (2,2)],\n",
    "    'SMOTE__sampling_strategy':['auto', .75, .9],\n",
    "    'dtc__criterion': ['gini', 'entropy'],\n",
    "    'dtc__max_depth': [1, 5, 9]\n",
    "}"
   ]
  },
  {
   "cell_type": "code",
   "execution_count": 52,
   "id": "546ff7a3",
   "metadata": {},
   "outputs": [],
   "source": [
    "gs_cv_dtc = GridSearchCV(cv_dtc_pipeline,\n",
    "                            param_grid=cv_dtc_params, \n",
    "                            cv = 3, \n",
    "                            verbose = 1,\n",
    "                            n_jobs = -1)"
   ]
  },
  {
   "cell_type": "code",
   "execution_count": 53,
   "id": "0d532afc",
   "metadata": {},
   "outputs": [
    {
     "name": "stdout",
     "output_type": "stream",
     "text": [
      "Fitting 3 folds for each of 162 candidates, totalling 486 fits\n"
     ]
    },
    {
     "data": {
      "text/plain": [
       "GridSearchCV(cv=3,\n",
       "             estimator=Pipeline(steps=[('cv', CountVectorizer()),\n",
       "                                       ('SMOTE', SMOTE(n_jobs=-1)),\n",
       "                                       ('dtc', DecisionTreeClassifier())]),\n",
       "             n_jobs=-1,\n",
       "             param_grid={'SMOTE__sampling_strategy': ['auto', 0.75, 0.9],\n",
       "                         'cv__max_features': [None, 27000, 10000],\n",
       "                         'cv__ngram_range': [(1, 1), (1, 2), (2, 2)],\n",
       "                         'dtc__criterion': ['gini', 'entropy'],\n",
       "                         'dtc__max_depth': [1, 5, 9]},\n",
       "             verbose=1)"
      ]
     },
     "execution_count": 53,
     "metadata": {},
     "output_type": "execute_result"
    }
   ],
   "source": [
    "gs_cv_dtc.fit(token_docs, y_train)"
   ]
  },
  {
   "cell_type": "code",
   "execution_count": 54,
   "id": "d692ccbd",
   "metadata": {},
   "outputs": [
    {
     "data": {
      "text/plain": [
       "0.9182935005593414"
      ]
     },
     "execution_count": 54,
     "metadata": {},
     "output_type": "execute_result"
    }
   ],
   "source": [
    "gs_cv_dtc.best_score_"
   ]
  },
  {
   "cell_type": "code",
   "execution_count": 55,
   "id": "c02c647c",
   "metadata": {},
   "outputs": [
    {
     "data": {
      "text/plain": [
       "Pipeline(steps=[('cv', CountVectorizer(max_features=27000, ngram_range=(2, 2))),\n",
       "                ('SMOTE', SMOTE(n_jobs=-1, sampling_strategy=0.75)),\n",
       "                ('dtc', DecisionTreeClassifier(max_depth=9))])"
      ]
     },
     "execution_count": 55,
     "metadata": {},
     "output_type": "execute_result"
    }
   ],
   "source": [
    "gs_cv_dtc.best_estimator_"
   ]
  },
  {
   "cell_type": "code",
   "execution_count": 57,
   "id": "aa94c3ed",
   "metadata": {},
   "outputs": [
    {
     "data": {
      "text/plain": [
       "{'SMOTE__sampling_strategy': 0.75,\n",
       " 'cv__max_features': 27000,\n",
       " 'cv__ngram_range': (2, 2),\n",
       " 'dtc__criterion': 'gini',\n",
       " 'dtc__max_depth': 9}"
      ]
     },
     "execution_count": 57,
     "metadata": {},
     "output_type": "execute_result"
    }
   ],
   "source": [
    "gs_cv_dtc.best_params_"
   ]
  },
  {
   "cell_type": "markdown",
   "id": "f213f2e4",
   "metadata": {},
   "source": [
    "## Best Possible Decision Tree Model for Count Vectorizer"
   ]
  },
  {
   "cell_type": "code",
   "execution_count": 25,
   "id": "9426e493",
   "metadata": {},
   "outputs": [],
   "source": [
    "cv_best_dtc_pipeline = Pipeline([\n",
    "    ('cv', CountVectorizer(max_features = 27_000, ngram_range =(2,2))),\n",
    "    ('SMOTE', SMOTE(n_jobs = -1, sampling_strategy = 0.75)),\n",
    "    ('dtc', DecisionTreeClassifier(criterion = 'gini', max_depth = 9))\n",
    "])"
   ]
  },
  {
   "cell_type": "code",
   "execution_count": 26,
   "id": "5a7c1f80",
   "metadata": {},
   "outputs": [
    {
     "data": {
      "text/plain": [
       "Pipeline(steps=[('cv', CountVectorizer(max_features=27000, ngram_range=(2, 2))),\n",
       "                ('SMOTE', SMOTE(n_jobs=-1, sampling_strategy=0.75)),\n",
       "                ('dtc', DecisionTreeClassifier(max_depth=9))])"
      ]
     },
     "execution_count": 26,
     "metadata": {},
     "output_type": "execute_result"
    }
   ],
   "source": [
    "cv_best_dtc_pipeline.fit(token_docs, y_train)"
   ]
  },
  {
   "cell_type": "code",
   "execution_count": 60,
   "id": "0cc22fe5",
   "metadata": {},
   "outputs": [
    {
     "data": {
      "text/plain": [
       "0.9191438548244106"
      ]
     },
     "execution_count": 60,
     "metadata": {},
     "output_type": "execute_result"
    }
   ],
   "source": [
    "cv_best_dtc_pipeline.score(token_docs, y_train)"
   ]
  },
  {
   "cell_type": "code",
   "execution_count": 61,
   "id": "9297f9aa",
   "metadata": {},
   "outputs": [
    {
     "data": {
      "text/plain": [
       "array([0.91876979, 0.91840058, 0.91767686, 0.91921476, 0.91867197])"
      ]
     },
     "execution_count": 61,
     "metadata": {},
     "output_type": "execute_result"
    }
   ],
   "source": [
    "cross_val_score(cv_best_dtc_pipeline, token_docs, y_train, cv = 5)"
   ]
  },
  {
   "cell_type": "code",
   "execution_count": 62,
   "id": "72e3b98b",
   "metadata": {},
   "outputs": [
    {
     "data": {
      "text/plain": [
       "0.917571283832682"
      ]
     },
     "execution_count": 62,
     "metadata": {},
     "output_type": "execute_result"
    }
   ],
   "source": [
    "cv_best_dtc_pipeline.score(test_token_docs, y_test)"
   ]
  },
  {
   "cell_type": "code",
   "execution_count": 63,
   "id": "baab4846",
   "metadata": {},
   "outputs": [
    {
     "data": {
      "text/plain": [
       "<sklearn.metrics._plot.confusion_matrix.ConfusionMatrixDisplay at 0x7fcee504c940>"
      ]
     },
     "execution_count": 63,
     "metadata": {},
     "output_type": "execute_result"
    },
    {
     "data": {
      "image/png": "[encoded data removed]",
      "text/plain": [
       "<Figure size 432x288 with 2 Axes>"
      ]
     },
     "metadata": {
      "needs_background": "light"
     },
     "output_type": "display_data"
    }
   ],
   "source": [
    "plot_confusion_matrix(cv_best_dtc_pipeline, test_token_docs, y_test)"
   ]
  },
  {
   "cell_type": "code",
   "execution_count": 65,
   "id": "d60de3cf",
   "metadata": {},
   "outputs": [
    {
     "data": {
      "text/plain": [
       "<sklearn.metrics._plot.roc_curve.RocCurveDisplay at 0x7fcee7a76da0>"
      ]
     },
     "execution_count": 65,
     "metadata": {},
     "output_type": "execute_result"
    },
    {
     "data": {
      "image/png": "[encoded data removed]",
      "text/plain": [
       "<Figure size 432x288 with 1 Axes>"
      ]
     },
     "metadata": {
      "needs_background": "light"
     },
     "output_type": "display_data"
    }
   ],
   "source": [
    "plot_roc_curve(cv_best_dtc_pipeline, test_token_docs, y_test)"
   ]
  },
  {
   "cell_type": "code",
   "execution_count": 28,
   "id": "219aec01",
   "metadata": {},
   "outputs": [
    {
     "name": "stdout",
     "output_type": "stream",
     "text": [
      "              precision    recall  f1-score   support\n",
      "\n",
      "           0       0.92      1.00      0.96     12643\n",
      "           1       0.67      0.06      0.12      1175\n",
      "\n",
      "    accuracy                           0.92     13818\n",
      "   macro avg       0.79      0.53      0.54     13818\n",
      "weighted avg       0.90      0.92      0.89     13818\n",
      "\n"
     ]
    }
   ],
   "source": [
    "y_hat_2 = cv_best_dtc_pipeline.predict(test_token_docs)\n",
    "print(classification_report(y_pred = y_hat_2, y_true = y_test))"
   ]
  },
  {
   "cell_type": "markdown",
   "id": "e0696ebe",
   "metadata": {},
   "source": [
    "## NLP Cleaning w/ Only Words (# and @ removed)"
   ]
  },
  {
   "cell_type": "code",
   "execution_count": 23,
   "id": "01d3c083",
   "metadata": {},
   "outputs": [],
   "source": [
    "def doc_preparer_2(doc, stop_words=sw):\n",
    " \n",
    "    regex_token = RegexpTokenizer(r\"([a-zA-Z]+(?:’[a-z]+)?)\")\n",
    "    doc = regex_token.tokenize(doc)\n",
    "    doc = [word.lower() for word in doc]\n",
    "    doc = [word for word in doc if word not in sw]\n",
    "    doc = pos_tag(doc)\n",
    "    doc = [(word[0], get_wordnet_pos(word[1])) for word in doc]\n",
    "    lemmatizer = WordNetLemmatizer() \n",
    "    doc = [lemmatizer.lemmatize(word[0], word[1]) for word in doc]\n",
    "    return ' '.join(doc)"
   ]
  },
  {
   "cell_type": "code",
   "execution_count": 24,
   "id": "ad0dabfd",
   "metadata": {},
   "outputs": [],
   "source": [
    "token_docs_2 = [doc_preparer_2(doc, sw) for doc in X_train]\n",
    "test_token_docs_2 = [doc_preparer_2(doc, sw) for doc in X_test]"
   ]
  },
  {
   "cell_type": "markdown",
   "id": "94e30c5e",
   "metadata": {},
   "source": [
    "## Pipeline Grid Search for TFIDF on Decision Tree Model"
   ]
  },
  {
   "cell_type": "code",
   "execution_count": 25,
   "id": "3b4d4210",
   "metadata": {},
   "outputs": [],
   "source": [
    "tfidf_dtc_pipeline_2 = Pipeline([\n",
    "    ('tfidf', TfidfVectorizer()),\n",
    "    ('SMOTE', SMOTE(n_jobs = -1)),\n",
    "    ('dtc', DecisionTreeClassifier())\n",
    "])"
   ]
  },
  {
   "cell_type": "code",
   "execution_count": 26,
   "id": "85462059",
   "metadata": {},
   "outputs": [
    {
     "data": {
      "text/plain": [
       "Pipeline(steps=[('tfidf', TfidfVectorizer()), ('SMOTE', SMOTE(n_jobs=-1)),\n",
       "                ('dtc', DecisionTreeClassifier())])"
      ]
     },
     "execution_count": 26,
     "metadata": {},
     "output_type": "execute_result"
    }
   ],
   "source": [
    "tfidf_dtc_pipeline_2.fit(token_docs_2, y_train)"
   ]
  },
  {
   "cell_type": "code",
   "execution_count": 27,
   "id": "5bded63a",
   "metadata": {},
   "outputs": [],
   "source": [
    "gs_tfidf_dtc_2 = GridSearchCV(tfidf_dtc_pipeline_2,\n",
    "                            param_grid=tfidf_dtc_params, \n",
    "                            cv = 3, \n",
    "                            verbose = 1,\n",
    "                            n_jobs = -1)"
   ]
  },
  {
   "cell_type": "code",
   "execution_count": 28,
   "id": "de09fb79",
   "metadata": {},
   "outputs": [
    {
     "name": "stdout",
     "output_type": "stream",
     "text": [
      "Fitting 3 folds for each of 162 candidates, totalling 486 fits\n"
     ]
    },
    {
     "data": {
      "text/plain": [
       "GridSearchCV(cv=3,\n",
       "             estimator=Pipeline(steps=[('tfidf', TfidfVectorizer()),\n",
       "                                       ('SMOTE', SMOTE(n_jobs=-1)),\n",
       "                                       ('dtc', DecisionTreeClassifier())]),\n",
       "             n_jobs=-1,\n",
       "             param_grid={'SMOTE__sampling_strategy': ['auto', 0.75, 0.9],\n",
       "                         'dtc__criterion': ['gini', 'entropy'],\n",
       "                         'dtc__max_depth': [1, 5, 9],\n",
       "                         'tfidf__max_features': [None, 27000, 10000],\n",
       "                         'tfidf__ngram_range': [(1, 1), (1, 2), (2, 2)]},\n",
       "             verbose=1)"
      ]
     },
     "execution_count": 28,
     "metadata": {},
     "output_type": "execute_result"
    }
   ],
   "source": [
    "gs_tfidf_dtc_2.fit(token_docs_2, y_train)"
   ]
  },
  {
   "cell_type": "code",
   "execution_count": 29,
   "id": "d04f5d86",
   "metadata": {},
   "outputs": [
    {
     "data": {
      "text/plain": [
       "0.9198494862772262"
      ]
     },
     "execution_count": 29,
     "metadata": {},
     "output_type": "execute_result"
    }
   ],
   "source": [
    "gs_tfidf_dtc_2.best_score_"
   ]
  },
  {
   "cell_type": "code",
   "execution_count": 30,
   "id": "21cb243f",
   "metadata": {},
   "outputs": [
    {
     "data": {
      "text/plain": [
       "Pipeline(steps=[('tfidf', TfidfVectorizer(ngram_range=(2, 2))),\n",
       "                ('SMOTE', SMOTE(n_jobs=-1)),\n",
       "                ('dtc', DecisionTreeClassifier(max_depth=9))])"
      ]
     },
     "execution_count": 30,
     "metadata": {},
     "output_type": "execute_result"
    }
   ],
   "source": [
    "gs_tfidf_dtc_2.best_estimator_"
   ]
  },
  {
   "cell_type": "code",
   "execution_count": 31,
   "id": "4e7ef8e9",
   "metadata": {},
   "outputs": [
    {
     "data": {
      "text/plain": [
       "{'SMOTE__sampling_strategy': 'auto',\n",
       " 'dtc__criterion': 'gini',\n",
       " 'dtc__max_depth': 9,\n",
       " 'tfidf__max_features': None,\n",
       " 'tfidf__ngram_range': (2, 2)}"
      ]
     },
     "execution_count": 31,
     "metadata": {},
     "output_type": "execute_result"
    }
   ],
   "source": [
    "gs_tfidf_dtc_2.best_params_"
   ]
  },
  {
   "cell_type": "markdown",
   "id": "1c814db0",
   "metadata": {},
   "source": [
    "## Best Decision Tree Model on TFIDF"
   ]
  },
  {
   "cell_type": "code",
   "execution_count": 32,
   "id": "e2b8076a",
   "metadata": {},
   "outputs": [],
   "source": [
    "tfidf_best_dtc_pipeline_2 = Pipeline([\n",
    "    ('tfidf', TfidfVectorizer(max_features = None, ngram_range = (2,2))),\n",
    "    ('SMOTE', SMOTE(n_jobs = -1)),\n",
    "    ('dtc', DecisionTreeClassifier(criterion = 'gini', max_depth = 9))\n",
    "])"
   ]
  },
  {
   "cell_type": "code",
   "execution_count": 33,
   "id": "a9f73a0d",
   "metadata": {},
   "outputs": [
    {
     "data": {
      "text/plain": [
       "Pipeline(steps=[('tfidf', TfidfVectorizer(ngram_range=(2, 2))),\n",
       "                ('SMOTE', SMOTE(n_jobs=-1)),\n",
       "                ('dtc', DecisionTreeClassifier(max_depth=9))])"
      ]
     },
     "execution_count": 33,
     "metadata": {},
     "output_type": "execute_result"
    }
   ],
   "source": [
    "tfidf_best_dtc_pipeline_2.fit(token_docs_2, y_train)"
   ]
  },
  {
   "cell_type": "code",
   "execution_count": 34,
   "id": "53c8e888",
   "metadata": {},
   "outputs": [
    {
     "data": {
      "text/plain": [
       "0.9202836930759349"
      ]
     },
     "execution_count": 34,
     "metadata": {},
     "output_type": "execute_result"
    }
   ],
   "source": [
    "tfidf_best_dtc_pipeline_2.score(token_docs_2, y_train)"
   ]
  },
  {
   "cell_type": "code",
   "execution_count": 35,
   "id": "ee39f613",
   "metadata": {},
   "outputs": [
    {
     "data": {
      "text/plain": [
       "array([0.92003618, 0.91966709, 0.91821965, 0.91930523, 0.92057174])"
      ]
     },
     "execution_count": 35,
     "metadata": {},
     "output_type": "execute_result"
    }
   ],
   "source": [
    "cross_val_score(tfidf_best_dtc_pipeline_2, token_docs_2, y_train)"
   ]
  },
  {
   "cell_type": "code",
   "execution_count": 36,
   "id": "3c6e1dd1",
   "metadata": {},
   "outputs": [
    {
     "data": {
      "text/plain": [
       "0.9194528875379939"
      ]
     },
     "execution_count": 36,
     "metadata": {},
     "output_type": "execute_result"
    }
   ],
   "source": [
    "tfidf_best_dtc_pipeline_2.score(test_token_docs_2, y_test)"
   ]
  },
  {
   "cell_type": "code",
   "execution_count": 37,
   "id": "30a09815",
   "metadata": {},
   "outputs": [
    {
     "data": {
      "text/plain": [
       "<sklearn.metrics._plot.confusion_matrix.ConfusionMatrixDisplay at 0x7fcd10b0a048>"
      ]
     },
     "execution_count": 37,
     "metadata": {},
     "output_type": "execute_result"
    },
    {
     "data": {
      "image/png": "[encoded data removed]",
      "text/plain": [
       "<Figure size 432x288 with 2 Axes>"
      ]
     },
     "metadata": {
      "needs_background": "light"
     },
     "output_type": "display_data"
    }
   ],
   "source": [
    "plot_confusion_matrix(tfidf_best_dtc_pipeline_2, test_token_docs_2, y_test)"
   ]
  },
  {
   "cell_type": "code",
   "execution_count": 38,
   "id": "c74584e6",
   "metadata": {},
   "outputs": [
    {
     "data": {
      "text/plain": [
       "<sklearn.metrics._plot.roc_curve.RocCurveDisplay at 0x7fcd102e3e80>"
      ]
     },
     "execution_count": 38,
     "metadata": {},
     "output_type": "execute_result"
    },
    {
     "data": {
      "image/png": "[encoded data removed]",
      "text/plain": [
       "<Figure size 432x288 with 1 Axes>"
      ]
     },
     "metadata": {
      "needs_background": "light"
     },
     "output_type": "display_data"
    }
   ],
   "source": [
    "plot_roc_curve(tfidf_best_dtc_pipeline_2, test_token_docs_2, y_test)"
   ]
  },
  {
   "cell_type": "code",
   "execution_count": 39,
   "id": "22d655d4",
   "metadata": {},
   "outputs": [
    {
     "name": "stdout",
     "output_type": "stream",
     "text": [
      "              precision    recall  f1-score   support\n",
      "\n",
      "           0       0.92      1.00      0.96     12643\n",
      "           1       0.76      0.08      0.14      1175\n",
      "\n",
      "    accuracy                           0.92     13818\n",
      "   macro avg       0.84      0.54      0.55     13818\n",
      "weighted avg       0.91      0.92      0.89     13818\n",
      "\n"
     ]
    }
   ],
   "source": [
    "y_hat_3 = tfidf_best_dtc_pipeline_2.predict(test_token_docs_2)\n",
    "print(classification_report(y_pred = y_hat_3, y_true = y_test))"
   ]
  },
  {
   "cell_type": "markdown",
   "id": "15fbe911",
   "metadata": {},
   "source": [
    "## Pipeline Grid Search for Count Vectorizer and Decision Tree"
   ]
  },
  {
   "cell_type": "code",
   "execution_count": 40,
   "id": "0d390f2c",
   "metadata": {},
   "outputs": [],
   "source": [
    "cv_dtc_pipeline_2 = Pipeline([\n",
    "    ('cv', CountVectorizer()),\n",
    "    ('SMOTE', SMOTE(n_jobs = -1)),\n",
    "    ('dtc', DecisionTreeClassifier())\n",
    "])"
   ]
  },
  {
   "cell_type": "code",
   "execution_count": 41,
   "id": "bde6f984",
   "metadata": {},
   "outputs": [
    {
     "data": {
      "text/plain": [
       "Pipeline(steps=[('cv', CountVectorizer()), ('SMOTE', SMOTE(n_jobs=-1)),\n",
       "                ('dtc', DecisionTreeClassifier())])"
      ]
     },
     "execution_count": 41,
     "metadata": {},
     "output_type": "execute_result"
    }
   ],
   "source": [
    "cv_dtc_pipeline_2.fit(token_docs_2, y_train)"
   ]
  },
  {
   "cell_type": "code",
   "execution_count": 42,
   "id": "871a4521",
   "metadata": {},
   "outputs": [],
   "source": [
    "gs_cv_dtc_2 = GridSearchCV(cv_dtc_pipeline_2,\n",
    "                            param_grid=cv_dtc_params, \n",
    "                            cv = 3, \n",
    "                            verbose = 1,\n",
    "                            n_jobs = -1)"
   ]
  },
  {
   "cell_type": "code",
   "execution_count": 43,
   "id": "d6e74f22",
   "metadata": {},
   "outputs": [
    {
     "name": "stdout",
     "output_type": "stream",
     "text": [
      "Fitting 3 folds for each of 162 candidates, totalling 486 fits\n"
     ]
    },
    {
     "data": {
      "text/plain": [
       "GridSearchCV(cv=3,\n",
       "             estimator=Pipeline(steps=[('cv', CountVectorizer()),\n",
       "                                       ('SMOTE', SMOTE(n_jobs=-1)),\n",
       "                                       ('dtc', DecisionTreeClassifier())]),\n",
       "             n_jobs=-1,\n",
       "             param_grid={'SMOTE__sampling_strategy': ['auto', 0.75, 0.9],\n",
       "                         'cv__max_features': [None, 27000, 10000],\n",
       "                         'cv__ngram_range': [(1, 1), (1, 2), (2, 2)],\n",
       "                         'dtc__criterion': ['gini', 'entropy'],\n",
       "                         'dtc__max_depth': [1, 5, 9]},\n",
       "             verbose=1)"
      ]
     },
     "execution_count": 43,
     "metadata": {},
     "output_type": "execute_result"
    }
   ],
   "source": [
    "gs_cv_dtc_2.fit(token_docs_2, y_train)"
   ]
  },
  {
   "cell_type": "code",
   "execution_count": 44,
   "id": "85356fea",
   "metadata": {},
   "outputs": [
    {
     "data": {
      "text/plain": [
       "0.91955998816101"
      ]
     },
     "execution_count": 44,
     "metadata": {},
     "output_type": "execute_result"
    }
   ],
   "source": [
    "gs_cv_dtc_2.best_score_"
   ]
  },
  {
   "cell_type": "code",
   "execution_count": 45,
   "id": "975f0fe7",
   "metadata": {},
   "outputs": [
    {
     "data": {
      "text/plain": [
       "Pipeline(steps=[('cv', CountVectorizer(max_features=27000, ngram_range=(2, 2))),\n",
       "                ('SMOTE', SMOTE(n_jobs=-1, sampling_strategy=0.75)),\n",
       "                ('dtc', DecisionTreeClassifier(max_depth=9))])"
      ]
     },
     "execution_count": 45,
     "metadata": {},
     "output_type": "execute_result"
    }
   ],
   "source": [
    "gs_cv_dtc_2.best_estimator_"
   ]
  },
  {
   "cell_type": "code",
   "execution_count": 46,
   "id": "2151338f",
   "metadata": {},
   "outputs": [
    {
     "data": {
      "text/plain": [
       "{'SMOTE__sampling_strategy': 0.75,\n",
       " 'cv__max_features': 27000,\n",
       " 'cv__ngram_range': (2, 2),\n",
       " 'dtc__criterion': 'gini',\n",
       " 'dtc__max_depth': 9}"
      ]
     },
     "execution_count": 46,
     "metadata": {},
     "output_type": "execute_result"
    }
   ],
   "source": [
    "gs_cv_dtc_2.best_params_"
   ]
  },
  {
   "cell_type": "markdown",
   "id": "c53deaeb",
   "metadata": {},
   "source": [
    "## Best Decision Tree with Count Vectorizer"
   ]
  },
  {
   "cell_type": "code",
   "execution_count": 47,
   "id": "48da49d2",
   "metadata": {},
   "outputs": [],
   "source": [
    "cv_best_dtc_pipeline_2 = Pipeline([\n",
    "    ('cv', CountVectorizer(max_features = 27000, ngram_range = (2,2))),\n",
    "    ('SMOTE', SMOTE(n_jobs = -1, sampling_strategy = 0.75)),\n",
    "    ('dtc', DecisionTreeClassifier(criterion = 'gini', max_depth = 9))\n",
    "])"
   ]
  },
  {
   "cell_type": "code",
   "execution_count": 49,
   "id": "fc44422a",
   "metadata": {},
   "outputs": [
    {
     "data": {
      "text/plain": [
       "Pipeline(steps=[('cv', CountVectorizer(max_features=27000, ngram_range=(2, 2))),\n",
       "                ('SMOTE', SMOTE(n_jobs=-1, sampling_strategy=0.75)),\n",
       "                ('dtc', DecisionTreeClassifier(max_depth=9))])"
      ]
     },
     "execution_count": 49,
     "metadata": {},
     "output_type": "execute_result"
    }
   ],
   "source": [
    "cv_best_dtc_pipeline_2.fit(token_docs_2, y_train)"
   ]
  },
  {
   "cell_type": "code",
   "execution_count": 50,
   "id": "06ffddf1",
   "metadata": {},
   "outputs": [
    {
     "data": {
      "text/plain": [
       "0.9203741564292305"
      ]
     },
     "execution_count": 50,
     "metadata": {},
     "output_type": "execute_result"
    }
   ],
   "source": [
    "cv_best_dtc_pipeline_2.score(token_docs_2, y_train)"
   ]
  },
  {
   "cell_type": "code",
   "execution_count": 51,
   "id": "026c33f4",
   "metadata": {},
   "outputs": [
    {
     "data": {
      "text/plain": [
       "array([0.91967436, 0.9191243 , 0.91785779, 0.91867197, 0.91966709])"
      ]
     },
     "execution_count": 51,
     "metadata": {},
     "output_type": "execute_result"
    }
   ],
   "source": [
    "cross_val_score(cv_best_dtc_pipeline_2, token_docs_2, y_train, cv = 5)"
   ]
  },
  {
   "cell_type": "code",
   "execution_count": 52,
   "id": "14ad0f2e",
   "metadata": {},
   "outputs": [
    {
     "data": {
      "text/plain": [
       "0.9193805181647127"
      ]
     },
     "execution_count": 52,
     "metadata": {},
     "output_type": "execute_result"
    }
   ],
   "source": [
    "cv_best_dtc_pipeline_2.score(test_token_docs_2, y_test)"
   ]
  },
  {
   "cell_type": "code",
   "execution_count": 53,
   "id": "20300e86",
   "metadata": {},
   "outputs": [
    {
     "data": {
      "text/plain": [
       "<sklearn.metrics._plot.confusion_matrix.ConfusionMatrixDisplay at 0x7fccf62aae10>"
      ]
     },
     "execution_count": 53,
     "metadata": {},
     "output_type": "execute_result"
    },
    {
     "data": {
      "image/png": "[encoded data removed]",
      "text/plain": [
       "<Figure size 432x288 with 2 Axes>"
      ]
     },
     "metadata": {
      "needs_background": "light"
     },
     "output_type": "display_data"
    }
   ],
   "source": [
    "plot_confusion_matrix(cv_best_dtc_pipeline_2, test_token_docs_2, y_test)"
   ]
  },
  {
   "cell_type": "code",
   "execution_count": 54,
   "id": "279488c4",
   "metadata": {},
   "outputs": [
    {
     "data": {
      "text/plain": [
       "<sklearn.metrics._plot.roc_curve.RocCurveDisplay at 0x7fcd091b93c8>"
      ]
     },
     "execution_count": 54,
     "metadata": {},
     "output_type": "execute_result"
    },
    {
     "data": {
      "image/png": "[encoded data removed]",
      "text/plain": [
       "<Figure size 432x288 with 1 Axes>"
      ]
     },
     "metadata": {
      "needs_background": "light"
     },
     "output_type": "display_data"
    }
   ],
   "source": [
    "plot_roc_curve(cv_best_dtc_pipeline_2, test_token_docs_2, y_test)"
   ]
  },
  {
   "cell_type": "code",
   "execution_count": 55,
   "id": "c1268e92",
   "metadata": {},
   "outputs": [
    {
     "name": "stdout",
     "output_type": "stream",
     "text": [
      "              precision    recall  f1-score   support\n",
      "\n",
      "           0       0.92      1.00      0.96     12643\n",
      "           1       0.78      0.07      0.13      1175\n",
      "\n",
      "    accuracy                           0.92     13818\n",
      "   macro avg       0.85      0.54      0.55     13818\n",
      "weighted avg       0.91      0.92      0.89     13818\n",
      "\n"
     ]
    }
   ],
   "source": [
    "y_hat_4 = cv_best_dtc_pipeline_2.predict(test_token_docs_2)\n",
    "print(classification_report(y_pred = y_hat_4, y_true = y_test))"
   ]
  },
  {
   "cell_type": "code",
   "execution_count": null,
   "id": "5e1b3ec7",
   "metadata": {},
   "outputs": [],
   "source": []
  }
 ],
 "metadata": {
  "kernelspec": {
   "display_name": "conda_python3",
   "language": "python",
   "name": "conda_python3"
  },
  "language_info": {
   "codemirror_mode": {
    "name": "ipython",
    "version": 3
   },
   "file_extension": ".py",
   "mimetype": "text/x-python",
   "name": "python",
   "nbconvert_exporter": "python",
   "pygments_lexer": "ipython3",
   "version": "3.6.13"
  }
 },
 "nbformat": 4,
 "nbformat_minor": 5
}

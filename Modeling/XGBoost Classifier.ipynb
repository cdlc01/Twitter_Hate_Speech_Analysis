{
 "cells": [
  {
   "cell_type": "markdown",
   "id": "43d17109",
   "metadata": {},
   "source": [
    "# XGBoost Classifier"
   ]
  },
  {
   "cell_type": "markdown",
   "id": "f65b0a3a",
   "metadata": {},
   "source": [
    "## Clean and Pull Datasets"
   ]
  },
  {
   "cell_type": "code",
   "execution_count": 1,
   "id": "d91c3d29",
   "metadata": {},
   "outputs": [],
   "source": [
    "import pandas as pd\n",
    "\n",
    "import warnings\n",
    "warnings.filterwarnings(\"ignore\")"
   ]
  },
  {
   "cell_type": "code",
   "execution_count": 2,
   "id": "71fe98bb",
   "metadata": {},
   "outputs": [],
   "source": [
    "df_train = pd.read_csv('hate_speech_training.csv')\n",
    "df_train_2 = pd.read_csv('hate_speech_training_2.csv')\n",
    "df_train_3 = pd.read_csv('hate_speech_training_3.csv')\n",
    "df_train_4 = pd.read_csv('hate_speech_training_4.tsv', sep = '\\t')\n",
    "df_train_5 = pd.read_csv('hate_speech_training_5.csv')"
   ]
  },
  {
   "cell_type": "code",
   "execution_count": 3,
   "id": "9a09c5a5",
   "metadata": {},
   "outputs": [],
   "source": [
    "df_train = df_train.drop('id', axis = 1) #0 = Not Hate Speech, 1 = Hate Speech"
   ]
  },
  {
   "cell_type": "code",
   "execution_count": 4,
   "id": "9e77b8f9",
   "metadata": {},
   "outputs": [],
   "source": [
    "df_train_2 = df_train_2[['tweet', 'class']]\n",
    "df_train_2['class'] = df_train_2['class'].replace([0], 'hate speech')\n",
    "df_train_2['class'] = df_train_2['class'].replace([1, 2], 'not hate speech')\n",
    "df_train_2['class'] = df_train_2['class'].replace(['hate speech'], 1)\n",
    "df_train_2['class'] = df_train_2['class'].replace(['not hate speech'], 0)\n",
    "df_train_2.rename(columns = {'class': 'label'}, inplace = True) #0 = Not Hate Speech, 1 = Hate Speech"
   ]
  },
  {
   "cell_type": "code",
   "execution_count": 5,
   "id": "c94757b3",
   "metadata": {},
   "outputs": [],
   "source": [
    "df_train_3 = df_train_3.drop('index', axis = 1) \n",
    "df_train_3.rename(columns = {'post': 'tweet'}, inplace = True) #0 = Not Hate Speech, 1 = Hate Speech"
   ]
  },
  {
   "cell_type": "code",
   "execution_count": 6,
   "id": "540e121b",
   "metadata": {},
   "outputs": [],
   "source": [
    "df_train_4 = df_train_4[['text', 'HS']] \n",
    "df_train_4.rename(columns = {'text': 'tweet', 'HS': 'label'}, inplace = True) #0 = Not Hate Speech, 1 = Hate Speech"
   ]
  },
  {
   "cell_type": "code",
   "execution_count": 7,
   "id": "e90bcd7f",
   "metadata": {},
   "outputs": [],
   "source": [
    "df_train_5['Label'] = df_train_5['Label'].replace(['Hate', 'Non-Asian Aggression'], 1)\n",
    "df_train_5['Label'] = df_train_5['Label'].replace(['Neutral', 'Counterhate'], 0) \n",
    "df_train_5.rename(columns = {'Text': 'tweet', 'Label': 'label'}, inplace = True) #0 = Not Hate Speech, 1 = Hate Speech"
   ]
  },
  {
   "cell_type": "code",
   "execution_count": 8,
   "id": "eedd9c31",
   "metadata": {},
   "outputs": [],
   "source": [
    "dfs = [df_train, df_train_2, df_train_3, df_train_4, df_train_5]\n",
    "df = pd.concat(dfs)"
   ]
  },
  {
   "cell_type": "markdown",
   "id": "79e7ef06",
   "metadata": {},
   "source": [
    "## Train, Test, Split"
   ]
  },
  {
   "cell_type": "code",
   "execution_count": 9,
   "id": "584475c2",
   "metadata": {},
   "outputs": [],
   "source": [
    "from sklearn.model_selection import train_test_split"
   ]
  },
  {
   "cell_type": "code",
   "execution_count": 10,
   "id": "aa7aa846",
   "metadata": {},
   "outputs": [],
   "source": [
    "X = df['tweet']\n",
    "y = df['label']\n",
    "X_train, X_test, y_train, y_test = train_test_split(X,\n",
    "                                                    y,\n",
    "                                                    random_state=3,\n",
    "                                                    test_size=0.20,\n",
    "                                                   stratify = y) #80/20 split"
   ]
  },
  {
   "cell_type": "markdown",
   "id": "6ae35ac2",
   "metadata": {},
   "source": [
    "## NLP Cleaning"
   ]
  },
  {
   "cell_type": "code",
   "execution_count": 11,
   "id": "41556f99",
   "metadata": {},
   "outputs": [],
   "source": [
    "import nltk\n",
    "from nltk.tokenize import RegexpTokenizer\n",
    "from nltk.corpus import stopwords, wordnet\n",
    "from nltk import pos_tag\n",
    "from nltk.stem import WordNetLemmatizer"
   ]
  },
  {
   "cell_type": "code",
   "execution_count": 12,
   "id": "d997f626",
   "metadata": {},
   "outputs": [
    {
     "name": "stderr",
     "output_type": "stream",
     "text": [
      "[nltk_data] Downloading package averaged_perceptron_tagger to\n",
      "[nltk_data]     /home/ec2-user/nltk_data...\n",
      "[nltk_data]   Package averaged_perceptron_tagger is already up-to-\n",
      "[nltk_data]       date!\n"
     ]
    },
    {
     "data": {
      "text/plain": [
       "True"
      ]
     },
     "execution_count": 12,
     "metadata": {},
     "output_type": "execute_result"
    }
   ],
   "source": [
    "nltk.download('averaged_perceptron_tagger')"
   ]
  },
  {
   "cell_type": "code",
   "execution_count": 13,
   "id": "098686a8",
   "metadata": {},
   "outputs": [
    {
     "name": "stderr",
     "output_type": "stream",
     "text": [
      "[nltk_data] Downloading package wordnet to /home/ec2-user/nltk_data...\n",
      "[nltk_data]   Package wordnet is already up-to-date!\n"
     ]
    },
    {
     "data": {
      "text/plain": [
       "True"
      ]
     },
     "execution_count": 13,
     "metadata": {},
     "output_type": "execute_result"
    }
   ],
   "source": [
    "nltk.download('wordnet')"
   ]
  },
  {
   "cell_type": "code",
   "execution_count": 14,
   "id": "7bcd5d00",
   "metadata": {},
   "outputs": [],
   "source": [
    "sw = stopwords.words('english')\n",
    "sw_add = ['@user', '#', '@', 'https', 'amp', 'co', \n",
    "          'http', 'RT', '#','##','####','######','##########','##@user']\n",
    "sw = sw + sw_add"
   ]
  },
  {
   "cell_type": "code",
   "execution_count": 15,
   "id": "81ec43d0",
   "metadata": {},
   "outputs": [],
   "source": [
    "def get_wordnet_pos(treebank_tag):\n",
    "    \n",
    "    if treebank_tag.startswith('J'):\n",
    "        return wordnet.ADJ\n",
    "    elif treebank_tag.startswith('V'):\n",
    "        return wordnet.VERB\n",
    "    elif treebank_tag.startswith('N'):\n",
    "        return wordnet.NOUN\n",
    "    elif treebank_tag.startswith('R'):\n",
    "        return wordnet.ADV\n",
    "    else:\n",
    "        return wordnet.NOUN"
   ]
  },
  {
   "cell_type": "code",
   "execution_count": 16,
   "id": "73c446cc",
   "metadata": {},
   "outputs": [],
   "source": [
    "def doc_preparer(doc, stop_words=sw):\n",
    " \n",
    "    regex_token = RegexpTokenizer(r\"([@#a-zA-Z]+(?:’[a-z]+)?)\")\n",
    "    doc = regex_token.tokenize(doc)\n",
    "    doc = [word.lower() for word in doc]\n",
    "    doc = [word for word in doc if word not in sw]\n",
    "    doc = pos_tag(doc)\n",
    "    doc = [(word[0], get_wordnet_pos(word[1])) for word in doc]\n",
    "    lemmatizer = WordNetLemmatizer() \n",
    "    doc = [lemmatizer.lemmatize(word[0], word[1]) for word in doc]\n",
    "    return ' '.join(doc)"
   ]
  },
  {
   "cell_type": "code",
   "execution_count": 27,
   "id": "fadeef9f",
   "metadata": {},
   "outputs": [],
   "source": [
    "token_docs = [doc_preparer(doc, sw) for doc in X_train]\n",
    "test_token_docs = [doc_preparer(doc, sw) for doc in X_test]"
   ]
  },
  {
   "cell_type": "markdown",
   "id": "363c9980",
   "metadata": {},
   "source": [
    "## Pipeline for TF-IDF on XGBoost"
   ]
  },
  {
   "cell_type": "code",
   "execution_count": 16,
   "id": "c95bdabb",
   "metadata": {},
   "outputs": [],
   "source": [
    "from imblearn.over_sampling import SMOTE\n",
    "from imblearn.pipeline import Pipeline\n",
    "from xgboost import XGBClassifier\n",
    "\n",
    "from sklearn.feature_extraction.text import TfidfVectorizer, CountVectorizer"
   ]
  },
  {
   "cell_type": "code",
   "execution_count": 18,
   "id": "fe5ae873",
   "metadata": {},
   "outputs": [],
   "source": [
    "tfidf_xgb_pipe = Pipeline([\n",
    "    ('tfidf', TfidfVectorizer()),\n",
    "    ('SMOTE', SMOTE(n_jobs = -1)),\n",
    "    ('xgb', XGBClassifier(n_jobs = -1, verbosity = 1))\n",
    "])"
   ]
  },
  {
   "cell_type": "code",
   "execution_count": 20,
   "id": "76baf30d",
   "metadata": {},
   "outputs": [
    {
     "name": "stdout",
     "output_type": "stream",
     "text": [
      "[00:52:04] WARNING: ../src/learner.cc:1095: Starting in XGBoost 1.3.0, the default evaluation metric used with the objective 'binary:logistic' was changed from 'error' to 'logloss'. Explicitly set eval_metric if you'd like to restore the old behavior.\n"
     ]
    },
    {
     "data": {
      "text/plain": [
       "Pipeline(steps=[('tfidf', TfidfVectorizer()), ('SMOTE', SMOTE(n_jobs=-1)),\n",
       "                ('xgb',\n",
       "                 XGBClassifier(base_score=0.5, booster='gbtree',\n",
       "                               colsample_bylevel=1, colsample_bynode=1,\n",
       "                               colsample_bytree=1, gamma=0, gpu_id=-1,\n",
       "                               importance_type='gain',\n",
       "                               interaction_constraints='',\n",
       "                               learning_rate=0.300000012, max_delta_step=0,\n",
       "                               max_depth=6, min_child_weight=1, missing=nan,\n",
       "                               monotone_constraints='()', n_estimators=100,\n",
       "                               n_jobs=-1, num_parallel_tree=1, random_state=0,\n",
       "                               reg_alpha=0, reg_lambda=1, scale_pos_weight=1,\n",
       "                               subsample=1, tree_method='exact',\n",
       "                               validate_parameters=1, verbosity=1))])"
      ]
     },
     "execution_count": 20,
     "metadata": {},
     "output_type": "execute_result"
    }
   ],
   "source": [
    "tfidf_xgb_pipe.fit(token_docs, y_train)"
   ]
  },
  {
   "cell_type": "code",
   "execution_count": 21,
   "id": "ed0df3fd",
   "metadata": {},
   "outputs": [
    {
     "data": {
      "text/plain": [
       "0.7863798375278175"
      ]
     },
     "execution_count": 21,
     "metadata": {},
     "output_type": "execute_result"
    }
   ],
   "source": [
    "tfidf_xgb_pipe.score(X_train, y_train)"
   ]
  },
  {
   "cell_type": "code",
   "execution_count": 17,
   "id": "d286d5e6",
   "metadata": {},
   "outputs": [],
   "source": [
    "from sklearn.model_selection import cross_val_score"
   ]
  },
  {
   "cell_type": "code",
   "execution_count": 23,
   "id": "977cec37",
   "metadata": {},
   "outputs": [
    {
     "name": "stdout",
     "output_type": "stream",
     "text": [
      "[00:58:20] WARNING: ../src/learner.cc:1095: Starting in XGBoost 1.3.0, the default evaluation metric used with the objective 'binary:logistic' was changed from 'error' to 'logloss'. Explicitly set eval_metric if you'd like to restore the old behavior.\n",
      "[00:59:32] WARNING: ../src/learner.cc:1095: Starting in XGBoost 1.3.0, the default evaluation metric used with the objective 'binary:logistic' was changed from 'error' to 'logloss'. Explicitly set eval_metric if you'd like to restore the old behavior.\n",
      "[01:00:32] WARNING: ../src/learner.cc:1095: Starting in XGBoost 1.3.0, the default evaluation metric used with the objective 'binary:logistic' was changed from 'error' to 'logloss'. Explicitly set eval_metric if you'd like to restore the old behavior.\n",
      "[01:01:58] WARNING: ../src/learner.cc:1095: Starting in XGBoost 1.3.0, the default evaluation metric used with the objective 'binary:logistic' was changed from 'error' to 'logloss'. Explicitly set eval_metric if you'd like to restore the old behavior.\n",
      "[01:03:53] WARNING: ../src/learner.cc:1095: Starting in XGBoost 1.3.0, the default evaluation metric used with the objective 'binary:logistic' was changed from 'error' to 'logloss'. Explicitly set eval_metric if you'd like to restore the old behavior.\n"
     ]
    },
    {
     "data": {
      "text/plain": [
       "array([0.91849842, 0.91677221, 0.91984802, 0.9191243 , 0.9206622 ])"
      ]
     },
     "execution_count": 23,
     "metadata": {},
     "output_type": "execute_result"
    }
   ],
   "source": [
    "cross_val_score(tfidf_xgb_pipe, X_train, y_train, cv = 5)"
   ]
  },
  {
   "cell_type": "code",
   "execution_count": 24,
   "id": "ab96d253",
   "metadata": {},
   "outputs": [
    {
     "data": {
      "text/plain": [
       "0.7993920972644377"
      ]
     },
     "execution_count": 24,
     "metadata": {},
     "output_type": "execute_result"
    }
   ],
   "source": [
    "tfidf_xgb_pipe.score(X_test, y_test)"
   ]
  },
  {
   "cell_type": "code",
   "execution_count": 18,
   "id": "6a382677",
   "metadata": {},
   "outputs": [],
   "source": [
    "from sklearn.metrics import plot_confusion_matrix, plot_roc_curve, classification_report"
   ]
  },
  {
   "cell_type": "code",
   "execution_count": 26,
   "id": "d251cf92",
   "metadata": {},
   "outputs": [
    {
     "data": {
      "text/plain": [
       "<sklearn.metrics._plot.confusion_matrix.ConfusionMatrixDisplay at 0x7f84d3d09a58>"
      ]
     },
     "execution_count": 26,
     "metadata": {},
     "output_type": "execute_result"
    },
    {
     "data": {
      "image/png": "[encoded data removed]",
      "text/plain": [
       "<Figure size 432x288 with 2 Axes>"
      ]
     },
     "metadata": {
      "needs_background": "light"
     },
     "output_type": "display_data"
    }
   ],
   "source": [
    "plot_confusion_matrix(tfidf_xgb_pipe, X_test, y_test)"
   ]
  },
  {
   "cell_type": "code",
   "execution_count": 27,
   "id": "0bf1a308",
   "metadata": {},
   "outputs": [
    {
     "data": {
      "text/plain": [
       "<sklearn.metrics._plot.roc_curve.RocCurveDisplay at 0x7f84a69d4d68>"
      ]
     },
     "execution_count": 27,
     "metadata": {},
     "output_type": "execute_result"
    },
    {
     "data": {
      "image/png": "[encoded data removed]",
      "text/plain": [
       "<Figure size 432x288 with 1 Axes>"
      ]
     },
     "metadata": {
      "needs_background": "light"
     },
     "output_type": "display_data"
    }
   ],
   "source": [
    "plot_roc_curve(tfidf_xgb_pipe, X_test, y_test)"
   ]
  },
  {
   "cell_type": "code",
   "execution_count": 28,
   "id": "a5b6ce81",
   "metadata": {},
   "outputs": [
    {
     "name": "stdout",
     "output_type": "stream",
     "text": [
      "              precision    recall  f1-score   support\n",
      "\n",
      "           0       0.96      0.81      0.88     12643\n",
      "           1       0.24      0.64      0.35      1175\n",
      "\n",
      "    accuracy                           0.80     13818\n",
      "   macro avg       0.60      0.73      0.62     13818\n",
      "weighted avg       0.90      0.80      0.84     13818\n",
      "\n"
     ]
    }
   ],
   "source": [
    "y_hat = tfidf_xgb_pipe.predict(X_test)\n",
    "print(classification_report(y_pred = y_hat, y_true = y_test))"
   ]
  },
  {
   "cell_type": "markdown",
   "id": "0f2a56ac",
   "metadata": {},
   "source": [
    "## Grid Search on TF-IDF and XGBoost Pipeline"
   ]
  },
  {
   "cell_type": "code",
   "execution_count": 19,
   "id": "1311c763",
   "metadata": {},
   "outputs": [],
   "source": [
    "tfidf_xgb_params = {\n",
    "    'tfidf__max_features':[None, 20_000, 1_000],\n",
    "    'tfidf__ngram_range':[(1,1), (1,2), (2,2)],\n",
    "    'xgb__max_depth':[3,4,5],\n",
    "    'SMOTE__sampling_strategy':['auto', 0.75, 0.90]\n",
    "}"
   ]
  },
  {
   "cell_type": "code",
   "execution_count": 20,
   "id": "f608c2b9",
   "metadata": {},
   "outputs": [],
   "source": [
    "from sklearn.model_selection import GridSearchCV"
   ]
  },
  {
   "cell_type": "code",
   "execution_count": null,
   "id": "af472306",
   "metadata": {},
   "outputs": [],
   "source": [
    "gs_tfidf_xgb = GridSearchCV(tfidf_xgb_pipe,\n",
    "                            param_grid=tfidf_xgb_params, \n",
    "                            cv = 3, \n",
    "                            verbose = 3,\n",
    "                           n_jobs = -1)"
   ]
  },
  {
   "cell_type": "code",
   "execution_count": 28,
   "id": "99c3603b",
   "metadata": {},
   "outputs": [
    {
     "name": "stdout",
     "output_type": "stream",
     "text": [
      "Fitting 3 folds for each of 81 candidates, totalling 243 fits\n",
      "[07:27:41] WARNING: ../src/learner.cc:1095: Starting in XGBoost 1.3.0, the default evaluation metric used with the objective 'binary:logistic' was changed from 'error' to 'logloss'. Explicitly set eval_metric if you'd like to restore the old behavior.\n"
     ]
    },
    {
     "data": {
      "text/plain": [
       "GridSearchCV(cv=3,\n",
       "             estimator=Pipeline(steps=[('tfidf', TfidfVectorizer()),\n",
       "                                       ('SMOTE', SMOTE(n_jobs=-1)),\n",
       "                                       ('xgb',\n",
       "                                        XGBClassifier(base_score=None,\n",
       "                                                      booster=None,\n",
       "                                                      colsample_bylevel=None,\n",
       "                                                      colsample_bynode=None,\n",
       "                                                      colsample_bytree=None,\n",
       "                                                      gamma=None, gpu_id=None,\n",
       "                                                      importance_type='gain',\n",
       "                                                      interaction_constraints=None,\n",
       "                                                      learning_rate=None,\n",
       "                                                      max_delta_step=None,\n",
       "                                                      max_depth=None,\n",
       "                                                      min_c...\n",
       "                                                      num_parallel_tree=None,\n",
       "                                                      random_state=None,\n",
       "                                                      reg_alpha=None,\n",
       "                                                      reg_lambda=None,\n",
       "                                                      scale_pos_weight=None,\n",
       "                                                      subsample=None,\n",
       "                                                      tree_method=None,\n",
       "                                                      validate_parameters=None,\n",
       "                                                      verbosity=1))]),\n",
       "             n_jobs=-1,\n",
       "             param_grid={'SMOTE__sampling_strategy': ['auto', 0.75, 0.9],\n",
       "                         'tfidf__max_features': [None, 20000, 1000],\n",
       "                         'tfidf__ngram_range': [(1, 1), (1, 2), (2, 2)],\n",
       "                         'xgb__max_depth': [3, 4, 5]},\n",
       "             verbose=3)"
      ]
     },
     "execution_count": 28,
     "metadata": {},
     "output_type": "execute_result"
    }
   ],
   "source": [
    "gs_tfidf_xgb.fit(token_docs, y_train)"
   ]
  },
  {
   "cell_type": "code",
   "execution_count": 29,
   "id": "a471df92",
   "metadata": {},
   "outputs": [
    {
     "data": {
      "text/plain": [
       "0.9216768345577204"
      ]
     },
     "execution_count": 29,
     "metadata": {},
     "output_type": "execute_result"
    }
   ],
   "source": [
    "gs_tfidf_xgb.best_score_"
   ]
  },
  {
   "cell_type": "code",
   "execution_count": 30,
   "id": "22e02bb3",
   "metadata": {},
   "outputs": [
    {
     "data": {
      "text/plain": [
       "Pipeline(steps=[('tfidf', TfidfVectorizer(ngram_range=(2, 2))),\n",
       "                ('SMOTE', SMOTE(n_jobs=-1, sampling_strategy=0.75)),\n",
       "                ('xgb',\n",
       "                 XGBClassifier(base_score=0.5, booster='gbtree',\n",
       "                               colsample_bylevel=1, colsample_bynode=1,\n",
       "                               colsample_bytree=1, gamma=0, gpu_id=-1,\n",
       "                               importance_type='gain',\n",
       "                               interaction_constraints='',\n",
       "                               learning_rate=0.300000012, max_delta_step=0,\n",
       "                               max_depth=5, min_child_weight=1, missing=nan,\n",
       "                               monotone_constraints='()', n_estimators=100,\n",
       "                               n_jobs=-1, num_parallel_tree=1, random_state=0,\n",
       "                               reg_alpha=0, reg_lambda=1, scale_pos_weight=1,\n",
       "                               subsample=1, tree_method='exact',\n",
       "                               validate_parameters=1, verbosity=1))])"
      ]
     },
     "execution_count": 30,
     "metadata": {},
     "output_type": "execute_result"
    }
   ],
   "source": [
    "gs_tfidf_xgb.best_estimator_"
   ]
  },
  {
   "cell_type": "code",
   "execution_count": 31,
   "id": "fb760b20",
   "metadata": {},
   "outputs": [
    {
     "data": {
      "text/plain": [
       "{'SMOTE__sampling_strategy': 0.75,\n",
       " 'tfidf__max_features': None,\n",
       " 'tfidf__ngram_range': (2, 2),\n",
       " 'xgb__max_depth': 5}"
      ]
     },
     "execution_count": 31,
     "metadata": {},
     "output_type": "execute_result"
    }
   ],
   "source": [
    "gs_tfidf_xgb.best_params_"
   ]
  },
  {
   "cell_type": "markdown",
   "id": "e98f1884",
   "metadata": {},
   "source": [
    "# Best XGBoost Model on TFIDF"
   ]
  },
  {
   "cell_type": "code",
   "execution_count": 32,
   "id": "8b6e278c",
   "metadata": {},
   "outputs": [],
   "source": [
    "tfidf_best_xgb_pipe = Pipeline([\n",
    "    ('tfidf', TfidfVectorizer(max_features = None, ngram_range = (2, 2))),\n",
    "    ('SMOTE', SMOTE(n_jobs = -1, sampling_strategy = 0.75)),\n",
    "    ('xgb', XGBClassifier(n_jobs = -1, verbosity = 1, max_depth = 5))\n",
    "])"
   ]
  },
  {
   "cell_type": "code",
   "execution_count": 33,
   "id": "deccbb69",
   "metadata": {},
   "outputs": [
    {
     "name": "stdout",
     "output_type": "stream",
     "text": [
      "[13:23:10] WARNING: ../src/learner.cc:1095: Starting in XGBoost 1.3.0, the default evaluation metric used with the objective 'binary:logistic' was changed from 'error' to 'logloss'. Explicitly set eval_metric if you'd like to restore the old behavior.\n"
     ]
    },
    {
     "data": {
      "text/plain": [
       "Pipeline(steps=[('tfidf', TfidfVectorizer(ngram_range=(2, 2))),\n",
       "                ('SMOTE', SMOTE(n_jobs=-1, sampling_strategy=0.75)),\n",
       "                ('xgb',\n",
       "                 XGBClassifier(base_score=0.5, booster='gbtree',\n",
       "                               colsample_bylevel=1, colsample_bynode=1,\n",
       "                               colsample_bytree=1, gamma=0, gpu_id=-1,\n",
       "                               importance_type='gain',\n",
       "                               interaction_constraints='',\n",
       "                               learning_rate=0.300000012, max_delta_step=0,\n",
       "                               max_depth=5, min_child_weight=1, missing=nan,\n",
       "                               monotone_constraints='()', n_estimators=100,\n",
       "                               n_jobs=-1, num_parallel_tree=1, random_state=0,\n",
       "                               reg_alpha=0, reg_lambda=1, scale_pos_weight=1,\n",
       "                               subsample=1, tree_method='exact',\n",
       "                               validate_parameters=1, verbosity=1))])"
      ]
     },
     "execution_count": 33,
     "metadata": {},
     "output_type": "execute_result"
    }
   ],
   "source": [
    "tfidf_best_xgb_pipe.fit(token_docs, y_train)"
   ]
  },
  {
   "cell_type": "code",
   "execution_count": 34,
   "id": "6a6245df",
   "metadata": {},
   "outputs": [
    {
     "data": {
      "text/plain": [
       "0.9322610410522697"
      ]
     },
     "execution_count": 34,
     "metadata": {},
     "output_type": "execute_result"
    }
   ],
   "source": [
    "tfidf_best_xgb_pipe.score(token_docs, y_train)"
   ]
  },
  {
   "cell_type": "code",
   "execution_count": 35,
   "id": "a598a6cb",
   "metadata": {},
   "outputs": [
    {
     "name": "stdout",
     "output_type": "stream",
     "text": [
      "[13:24:03] WARNING: ../src/learner.cc:1095: Starting in XGBoost 1.3.0, the default evaluation metric used with the objective 'binary:logistic' was changed from 'error' to 'logloss'. Explicitly set eval_metric if you'd like to restore the old behavior.\n",
      "[13:24:40] WARNING: ../src/learner.cc:1095: Starting in XGBoost 1.3.0, the default evaluation metric used with the objective 'binary:logistic' was changed from 'error' to 'logloss'. Explicitly set eval_metric if you'd like to restore the old behavior.\n",
      "[13:25:11] WARNING: ../src/learner.cc:1095: Starting in XGBoost 1.3.0, the default evaluation metric used with the objective 'binary:logistic' was changed from 'error' to 'logloss'. Explicitly set eval_metric if you'd like to restore the old behavior.\n",
      "[13:25:45] WARNING: ../src/learner.cc:1095: Starting in XGBoost 1.3.0, the default evaluation metric used with the objective 'binary:logistic' was changed from 'error' to 'logloss'. Explicitly set eval_metric if you'd like to restore the old behavior.\n",
      "[13:26:16] WARNING: ../src/learner.cc:1095: Starting in XGBoost 1.3.0, the default evaluation metric used with the objective 'binary:logistic' was changed from 'error' to 'logloss'. Explicitly set eval_metric if you'd like to restore the old behavior.\n"
     ]
    },
    {
     "data": {
      "text/plain": [
       "array([0.92284034, 0.92129546, 0.92102406, 0.92482359, 0.92048127])"
      ]
     },
     "execution_count": 35,
     "metadata": {},
     "output_type": "execute_result"
    }
   ],
   "source": [
    "cross_val_score(tfidf_best_xgb_pipe, token_docs, y_train, cv = 5)"
   ]
  },
  {
   "cell_type": "code",
   "execution_count": 36,
   "id": "2ac814cd",
   "metadata": {},
   "outputs": [
    {
     "data": {
      "text/plain": [
       "0.9243016355478362"
      ]
     },
     "execution_count": 36,
     "metadata": {},
     "output_type": "execute_result"
    }
   ],
   "source": [
    "tfidf_best_xgb_pipe.score(test_token_docs, y_test)"
   ]
  },
  {
   "cell_type": "code",
   "execution_count": 37,
   "id": "b7799f0c",
   "metadata": {},
   "outputs": [
    {
     "data": {
      "text/plain": [
       "<sklearn.metrics._plot.confusion_matrix.ConfusionMatrixDisplay at 0x7f0537e07828>"
      ]
     },
     "execution_count": 37,
     "metadata": {},
     "output_type": "execute_result"
    },
    {
     "data": {
      "image/png": "[encoded data removed]",
      "text/plain": [
       "<Figure size 432x288 with 2 Axes>"
      ]
     },
     "metadata": {
      "needs_background": "light"
     },
     "output_type": "display_data"
    }
   ],
   "source": [
    "plot_confusion_matrix(tfidf_best_xgb_pipe, test_token_docs, y_test)"
   ]
  },
  {
   "cell_type": "code",
   "execution_count": 38,
   "id": "23de1f52",
   "metadata": {},
   "outputs": [
    {
     "data": {
      "text/plain": [
       "<sklearn.metrics._plot.roc_curve.RocCurveDisplay at 0x7f0520f4ff98>"
      ]
     },
     "execution_count": 38,
     "metadata": {},
     "output_type": "execute_result"
    },
    {
     "data": {
      "image/png": "[encoded data removed]",
      "text/plain": [
       "<Figure size 432x288 with 1 Axes>"
      ]
     },
     "metadata": {
      "needs_background": "light"
     },
     "output_type": "display_data"
    }
   ],
   "source": [
    "plot_roc_curve(tfidf_best_xgb_pipe, test_token_docs, y_test)"
   ]
  },
  {
   "cell_type": "code",
   "execution_count": 39,
   "id": "31c0e886",
   "metadata": {},
   "outputs": [
    {
     "name": "stdout",
     "output_type": "stream",
     "text": [
      "              precision    recall  f1-score   support\n",
      "\n",
      "           0       0.93      0.99      0.96     12643\n",
      "           1       0.73      0.17      0.28      1175\n",
      "\n",
      "    accuracy                           0.92     13818\n",
      "   macro avg       0.83      0.58      0.62     13818\n",
      "weighted avg       0.91      0.92      0.90     13818\n",
      "\n"
     ]
    }
   ],
   "source": [
    "y_hat_2 = tfidf_best_xgb_pipe.predict(test_token_docs)\n",
    "print(classification_report(y_pred = y_hat_2, y_true = y_test))"
   ]
  },
  {
   "cell_type": "markdown",
   "id": "f806a65a",
   "metadata": {},
   "source": [
    "## Grid Search for Count Vectorizer on XGBoost Classifier"
   ]
  },
  {
   "cell_type": "code",
   "execution_count": 40,
   "id": "825f1c16",
   "metadata": {},
   "outputs": [],
   "source": [
    "cv_xgb_pipe = Pipeline([\n",
    "    ('cv', CountVectorizer()),\n",
    "    ('SMOTE', SMOTE(n_jobs = -1)),\n",
    "    ('xgb', XGBClassifier(n_jobs = -1, verbosity = 1))\n",
    "])"
   ]
  },
  {
   "cell_type": "code",
   "execution_count": 41,
   "id": "a9502372",
   "metadata": {},
   "outputs": [
    {
     "name": "stdout",
     "output_type": "stream",
     "text": [
      "[13:31:39] WARNING: ../src/learner.cc:1095: Starting in XGBoost 1.3.0, the default evaluation metric used with the objective 'binary:logistic' was changed from 'error' to 'logloss'. Explicitly set eval_metric if you'd like to restore the old behavior.\n"
     ]
    },
    {
     "data": {
      "text/plain": [
       "Pipeline(steps=[('cv', CountVectorizer()), ('SMOTE', SMOTE(n_jobs=-1)),\n",
       "                ('xgb',\n",
       "                 XGBClassifier(base_score=0.5, booster='gbtree',\n",
       "                               colsample_bylevel=1, colsample_bynode=1,\n",
       "                               colsample_bytree=1, gamma=0, gpu_id=-1,\n",
       "                               importance_type='gain',\n",
       "                               interaction_constraints='',\n",
       "                               learning_rate=0.300000012, max_delta_step=0,\n",
       "                               max_depth=6, min_child_weight=1, missing=nan,\n",
       "                               monotone_constraints='()', n_estimators=100,\n",
       "                               n_jobs=-1, num_parallel_tree=1, random_state=0,\n",
       "                               reg_alpha=0, reg_lambda=1, scale_pos_weight=1,\n",
       "                               subsample=1, tree_method='exact',\n",
       "                               validate_parameters=1, verbosity=1))])"
      ]
     },
     "execution_count": 41,
     "metadata": {},
     "output_type": "execute_result"
    }
   ],
   "source": [
    "cv_xgb_pipe.fit(token_docs, y_train)"
   ]
  },
  {
   "cell_type": "code",
   "execution_count": 43,
   "id": "8983b110",
   "metadata": {},
   "outputs": [],
   "source": [
    "cv_xgb_params = {\n",
    "    'cv__max_features':[None, 20_000, 1_000],\n",
    "    'cv__ngram_range':[(1,1), (1,2), (2,2)],\n",
    "    'xgb__max_depth':[3,4,5],\n",
    "    'SMOTE__sampling_strategy':['auto', 0.75, 0.90]\n",
    "}"
   ]
  },
  {
   "cell_type": "code",
   "execution_count": 43,
   "id": "e5ba2b04",
   "metadata": {},
   "outputs": [],
   "source": [
    "gs_cv_xgb = GridSearchCV(cv_xgb_pipe,\n",
    "                            param_grid=cv_xgb_params, \n",
    "                            cv = 3, \n",
    "                            verbose = 3,\n",
    "                           n_jobs = -1)"
   ]
  },
  {
   "cell_type": "code",
   "execution_count": 44,
   "id": "585ac0eb",
   "metadata": {},
   "outputs": [
    {
     "name": "stdout",
     "output_type": "stream",
     "text": [
      "Fitting 3 folds for each of 81 candidates, totalling 243 fits\n",
      "[14:24:19] WARNING: ../src/learner.cc:1095: Starting in XGBoost 1.3.0, the default evaluation metric used with the objective 'binary:logistic' was changed from 'error' to 'logloss'. Explicitly set eval_metric if you'd like to restore the old behavior.\n"
     ]
    },
    {
     "data": {
      "text/plain": [
       "GridSearchCV(cv=3,\n",
       "             estimator=Pipeline(steps=[('cv', CountVectorizer()),\n",
       "                                       ('SMOTE', SMOTE(n_jobs=-1)),\n",
       "                                       ('xgb',\n",
       "                                        XGBClassifier(base_score=0.5,\n",
       "                                                      booster='gbtree',\n",
       "                                                      colsample_bylevel=1,\n",
       "                                                      colsample_bynode=1,\n",
       "                                                      colsample_bytree=1,\n",
       "                                                      gamma=0, gpu_id=-1,\n",
       "                                                      importance_type='gain',\n",
       "                                                      interaction_constraints='',\n",
       "                                                      learning_rate=0.300000012,\n",
       "                                                      max_delta_step=0,\n",
       "                                                      max_depth=6,\n",
       "                                                      min_child_weight=1,\n",
       "                                                      m...\n",
       "                                                      n_estimators=100,\n",
       "                                                      n_jobs=-1,\n",
       "                                                      num_parallel_tree=1,\n",
       "                                                      random_state=0,\n",
       "                                                      reg_alpha=0, reg_lambda=1,\n",
       "                                                      scale_pos_weight=1,\n",
       "                                                      subsample=1,\n",
       "                                                      tree_method='exact',\n",
       "                                                      validate_parameters=1,\n",
       "                                                      verbosity=1))]),\n",
       "             n_jobs=-1,\n",
       "             param_grid={'SMOTE__sampling_strategy': ['auto', 0.75, 0.9],\n",
       "                         'cv__max_features': [None, 20000, 1000],\n",
       "                         'cv__ngram_range': [(1, 1), (1, 2), (2, 2)],\n",
       "                         'xgb__max_depth': [3, 4, 5]},\n",
       "             verbose=3)"
      ]
     },
     "execution_count": 44,
     "metadata": {},
     "output_type": "execute_result"
    }
   ],
   "source": [
    "gs_cv_xgb.fit(token_docs, y_train)"
   ]
  },
  {
   "cell_type": "code",
   "execution_count": 45,
   "id": "f70d257d",
   "metadata": {},
   "outputs": [
    {
     "data": {
      "text/plain": [
       "0.9245897637015634"
      ]
     },
     "execution_count": 45,
     "metadata": {},
     "output_type": "execute_result"
    }
   ],
   "source": [
    "gs_cv_xgb.best_score_"
   ]
  },
  {
   "cell_type": "code",
   "execution_count": 46,
   "id": "0cb9dda3",
   "metadata": {},
   "outputs": [
    {
     "data": {
      "text/plain": [
       "Pipeline(steps=[('cv', CountVectorizer(ngram_range=(1, 2))),\n",
       "                ('SMOTE', SMOTE(n_jobs=-1, sampling_strategy=0.75)),\n",
       "                ('xgb',\n",
       "                 XGBClassifier(base_score=0.5, booster='gbtree',\n",
       "                               colsample_bylevel=1, colsample_bynode=1,\n",
       "                               colsample_bytree=1, gamma=0, gpu_id=-1,\n",
       "                               importance_type='gain',\n",
       "                               interaction_constraints='',\n",
       "                               learning_rate=0.300000012, max_delta_step=0,\n",
       "                               max_depth=5, min_child_weight=1, missing=nan,\n",
       "                               monotone_constraints='()', n_estimators=100,\n",
       "                               n_jobs=-1, num_parallel_tree=1, random_state=0,\n",
       "                               reg_alpha=0, reg_lambda=1, scale_pos_weight=1,\n",
       "                               subsample=1, tree_method='exact',\n",
       "                               validate_parameters=1, verbosity=1))])"
      ]
     },
     "execution_count": 46,
     "metadata": {},
     "output_type": "execute_result"
    }
   ],
   "source": [
    "gs_cv_xgb.best_estimator_"
   ]
  },
  {
   "cell_type": "code",
   "execution_count": 47,
   "id": "e4657666",
   "metadata": {},
   "outputs": [
    {
     "data": {
      "text/plain": [
       "{'SMOTE__sampling_strategy': 0.75,\n",
       " 'cv__max_features': None,\n",
       " 'cv__ngram_range': (1, 2),\n",
       " 'xgb__max_depth': 5}"
      ]
     },
     "execution_count": 47,
     "metadata": {},
     "output_type": "execute_result"
    }
   ],
   "source": [
    "gs_cv_xgb.best_params_"
   ]
  },
  {
   "cell_type": "markdown",
   "id": "739c4ec1",
   "metadata": {},
   "source": [
    "## Best XGBoost Model with Count Vectorizer"
   ]
  },
  {
   "cell_type": "code",
   "execution_count": 48,
   "id": "7550f821",
   "metadata": {},
   "outputs": [],
   "source": [
    "cv_best_xgb_pipe = Pipeline([\n",
    "    ('cv', CountVectorizer(max_features = None, ngram_range = (1,2))),\n",
    "    ('SMOTE', SMOTE(n_jobs = -1, sampling_strategy = 0.75)),\n",
    "    ('xgb', XGBClassifier(n_jobs = -1, verbosity = 1, max_depth = 5))\n",
    "])"
   ]
  },
  {
   "cell_type": "code",
   "execution_count": null,
   "id": "656923ca",
   "metadata": {},
   "outputs": [
    {
     "name": "stdout",
     "output_type": "stream",
     "text": [
      "[14:32:36] WARNING: ../src/learner.cc:1095: Starting in XGBoost 1.3.0, the default evaluation metric used with the objective 'binary:logistic' was changed from 'error' to 'logloss'. Explicitly set eval_metric if you'd like to restore the old behavior.\n"
     ]
    },
    {
     "data": {
      "text/plain": [
       "Pipeline(steps=[('cv', CountVectorizer(ngram_range=(1, 2))),\n",
       "                ('SMOTE', SMOTE(n_jobs=-1, sampling_strategy=0.75)),\n",
       "                ('xgb',\n",
       "                 XGBClassifier(base_score=0.5, booster='gbtree',\n",
       "                               colsample_bylevel=1, colsample_bynode=1,\n",
       "                               colsample_bytree=1, gamma=0, gpu_id=-1,\n",
       "                               importance_type='gain',\n",
       "                               interaction_constraints='',\n",
       "                               learning_rate=0.300000012, max_delta_step=0,\n",
       "                               max_depth=5, min_child_weight=1, missing=nan,\n",
       "                               monotone_constraints='()', n_estimators=100,\n",
       "                               n_jobs=-1, num_parallel_tree=1, random_state=0,\n",
       "                               reg_alpha=0, reg_lambda=1, scale_pos_weight=1,\n",
       "                               subsample=1, tree_method='exact',\n",
       "                               validate_parameters=1, verbosity=1))])"
      ]
     },
     "execution_count": 49,
     "metadata": {},
     "output_type": "execute_result"
    }
   ],
   "source": [
    "cv_best_xgb_pipe.fit(token_docs, y_train)"
   ]
  },
  {
   "cell_type": "code",
   "execution_count": null,
   "id": "ee7acda6",
   "metadata": {},
   "outputs": [
    {
     "data": {
      "text/plain": [
       "0.9274483906569448"
      ]
     },
     "execution_count": 50,
     "metadata": {},
     "output_type": "execute_result"
    }
   ],
   "source": [
    "cv_best_xgb_pipe.score(token_docs, y_train)"
   ]
  },
  {
   "cell_type": "code",
   "execution_count": 51,
   "id": "3ab5d29c",
   "metadata": {},
   "outputs": [
    {
     "name": "stdout",
     "output_type": "stream",
     "text": [
      "[14:33:55] WARNING: ../src/learner.cc:1095: Starting in XGBoost 1.3.0, the default evaluation metric used with the objective 'binary:logistic' was changed from 'error' to 'logloss'. Explicitly set eval_metric if you'd like to restore the old behavior.\n",
      "[14:34:53] WARNING: ../src/learner.cc:1095: Starting in XGBoost 1.3.0, the default evaluation metric used with the objective 'binary:logistic' was changed from 'error' to 'logloss'. Explicitly set eval_metric if you'd like to restore the old behavior.\n",
      "[14:35:39] WARNING: ../src/learner.cc:1095: Starting in XGBoost 1.3.0, the default evaluation metric used with the objective 'binary:logistic' was changed from 'error' to 'logloss'. Explicitly set eval_metric if you'd like to restore the old behavior.\n",
      "[14:36:27] WARNING: ../src/learner.cc:1095: Starting in XGBoost 1.3.0, the default evaluation metric used with the objective 'binary:logistic' was changed from 'error' to 'logloss'. Explicitly set eval_metric if you'd like to restore the old behavior.\n",
      "[14:40:09] WARNING: ../src/learner.cc:1095: Starting in XGBoost 1.3.0, the default evaluation metric used with the objective 'binary:logistic' was changed from 'error' to 'logloss'. Explicitly set eval_metric if you'd like to restore the old behavior.\n"
     ]
    },
    {
     "data": {
      "text/plain": [
       "array([0.92473994, 0.92147639, 0.92419034, 0.9245522 , 0.92672336])"
      ]
     },
     "execution_count": 51,
     "metadata": {},
     "output_type": "execute_result"
    }
   ],
   "source": [
    "cross_val_score(cv_best_xgb_pipe, token_docs, y_train, cv = 5)"
   ]
  },
  {
   "cell_type": "code",
   "execution_count": 52,
   "id": "2eda9097",
   "metadata": {},
   "outputs": [
    {
     "data": {
      "text/plain": [
       "0.925531914893617"
      ]
     },
     "execution_count": 52,
     "metadata": {},
     "output_type": "execute_result"
    }
   ],
   "source": [
    "cv_best_xgb_pipe.score(test_token_docs, y_test)"
   ]
  },
  {
   "cell_type": "code",
   "execution_count": 53,
   "id": "0e767fd1",
   "metadata": {},
   "outputs": [
    {
     "data": {
      "text/plain": [
       "<sklearn.metrics._plot.confusion_matrix.ConfusionMatrixDisplay at 0x7f05190f54e0>"
      ]
     },
     "execution_count": 53,
     "metadata": {},
     "output_type": "execute_result"
    },
    {
     "data": {
      "image/png": "[encoded data removed]",
      "text/plain": [
       "<Figure size 432x288 with 2 Axes>"
      ]
     },
     "metadata": {
      "needs_background": "light"
     },
     "output_type": "display_data"
    }
   ],
   "source": [
    "plot_confusion_matrix(cv_best_xgb_pipe, test_token_docs, y_test)"
   ]
  },
  {
   "cell_type": "code",
   "execution_count": 54,
   "id": "f0e81623",
   "metadata": {},
   "outputs": [
    {
     "data": {
      "text/plain": [
       "<sklearn.metrics._plot.roc_curve.RocCurveDisplay at 0x7f05190f5940>"
      ]
     },
     "execution_count": 54,
     "metadata": {},
     "output_type": "execute_result"
    },
    {
     "data": {
      "image/png": "[encoded data removed]",
      "text/plain": [
       "<Figure size 432x288 with 1 Axes>"
      ]
     },
     "metadata": {
      "needs_background": "light"
     },
     "output_type": "display_data"
    }
   ],
   "source": [
    "plot_roc_curve(cv_best_xgb_pipe, test_token_docs, y_test)"
   ]
  },
  {
   "cell_type": "code",
   "execution_count": 55,
   "id": "c2143646",
   "metadata": {},
   "outputs": [
    {
     "name": "stdout",
     "output_type": "stream",
     "text": [
      "              precision    recall  f1-score   support\n",
      "\n",
      "           0       0.93      0.99      0.96     12643\n",
      "           1       0.68      0.23      0.35      1175\n",
      "\n",
      "    accuracy                           0.93     13818\n",
      "   macro avg       0.81      0.61      0.65     13818\n",
      "weighted avg       0.91      0.93      0.91     13818\n",
      "\n"
     ]
    }
   ],
   "source": [
    "y_hat_3 = cv_best_xgb_pipe.predict(test_token_docs)\n",
    "print(classification_report(y_pred = y_hat_3, y_true = y_test))"
   ]
  },
  {
   "cell_type": "markdown",
   "id": "89dd0c85",
   "metadata": {},
   "source": [
    "## NLP Cleanup ONLY Words (No # or @)"
   ]
  },
  {
   "cell_type": "code",
   "execution_count": 21,
   "id": "75e64540",
   "metadata": {},
   "outputs": [],
   "source": [
    "def doc_preparer_2(doc, stop_words=sw):\n",
    " \n",
    "    regex_token = RegexpTokenizer(r\"([a-zA-Z]+(?:’[a-z]+)?)\")\n",
    "    doc = regex_token.tokenize(doc)\n",
    "    doc = [word.lower() for word in doc]\n",
    "    doc = [word for word in doc if word not in sw]\n",
    "    doc = pos_tag(doc)\n",
    "    doc = [(word[0], get_wordnet_pos(word[1])) for word in doc]\n",
    "    lemmatizer = WordNetLemmatizer() \n",
    "    doc = [lemmatizer.lemmatize(word[0], word[1]) for word in doc]\n",
    "    return ' '.join(doc)"
   ]
  },
  {
   "cell_type": "code",
   "execution_count": 22,
   "id": "122cefea",
   "metadata": {},
   "outputs": [],
   "source": [
    "token_docs_2 = [doc_preparer_2(doc, sw) for doc in X_train]\n",
    "test_token_docs_2 = [doc_preparer_2(doc, sw) for doc in X_test]"
   ]
  },
  {
   "cell_type": "markdown",
   "id": "389535f7",
   "metadata": {},
   "source": [
    "## Pipeline Grid Search for XGBoost on TFIDF"
   ]
  },
  {
   "cell_type": "code",
   "execution_count": 23,
   "id": "a9bb26e7",
   "metadata": {},
   "outputs": [],
   "source": [
    "tfidf_xgb_pipe_2 = Pipeline([\n",
    "    ('tfidf', TfidfVectorizer()),\n",
    "    ('SMOTE', SMOTE(n_jobs = -1)),\n",
    "    ('xgb', XGBClassifier(n_jobs = -1, verbosity = 1))\n",
    "])"
   ]
  },
  {
   "cell_type": "code",
   "execution_count": 24,
   "id": "475bbd21",
   "metadata": {},
   "outputs": [
    {
     "name": "stdout",
     "output_type": "stream",
     "text": [
      "[19:54:11] WARNING: ../src/learner.cc:1095: Starting in XGBoost 1.3.0, the default evaluation metric used with the objective 'binary:logistic' was changed from 'error' to 'logloss'. Explicitly set eval_metric if you'd like to restore the old behavior.\n"
     ]
    },
    {
     "data": {
      "text/plain": [
       "Pipeline(steps=[('tfidf', TfidfVectorizer()), ('SMOTE', SMOTE(n_jobs=-1)),\n",
       "                ('xgb',\n",
       "                 XGBClassifier(base_score=0.5, booster='gbtree',\n",
       "                               colsample_bylevel=1, colsample_bynode=1,\n",
       "                               colsample_bytree=1, gamma=0, gpu_id=-1,\n",
       "                               importance_type='gain',\n",
       "                               interaction_constraints='',\n",
       "                               learning_rate=0.300000012, max_delta_step=0,\n",
       "                               max_depth=6, min_child_weight=1, missing=nan,\n",
       "                               monotone_constraints='()', n_estimators=100,\n",
       "                               n_jobs=-1, num_parallel_tree=1, random_state=0,\n",
       "                               reg_alpha=0, reg_lambda=1, scale_pos_weight=1,\n",
       "                               subsample=1, tree_method='exact',\n",
       "                               validate_parameters=1, verbosity=1))])"
      ]
     },
     "execution_count": 24,
     "metadata": {},
     "output_type": "execute_result"
    }
   ],
   "source": [
    "tfidf_xgb_pipe_2.fit(token_docs_2, y_train)"
   ]
  },
  {
   "cell_type": "code",
   "execution_count": 25,
   "id": "1a259021",
   "metadata": {},
   "outputs": [],
   "source": [
    "gs_tfidf_xgb_2 = GridSearchCV(tfidf_xgb_pipe_2,\n",
    "                            param_grid=tfidf_xgb_params, \n",
    "                            cv = 3, \n",
    "                            verbose = 3,\n",
    "                           n_jobs = -1)"
   ]
  },
  {
   "cell_type": "code",
   "execution_count": 26,
   "id": "ce36e654",
   "metadata": {},
   "outputs": [
    {
     "name": "stdout",
     "output_type": "stream",
     "text": [
      "Fitting 3 folds for each of 81 candidates, totalling 243 fits\n",
      "[23:10:39] WARNING: ../src/learner.cc:1095: Starting in XGBoost 1.3.0, the default evaluation metric used with the objective 'binary:logistic' was changed from 'error' to 'logloss'. Explicitly set eval_metric if you'd like to restore the old behavior.\n"
     ]
    },
    {
     "data": {
      "text/plain": [
       "GridSearchCV(cv=3,\n",
       "             estimator=Pipeline(steps=[('tfidf', TfidfVectorizer()),\n",
       "                                       ('SMOTE', SMOTE(n_jobs=-1)),\n",
       "                                       ('xgb',\n",
       "                                        XGBClassifier(base_score=0.5,\n",
       "                                                      booster='gbtree',\n",
       "                                                      colsample_bylevel=1,\n",
       "                                                      colsample_bynode=1,\n",
       "                                                      colsample_bytree=1,\n",
       "                                                      gamma=0, gpu_id=-1,\n",
       "                                                      importance_type='gain',\n",
       "                                                      interaction_constraints='',\n",
       "                                                      learning_rate=0.300000012,\n",
       "                                                      max_delta_step=0,\n",
       "                                                      max_depth=6,\n",
       "                                                      min_child_weight=...\n",
       "                                                      n_estimators=100,\n",
       "                                                      n_jobs=-1,\n",
       "                                                      num_parallel_tree=1,\n",
       "                                                      random_state=0,\n",
       "                                                      reg_alpha=0, reg_lambda=1,\n",
       "                                                      scale_pos_weight=1,\n",
       "                                                      subsample=1,\n",
       "                                                      tree_method='exact',\n",
       "                                                      validate_parameters=1,\n",
       "                                                      verbosity=1))]),\n",
       "             n_jobs=-1,\n",
       "             param_grid={'SMOTE__sampling_strategy': ['auto', 0.75, 0.9],\n",
       "                         'tfidf__max_features': [None, 20000, 1000],\n",
       "                         'tfidf__ngram_range': [(1, 1), (1, 2), (2, 2)],\n",
       "                         'xgb__max_depth': [3, 4, 5]},\n",
       "             verbose=3)"
      ]
     },
     "execution_count": 26,
     "metadata": {},
     "output_type": "execute_result"
    }
   ],
   "source": [
    "gs_tfidf_xgb_2.fit(token_docs_2, y_train)"
   ]
  },
  {
   "cell_type": "code",
   "execution_count": 27,
   "id": "8e1098c7",
   "metadata": {},
   "outputs": [
    {
     "data": {
      "text/plain": [
       "0.9218758611368153"
      ]
     },
     "execution_count": 27,
     "metadata": {},
     "output_type": "execute_result"
    }
   ],
   "source": [
    "gs_tfidf_xgb_2.best_score_"
   ]
  },
  {
   "cell_type": "code",
   "execution_count": 28,
   "id": "b16cebad",
   "metadata": {},
   "outputs": [
    {
     "data": {
      "text/plain": [
       "Pipeline(steps=[('tfidf', TfidfVectorizer(ngram_range=(2, 2))),\n",
       "                ('SMOTE', SMOTE(n_jobs=-1, sampling_strategy=0.75)),\n",
       "                ('xgb',\n",
       "                 XGBClassifier(base_score=0.5, booster='gbtree',\n",
       "                               colsample_bylevel=1, colsample_bynode=1,\n",
       "                               colsample_bytree=1, gamma=0, gpu_id=-1,\n",
       "                               importance_type='gain',\n",
       "                               interaction_constraints='',\n",
       "                               learning_rate=0.300000012, max_delta_step=0,\n",
       "                               max_depth=3, min_child_weight=1, missing=nan,\n",
       "                               monotone_constraints='()', n_estimators=100,\n",
       "                               n_jobs=-1, num_parallel_tree=1, random_state=0,\n",
       "                               reg_alpha=0, reg_lambda=1, scale_pos_weight=1,\n",
       "                               subsample=1, tree_method='exact',\n",
       "                               validate_parameters=1, verbosity=1))])"
      ]
     },
     "execution_count": 28,
     "metadata": {},
     "output_type": "execute_result"
    }
   ],
   "source": [
    "gs_tfidf_xgb_2.best_estimator_"
   ]
  },
  {
   "cell_type": "code",
   "execution_count": 29,
   "id": "3c064b04",
   "metadata": {},
   "outputs": [
    {
     "data": {
      "text/plain": [
       "{'SMOTE__sampling_strategy': 0.75,\n",
       " 'tfidf__max_features': None,\n",
       " 'tfidf__ngram_range': (2, 2),\n",
       " 'xgb__max_depth': 3}"
      ]
     },
     "execution_count": 29,
     "metadata": {},
     "output_type": "execute_result"
    }
   ],
   "source": [
    "gs_tfidf_xgb_2.best_params_"
   ]
  },
  {
   "cell_type": "markdown",
   "id": "0878c559",
   "metadata": {},
   "source": [
    "## Best XGBoost Model / TFIDF"
   ]
  },
  {
   "cell_type": "code",
   "execution_count": 30,
   "id": "11995391",
   "metadata": {},
   "outputs": [],
   "source": [
    "tfidf_best_xgb_pipe_2 = Pipeline([\n",
    "    ('tfidf', TfidfVectorizer(max_features = None, ngram_range = (2,2))),\n",
    "    ('SMOTE', SMOTE(n_jobs = -1, sampling_strategy = 0.75)),\n",
    "    ('xgb', XGBClassifier(n_jobs = -1, verbosity = 1, max_depth = 3))\n",
    "])"
   ]
  },
  {
   "cell_type": "code",
   "execution_count": 31,
   "id": "ac91fe43",
   "metadata": {},
   "outputs": [
    {
     "name": "stdout",
     "output_type": "stream",
     "text": [
      "[23:24:13] WARNING: ../src/learner.cc:1095: Starting in XGBoost 1.3.0, the default evaluation metric used with the objective 'binary:logistic' was changed from 'error' to 'logloss'. Explicitly set eval_metric if you'd like to restore the old behavior.\n"
     ]
    },
    {
     "data": {
      "text/plain": [
       "Pipeline(steps=[('tfidf', TfidfVectorizer(ngram_range=(2, 2))),\n",
       "                ('SMOTE', SMOTE(n_jobs=-1, sampling_strategy=0.75)),\n",
       "                ('xgb',\n",
       "                 XGBClassifier(base_score=0.5, booster='gbtree',\n",
       "                               colsample_bylevel=1, colsample_bynode=1,\n",
       "                               colsample_bytree=1, gamma=0, gpu_id=-1,\n",
       "                               importance_type='gain',\n",
       "                               interaction_constraints='',\n",
       "                               learning_rate=0.300000012, max_delta_step=0,\n",
       "                               max_depth=3, min_child_weight=1, missing=nan,\n",
       "                               monotone_constraints='()', n_estimators=100,\n",
       "                               n_jobs=-1, num_parallel_tree=1, random_state=0,\n",
       "                               reg_alpha=0, reg_lambda=1, scale_pos_weight=1,\n",
       "                               subsample=1, tree_method='exact',\n",
       "                               validate_parameters=1, verbosity=1))])"
      ]
     },
     "execution_count": 31,
     "metadata": {},
     "output_type": "execute_result"
    }
   ],
   "source": [
    "tfidf_best_xgb_pipe_2.fit(token_docs_2, y_train)"
   ]
  },
  {
   "cell_type": "code",
   "execution_count": 32,
   "id": "51ecc8bb",
   "metadata": {},
   "outputs": [
    {
     "data": {
      "text/plain": [
       "0.9277559660581498"
      ]
     },
     "execution_count": 32,
     "metadata": {},
     "output_type": "execute_result"
    }
   ],
   "source": [
    "tfidf_best_xgb_pipe_2.score(token_docs_2, y_train)"
   ]
  },
  {
   "cell_type": "code",
   "execution_count": 33,
   "id": "4e6e1610",
   "metadata": {},
   "outputs": [
    {
     "name": "stdout",
     "output_type": "stream",
     "text": [
      "[23:24:53] WARNING: ../src/learner.cc:1095: Starting in XGBoost 1.3.0, the default evaluation metric used with the objective 'binary:logistic' was changed from 'error' to 'logloss'. Explicitly set eval_metric if you'd like to restore the old behavior.\n",
      "[23:25:09] WARNING: ../src/learner.cc:1095: Starting in XGBoost 1.3.0, the default evaluation metric used with the objective 'binary:logistic' was changed from 'error' to 'logloss'. Explicitly set eval_metric if you'd like to restore the old behavior.\n",
      "[23:25:24] WARNING: ../src/learner.cc:1095: Starting in XGBoost 1.3.0, the default evaluation metric used with the objective 'binary:logistic' was changed from 'error' to 'logloss'. Explicitly set eval_metric if you'd like to restore the old behavior.\n",
      "[23:25:39] WARNING: ../src/learner.cc:1095: Starting in XGBoost 1.3.0, the default evaluation metric used with the objective 'binary:logistic' was changed from 'error' to 'logloss'. Explicitly set eval_metric if you'd like to restore the old behavior.\n",
      "[23:25:50] WARNING: ../src/learner.cc:1095: Starting in XGBoost 1.3.0, the default evaluation metric used with the objective 'binary:logistic' was changed from 'error' to 'logloss'. Explicitly set eval_metric if you'd like to restore the old behavior.\n"
     ]
    },
    {
     "data": {
      "text/plain": [
       "array([0.92157395, 0.92210964, 0.92057174, 0.92409987, 0.9224715 ])"
      ]
     },
     "execution_count": 33,
     "metadata": {},
     "output_type": "execute_result"
    }
   ],
   "source": [
    "cross_val_score(tfidf_best_xgb_pipe_2, token_docs_2, y_train, cv = 5)"
   ]
  },
  {
   "cell_type": "code",
   "execution_count": 34,
   "id": "135032e0",
   "metadata": {},
   "outputs": [
    {
     "data": {
      "text/plain": [
       "0.9237950499348676"
      ]
     },
     "execution_count": 34,
     "metadata": {},
     "output_type": "execute_result"
    }
   ],
   "source": [
    "tfidf_best_xgb_pipe_2.score(test_token_docs_2, y_test)"
   ]
  },
  {
   "cell_type": "code",
   "execution_count": 36,
   "id": "2ca9d65a",
   "metadata": {},
   "outputs": [
    {
     "data": {
      "text/plain": [
       "<sklearn.metrics._plot.confusion_matrix.ConfusionMatrixDisplay at 0x7f6a9a7666a0>"
      ]
     },
     "execution_count": 36,
     "metadata": {},
     "output_type": "execute_result"
    },
    {
     "data": {
      "image/png": "[encoded data removed]",
      "text/plain": [
       "<Figure size 432x288 with 2 Axes>"
      ]
     },
     "metadata": {
      "needs_background": "light"
     },
     "output_type": "display_data"
    }
   ],
   "source": [
    "plot_confusion_matrix(tfidf_best_xgb_pipe_2, test_token_docs_2, y_test)"
   ]
  },
  {
   "cell_type": "code",
   "execution_count": 39,
   "id": "5f612e04",
   "metadata": {},
   "outputs": [
    {
     "data": {
      "text/plain": [
       "<sklearn.metrics._plot.roc_curve.RocCurveDisplay at 0x7f6a82726f98>"
      ]
     },
     "execution_count": 39,
     "metadata": {},
     "output_type": "execute_result"
    },
    {
     "data": {
      "image/png": "[encoded data removed]",
      "text/plain": [
       "<Figure size 432x288 with 1 Axes>"
      ]
     },
     "metadata": {
      "needs_background": "light"
     },
     "output_type": "display_data"
    }
   ],
   "source": [
    "plot_roc_curve(tfidf_best_xgb_pipe_2, test_token_docs_2, y_test)"
   ]
  },
  {
   "cell_type": "code",
   "execution_count": 37,
   "id": "aa9b5f7a",
   "metadata": {},
   "outputs": [
    {
     "name": "stdout",
     "output_type": "stream",
     "text": [
      "              precision    recall  f1-score   support\n",
      "\n",
      "           0       0.93      0.99      0.96     12643\n",
      "           1       0.73      0.17      0.27      1175\n",
      "\n",
      "    accuracy                           0.92     13818\n",
      "   macro avg       0.83      0.58      0.61     13818\n",
      "weighted avg       0.91      0.92      0.90     13818\n",
      "\n"
     ]
    }
   ],
   "source": [
    "y_hat_4 = tfidf_best_xgb_pipe_2.predict(test_token_docs_2)\n",
    "print(classification_report(y_pred = y_hat_4, y_true = y_test))"
   ]
  },
  {
   "cell_type": "markdown",
   "id": "ac2cb6a9",
   "metadata": {},
   "source": [
    "## Pipeline Grid Search for XGBoost Model on Count Vectorizer"
   ]
  },
  {
   "cell_type": "code",
   "execution_count": 40,
   "id": "5834cba4",
   "metadata": {},
   "outputs": [],
   "source": [
    "cv_xgb_pipe_2 = Pipeline([\n",
    "    ('cv', CountVectorizer()),\n",
    "    ('SMOTE', SMOTE(n_jobs = -1)),\n",
    "    ('xgb', XGBClassifier(n_jobs = -1, verbosity = 1))\n",
    "])"
   ]
  },
  {
   "cell_type": "code",
   "execution_count": 41,
   "id": "39d3ee23",
   "metadata": {},
   "outputs": [
    {
     "name": "stdout",
     "output_type": "stream",
     "text": [
      "[23:27:22] WARNING: ../src/learner.cc:1095: Starting in XGBoost 1.3.0, the default evaluation metric used with the objective 'binary:logistic' was changed from 'error' to 'logloss'. Explicitly set eval_metric if you'd like to restore the old behavior.\n"
     ]
    },
    {
     "data": {
      "text/plain": [
       "Pipeline(steps=[('cv', CountVectorizer()), ('SMOTE', SMOTE(n_jobs=-1)),\n",
       "                ('xgb',\n",
       "                 XGBClassifier(base_score=0.5, booster='gbtree',\n",
       "                               colsample_bylevel=1, colsample_bynode=1,\n",
       "                               colsample_bytree=1, gamma=0, gpu_id=-1,\n",
       "                               importance_type='gain',\n",
       "                               interaction_constraints='',\n",
       "                               learning_rate=0.300000012, max_delta_step=0,\n",
       "                               max_depth=6, min_child_weight=1, missing=nan,\n",
       "                               monotone_constraints='()', n_estimators=100,\n",
       "                               n_jobs=-1, num_parallel_tree=1, random_state=0,\n",
       "                               reg_alpha=0, reg_lambda=1, scale_pos_weight=1,\n",
       "                               subsample=1, tree_method='exact',\n",
       "                               validate_parameters=1, verbosity=1))])"
      ]
     },
     "execution_count": 41,
     "metadata": {},
     "output_type": "execute_result"
    }
   ],
   "source": [
    "cv_xgb_pipe_2.fit(token_docs_2, y_train)"
   ]
  },
  {
   "cell_type": "code",
   "execution_count": 44,
   "id": "0599fd0f",
   "metadata": {},
   "outputs": [],
   "source": [
    "gs_cv_xgb_2 = GridSearchCV(cv_xgb_pipe_2,\n",
    "                            param_grid=cv_xgb_params, \n",
    "                            cv = 3, \n",
    "                            verbose = 3,\n",
    "                           n_jobs = -1)"
   ]
  },
  {
   "cell_type": "code",
   "execution_count": 45,
   "id": "75985abd",
   "metadata": {},
   "outputs": [
    {
     "name": "stdout",
     "output_type": "stream",
     "text": [
      "Fitting 3 folds for each of 81 candidates, totalling 243 fits\n",
      "[01:20:49] WARNING: ../src/learner.cc:1095: Starting in XGBoost 1.3.0, the default evaluation metric used with the objective 'binary:logistic' was changed from 'error' to 'logloss'. Explicitly set eval_metric if you'd like to restore the old behavior.\n"
     ]
    },
    {
     "data": {
      "text/plain": [
       "GridSearchCV(cv=3,\n",
       "             estimator=Pipeline(steps=[('cv', CountVectorizer()),\n",
       "                                       ('SMOTE', SMOTE(n_jobs=-1)),\n",
       "                                       ('xgb',\n",
       "                                        XGBClassifier(base_score=0.5,\n",
       "                                                      booster='gbtree',\n",
       "                                                      colsample_bylevel=1,\n",
       "                                                      colsample_bynode=1,\n",
       "                                                      colsample_bytree=1,\n",
       "                                                      gamma=0, gpu_id=-1,\n",
       "                                                      importance_type='gain',\n",
       "                                                      interaction_constraints='',\n",
       "                                                      learning_rate=0.300000012,\n",
       "                                                      max_delta_step=0,\n",
       "                                                      max_depth=6,\n",
       "                                                      min_child_weight=1,\n",
       "                                                      m...\n",
       "                                                      n_estimators=100,\n",
       "                                                      n_jobs=-1,\n",
       "                                                      num_parallel_tree=1,\n",
       "                                                      random_state=0,\n",
       "                                                      reg_alpha=0, reg_lambda=1,\n",
       "                                                      scale_pos_weight=1,\n",
       "                                                      subsample=1,\n",
       "                                                      tree_method='exact',\n",
       "                                                      validate_parameters=1,\n",
       "                                                      verbosity=1))]),\n",
       "             n_jobs=-1,\n",
       "             param_grid={'SMOTE__sampling_strategy': ['auto', 0.75, 0.9],\n",
       "                         'cv__max_features': [None, 20000, 1000],\n",
       "                         'cv__ngram_range': [(1, 1), (1, 2), (2, 2)],\n",
       "                         'xgb__max_depth': [3, 4, 5]},\n",
       "             verbose=3)"
      ]
     },
     "execution_count": 45,
     "metadata": {},
     "output_type": "execute_result"
    }
   ],
   "source": [
    "gs_cv_xgb_2.fit(token_docs_2, y_train)"
   ]
  },
  {
   "cell_type": "code",
   "execution_count": 46,
   "id": "a5836f99",
   "metadata": {},
   "outputs": [
    {
     "data": {
      "text/plain": [
       "0.9249516194064373"
      ]
     },
     "execution_count": 46,
     "metadata": {},
     "output_type": "execute_result"
    }
   ],
   "source": [
    "gs_cv_xgb_2.best_score_"
   ]
  },
  {
   "cell_type": "code",
   "execution_count": 47,
   "id": "494ce1f8",
   "metadata": {},
   "outputs": [
    {
     "data": {
      "text/plain": [
       "Pipeline(steps=[('cv', CountVectorizer(ngram_range=(1, 2))),\n",
       "                ('SMOTE', SMOTE(n_jobs=-1, sampling_strategy=0.75)),\n",
       "                ('xgb',\n",
       "                 XGBClassifier(base_score=0.5, booster='gbtree',\n",
       "                               colsample_bylevel=1, colsample_bynode=1,\n",
       "                               colsample_bytree=1, gamma=0, gpu_id=-1,\n",
       "                               importance_type='gain',\n",
       "                               interaction_constraints='',\n",
       "                               learning_rate=0.300000012, max_delta_step=0,\n",
       "                               max_depth=5, min_child_weight=1, missing=nan,\n",
       "                               monotone_constraints='()', n_estimators=100,\n",
       "                               n_jobs=-1, num_parallel_tree=1, random_state=0,\n",
       "                               reg_alpha=0, reg_lambda=1, scale_pos_weight=1,\n",
       "                               subsample=1, tree_method='exact',\n",
       "                               validate_parameters=1, verbosity=1))])"
      ]
     },
     "execution_count": 47,
     "metadata": {},
     "output_type": "execute_result"
    }
   ],
   "source": [
    "gs_cv_xgb_2.best_estimator_"
   ]
  },
  {
   "cell_type": "code",
   "execution_count": 48,
   "id": "86f8fbe5",
   "metadata": {},
   "outputs": [
    {
     "data": {
      "text/plain": [
       "{'SMOTE__sampling_strategy': 0.75,\n",
       " 'cv__max_features': None,\n",
       " 'cv__ngram_range': (1, 2),\n",
       " 'xgb__max_depth': 5}"
      ]
     },
     "execution_count": 48,
     "metadata": {},
     "output_type": "execute_result"
    }
   ],
   "source": [
    "gs_cv_xgb_2.best_params_"
   ]
  },
  {
   "cell_type": "markdown",
   "id": "2fb8c14d",
   "metadata": {},
   "source": [
    "## Best XGBoost Model with Count Vectorizer"
   ]
  },
  {
   "cell_type": "code",
   "execution_count": 49,
   "id": "f6a47228",
   "metadata": {},
   "outputs": [],
   "source": [
    "cv_best_xgb_pipe_2 = Pipeline([\n",
    "    ('cv', CountVectorizer(max_features = None, ngram_range = (1,2))),\n",
    "    ('SMOTE', SMOTE(n_jobs = -1, sampling_strategy = 0.75)),\n",
    "    ('xgb', XGBClassifier(n_jobs = -1, verbosity = 1, max_depth = 5))\n",
    "])"
   ]
  },
  {
   "cell_type": "code",
   "execution_count": 50,
   "id": "b86f9b6b",
   "metadata": {},
   "outputs": [
    {
     "name": "stdout",
     "output_type": "stream",
     "text": [
      "[01:25:17] WARNING: ../src/learner.cc:1095: Starting in XGBoost 1.3.0, the default evaluation metric used with the objective 'binary:logistic' was changed from 'error' to 'logloss'. Explicitly set eval_metric if you'd like to restore the old behavior.\n"
     ]
    },
    {
     "data": {
      "text/plain": [
       "Pipeline(steps=[('cv', CountVectorizer(ngram_range=(1, 2))),\n",
       "                ('SMOTE', SMOTE(n_jobs=-1, sampling_strategy=0.75)),\n",
       "                ('xgb',\n",
       "                 XGBClassifier(base_score=0.5, booster='gbtree',\n",
       "                               colsample_bylevel=1, colsample_bynode=1,\n",
       "                               colsample_bytree=1, gamma=0, gpu_id=-1,\n",
       "                               importance_type='gain',\n",
       "                               interaction_constraints='',\n",
       "                               learning_rate=0.300000012, max_delta_step=0,\n",
       "                               max_depth=5, min_child_weight=1, missing=nan,\n",
       "                               monotone_constraints='()', n_estimators=100,\n",
       "                               n_jobs=-1, num_parallel_tree=1, random_state=0,\n",
       "                               reg_alpha=0, reg_lambda=1, scale_pos_weight=1,\n",
       "                               subsample=1, tree_method='exact',\n",
       "                               validate_parameters=1, verbosity=1))])"
      ]
     },
     "execution_count": 50,
     "metadata": {},
     "output_type": "execute_result"
    }
   ],
   "source": [
    "cv_best_xgb_pipe_2.fit(token_docs_2, y_train)"
   ]
  },
  {
   "cell_type": "code",
   "execution_count": 51,
   "id": "0bfa53a6",
   "metadata": {},
   "outputs": [
    {
     "data": {
      "text/plain": [
       "0.9274302979862857"
      ]
     },
     "execution_count": 51,
     "metadata": {},
     "output_type": "execute_result"
    }
   ],
   "source": [
    "cv_best_xgb_pipe_2.score(token_docs_2, y_train)"
   ]
  },
  {
   "cell_type": "code",
   "execution_count": 52,
   "id": "482537b3",
   "metadata": {},
   "outputs": [
    {
     "name": "stdout",
     "output_type": "stream",
     "text": [
      "[01:25:47] WARNING: ../src/learner.cc:1095: Starting in XGBoost 1.3.0, the default evaluation metric used with the objective 'binary:logistic' was changed from 'error' to 'logloss'. Explicitly set eval_metric if you'd like to restore the old behavior.\n",
      "[01:27:10] WARNING: ../src/learner.cc:1095: Starting in XGBoost 1.3.0, the default evaluation metric used with the objective 'binary:logistic' was changed from 'error' to 'logloss'. Explicitly set eval_metric if you'd like to restore the old behavior.\n",
      "[01:29:06] WARNING: ../src/learner.cc:1095: Starting in XGBoost 1.3.0, the default evaluation metric used with the objective 'binary:logistic' was changed from 'error' to 'logloss'. Explicitly set eval_metric if you'd like to restore the old behavior.\n",
      "[01:30:21] WARNING: ../src/learner.cc:1095: Starting in XGBoost 1.3.0, the default evaluation metric used with the objective 'binary:logistic' was changed from 'error' to 'logloss'. Explicitly set eval_metric if you'd like to restore the old behavior.\n",
      "[01:30:43] WARNING: ../src/learner.cc:1095: Starting in XGBoost 1.3.0, the default evaluation metric used with the objective 'binary:logistic' was changed from 'error' to 'logloss'. Explicitly set eval_metric if you'd like to restore the old behavior.\n"
     ]
    },
    {
     "data": {
      "text/plain": [
       "array([0.92654907, 0.92283336, 0.92446173, 0.92509499, 0.92627103])"
      ]
     },
     "execution_count": 52,
     "metadata": {},
     "output_type": "execute_result"
    }
   ],
   "source": [
    "cross_val_score(cv_best_xgb_pipe_2, token_docs_2, y_train, cv = 5)"
   ]
  },
  {
   "cell_type": "code",
   "execution_count": 53,
   "id": "73d360cf",
   "metadata": {},
   "outputs": [
    {
     "data": {
      "text/plain": [
       "0.9278477348386163"
      ]
     },
     "execution_count": 53,
     "metadata": {},
     "output_type": "execute_result"
    }
   ],
   "source": [
    "cv_best_xgb_pipe_2.score(test_token_docs_2, y_test)"
   ]
  },
  {
   "cell_type": "code",
   "execution_count": 54,
   "id": "d454ab12",
   "metadata": {},
   "outputs": [
    {
     "data": {
      "text/plain": [
       "<sklearn.metrics._plot.confusion_matrix.ConfusionMatrixDisplay at 0x7f6a7de3fcc0>"
      ]
     },
     "execution_count": 54,
     "metadata": {},
     "output_type": "execute_result"
    },
    {
     "data": {
      "image/png": "[encoded data removed]",
      "text/plain": [
       "<Figure size 432x288 with 2 Axes>"
      ]
     },
     "metadata": {
      "needs_background": "light"
     },
     "output_type": "display_data"
    }
   ],
   "source": [
    "plot_confusion_matrix(cv_best_xgb_pipe_2, test_token_docs_2, y_test)"
   ]
  },
  {
   "cell_type": "code",
   "execution_count": 55,
   "id": "77ab0b23",
   "metadata": {},
   "outputs": [
    {
     "data": {
      "text/plain": [
       "<sklearn.metrics._plot.roc_curve.RocCurveDisplay at 0x7f6a8249a320>"
      ]
     },
     "execution_count": 55,
     "metadata": {},
     "output_type": "execute_result"
    },
    {
     "data": {
      "image/png": "[encoded data removed]",
      "text/plain": [
       "<Figure size 432x288 with 1 Axes>"
      ]
     },
     "metadata": {
      "needs_background": "light"
     },
     "output_type": "display_data"
    }
   ],
   "source": [
    "plot_roc_curve(cv_best_xgb_pipe_2, test_token_docs_2, y_test)"
   ]
  },
  {
   "cell_type": "code",
   "execution_count": 56,
   "id": "93899a55",
   "metadata": {},
   "outputs": [
    {
     "name": "stdout",
     "output_type": "stream",
     "text": [
      "              precision    recall  f1-score   support\n",
      "\n",
      "           0       0.94      0.99      0.96     12643\n",
      "           1       0.69      0.28      0.40      1175\n",
      "\n",
      "    accuracy                           0.93     13818\n",
      "   macro avg       0.81      0.63      0.68     13818\n",
      "weighted avg       0.92      0.93      0.91     13818\n",
      "\n"
     ]
    }
   ],
   "source": [
    "y_hat_5 = cv_best_xgb_pipe_2.predict(test_token_docs_2)\n",
    "print(classification_report(y_pred = y_hat_5, y_true = y_test))"
   ]
  },
  {
   "cell_type": "code",
   "execution_count": null,
   "id": "6bd9c07f",
   "metadata": {},
   "outputs": [],
   "source": []
  }
 ],
 "metadata": {
  "kernelspec": {
   "display_name": "conda_python3",
   "language": "python",
   "name": "conda_python3"
  },
  "language_info": {
   "codemirror_mode": {
    "name": "ipython",
    "version": 3
   },
   "file_extension": ".py",
   "mimetype": "text/x-python",
   "name": "python",
   "nbconvert_exporter": "python",
   "pygments_lexer": "ipython3",
   "version": "3.6.13"
  }
 },
 "nbformat": 4,
 "nbformat_minor": 5
}

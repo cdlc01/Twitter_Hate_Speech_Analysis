{
  "nbformat": 4,
  "nbformat_minor": 0,
  "metadata": {
    "colab": {
      "name": "Multinomial Bayes.ipynb",
      "provenance": []
    },
    "kernelspec": {
      "name": "python3",
      "display_name": "Python 3"
    },
    "language_info": {
      "name": "python"
    }
  },
  "cells": [
    {
      "cell_type": "markdown",
      "metadata": {
        "id": "WZEXklu8vgo5"
      },
      "source": [
        "# Multinomial Naive Bayes Modeling"
      ]
    },
    {
      "cell_type": "markdown",
      "metadata": {
        "id": "7i14pnbzvmhu"
      },
      "source": [
        "## Pull & Clean Datasets"
      ]
    },
    {
      "cell_type": "code",
      "metadata": {
        "id": "V__tfpu6vqJH"
      },
      "source": [
        "import pandas as pd\n",
        "\n",
        "import warnings\n",
        "warnings.filterwarnings(\"ignore\")"
      ],
      "execution_count": 5,
      "outputs": []
    },
    {
      "cell_type": "code",
      "metadata": {
        "id": "b2G3es1Fv7f5"
      },
      "source": [
        "df_train = pd.read_csv('hate_speech_training.csv')\n",
        "df_train_2 = pd.read_csv('hate_speech_training_2.csv')\n",
        "df_train_3 = pd.read_csv('hate_speech_training_3.csv')\n",
        "df_train_4 = pd.read_csv('hate_speech_training_4.tsv', sep = '\\t')\n",
        "df_train_5 = pd.read_csv('hate_speech_training_5.csv')"
      ],
      "execution_count": 6,
      "outputs": []
    },
    {
      "cell_type": "code",
      "metadata": {
        "id": "1D7GuxJIwHXz"
      },
      "source": [
        "df_train = df_train.drop('id', axis = 1) #0 = Not Hate Speech, 1 = Hate Speech"
      ],
      "execution_count": 7,
      "outputs": []
    },
    {
      "cell_type": "code",
      "metadata": {
        "id": "QYBph_3IwH32"
      },
      "source": [
        "df_train_2 = df_train_2[['tweet', 'class']]\n",
        "df_train_2['class'] = df_train_2['class'].replace([0], 'hate speech')\n",
        "df_train_2['class'] = df_train_2['class'].replace([1, 2], 'not hate speech')\n",
        "df_train_2['class'] = df_train_2['class'].replace(['hate speech'], 1)\n",
        "df_train_2['class'] = df_train_2['class'].replace(['not hate speech'], 0)\n",
        "df_train_2.rename(columns = {'class': 'label'}, inplace = True) #0 = Not Hate Speech, 1 = Hate Speech"
      ],
      "execution_count": 8,
      "outputs": []
    },
    {
      "cell_type": "code",
      "metadata": {
        "id": "ri1t2v8DwIHF"
      },
      "source": [
        "df_train_3 = df_train_3.drop('index', axis = 1) \n",
        "df_train_3.rename(columns = {'post': 'tweet'}, inplace = True) #0 = Not Hate Speech, 1 = Hate Speech"
      ],
      "execution_count": 9,
      "outputs": []
    },
    {
      "cell_type": "code",
      "metadata": {
        "id": "l35c_9wLwIRr"
      },
      "source": [
        "df_train_4 = df_train_4[['text', 'HS']] \n",
        "df_train_4.rename(columns = {'text': 'tweet', 'HS': 'label'}, inplace = True) #0 = Not Hate Speech, 1 = Hate Speech"
      ],
      "execution_count": 10,
      "outputs": []
    },
    {
      "cell_type": "code",
      "metadata": {
        "id": "V-JZLFYYwIg6"
      },
      "source": [
        "df_train_5['Label'] = df_train_5['Label'].replace(['Hate', 'Non-Asian Aggression'], 1)\n",
        "df_train_5['Label'] = df_train_5['Label'].replace(['Neutral', 'Counterhate'], 0) \n",
        "df_train_5.rename(columns = {'Text': 'tweet', 'Label': 'label'}, inplace = True) #0 = Not Hate Speech, 1 = Hate Speech"
      ],
      "execution_count": 11,
      "outputs": []
    },
    {
      "cell_type": "code",
      "metadata": {
        "id": "aKsqbSeQwVFc"
      },
      "source": [
        "dfs = [df_train, df_train_2, df_train_3, df_train_4, df_train_5]\n",
        "df = pd.concat(dfs)"
      ],
      "execution_count": 12,
      "outputs": []
    },
    {
      "cell_type": "markdown",
      "metadata": {
        "id": "qdKUYcSvwamQ"
      },
      "source": [
        "## Train, Test, Split"
      ]
    },
    {
      "cell_type": "code",
      "metadata": {
        "id": "M8yE4LufweDv"
      },
      "source": [
        "from sklearn.model_selection import train_test_split"
      ],
      "execution_count": 13,
      "outputs": []
    },
    {
      "cell_type": "code",
      "metadata": {
        "id": "opzPL1XcweRM"
      },
      "source": [
        "X = df['tweet']\n",
        "y = df['label']\n",
        "X_train, X_test, y_train, y_test = train_test_split(X,\n",
        "                                                    y,\n",
        "                                                    random_state=3,\n",
        "                                                    test_size=0.20,\n",
        "                                                   stratify = y) #80/20 split"
      ],
      "execution_count": 14,
      "outputs": []
    },
    {
      "cell_type": "markdown",
      "metadata": {
        "id": "SeqjiJZLwjTs"
      },
      "source": [
        "## Pipeline for TF-IDF on Multinomial Bayes"
      ]
    },
    {
      "cell_type": "code",
      "metadata": {
        "id": "0Sw2Euyew0Iz"
      },
      "source": [
        "from sklearn.pipeline import Pipeline\n",
        "from sklearn.naive_bayes import MultinomialNB\n",
        "\n",
        "import nltk\n",
        "from nltk.tokenize import regexp_tokenize, word_tokenize, RegexpTokenizer, TweetTokenizer\n",
        "from nltk.corpus import stopwords, wordnet\n",
        "from nltk import pos_tag\n",
        "from nltk.stem import WordNetLemmatizer\n",
        "from sklearn.feature_extraction.text import TfidfVectorizer, CountVectorizer"
      ],
      "execution_count": 15,
      "outputs": []
    },
    {
      "cell_type": "code",
      "metadata": {
        "colab": {
          "base_uri": "https://localhost:8080/"
        },
        "id": "WN0lVzY4w6UM",
        "outputId": "2537206e-f6c6-4a6a-d6c8-a47d644e4ff2"
      },
      "source": [
        "nltk.download('stopwords')"
      ],
      "execution_count": 16,
      "outputs": [
        {
          "output_type": "stream",
          "text": [
            "[nltk_data] Downloading package stopwords to /root/nltk_data...\n",
            "[nltk_data]   Unzipping corpora/stopwords.zip.\n"
          ],
          "name": "stdout"
        },
        {
          "output_type": "execute_result",
          "data": {
            "text/plain": [
              "True"
            ]
          },
          "metadata": {
            "tags": []
          },
          "execution_count": 16
        }
      ]
    },
    {
      "cell_type": "code",
      "metadata": {
        "id": "AN-swYC7w9c8"
      },
      "source": [
        "tfidf_mb_pipe = Pipeline([\n",
        " ('tfidf', TfidfVectorizer(token_pattern = r\"([a-zA-Z]+(?:'[a-z]+)?)\", stop_words = 'english')),\n",
        " ('mnb', MultinomialNB())\n",
        "])"
      ],
      "execution_count": 45,
      "outputs": []
    },
    {
      "cell_type": "code",
      "metadata": {
        "colab": {
          "base_uri": "https://localhost:8080/"
        },
        "id": "BX2FhAJrxLuZ",
        "outputId": "8a39db86-7865-4d5b-817a-4ca124d175d5"
      },
      "source": [
        "tfidf_mb_pipe.fit(X_train, y_train)"
      ],
      "execution_count": 46,
      "outputs": [
        {
          "output_type": "execute_result",
          "data": {
            "text/plain": [
              "Pipeline(memory=None,\n",
              "         steps=[('tfidf',\n",
              "                 TfidfVectorizer(analyzer='word', binary=False,\n",
              "                                 decode_error='strict',\n",
              "                                 dtype=<class 'numpy.float64'>,\n",
              "                                 encoding='utf-8', input='content',\n",
              "                                 lowercase=True, max_df=1.0, max_features=None,\n",
              "                                 min_df=1, ngram_range=(1, 1), norm='l2',\n",
              "                                 preprocessor=None, smooth_idf=True,\n",
              "                                 stop_words='english', strip_accents=None,\n",
              "                                 sublinear_tf=False,\n",
              "                                 token_pattern=\"([a-zA-Z]+(?:'[a-z]+)?)\",\n",
              "                                 tokenizer=None, use_idf=True,\n",
              "                                 vocabulary=None)),\n",
              "                ('mnb',\n",
              "                 MultinomialNB(alpha=1.0, class_prior=None, fit_prior=True))],\n",
              "         verbose=False)"
            ]
          },
          "metadata": {
            "tags": []
          },
          "execution_count": 46
        }
      ]
    },
    {
      "cell_type": "code",
      "metadata": {
        "id": "-zhvJEM5xRaO"
      },
      "source": [
        "tfidf_mnb_params = {\n",
        "    'tfidf__max_features':[25_000, 10_000, 1_000, 100],\n",
        "    'tfidf__ngram_range':[(1,1), (1,2), (2,2)],\n",
        "    'tfidf__binary':[False, True],\n",
        "    'tfidf__norm': ['l1', 'l2']\n",
        "}"
      ],
      "execution_count": 102,
      "outputs": []
    },
    {
      "cell_type": "code",
      "metadata": {
        "id": "rszPfhtJxdpY"
      },
      "source": [
        "from sklearn.model_selection import GridSearchCV"
      ],
      "execution_count": 103,
      "outputs": []
    },
    {
      "cell_type": "code",
      "metadata": {
        "id": "m-iEtnCAxg9m"
      },
      "source": [
        "gs_tfidf_mnb = GridSearchCV(tfidf_mb_pipe,\n",
        "                            param_grid=tfidf_mnb_params, \n",
        "                            cv = 3, \n",
        "                            verbose = 1,\n",
        "                            n_jobs = 2)"
      ],
      "execution_count": 104,
      "outputs": []
    },
    {
      "cell_type": "code",
      "metadata": {
        "colab": {
          "base_uri": "https://localhost:8080/"
        },
        "id": "fYpdLn20xhF_",
        "outputId": "a819859b-f171-4d81-fc9f-e34d24cabc2a"
      },
      "source": [
        "gs_tfidf_mnb.fit(X_train, y_train)"
      ],
      "execution_count": 105,
      "outputs": [
        {
          "output_type": "stream",
          "text": [
            "Fitting 3 folds for each of 48 candidates, totalling 144 fits\n"
          ],
          "name": "stdout"
        },
        {
          "output_type": "stream",
          "text": [
            "[Parallel(n_jobs=2)]: Using backend LokyBackend with 2 concurrent workers.\n",
            "[Parallel(n_jobs=2)]: Done  46 tasks      | elapsed:  1.1min\n",
            "[Parallel(n_jobs=2)]: Done 144 out of 144 | elapsed:  3.5min finished\n"
          ],
          "name": "stderr"
        },
        {
          "output_type": "execute_result",
          "data": {
            "text/plain": [
              "GridSearchCV(cv=3, error_score=nan,\n",
              "             estimator=Pipeline(memory=None,\n",
              "                                steps=[('tfidf',\n",
              "                                        TfidfVectorizer(analyzer='word',\n",
              "                                                        binary=False,\n",
              "                                                        decode_error='strict',\n",
              "                                                        dtype=<class 'numpy.float64'>,\n",
              "                                                        encoding='utf-8',\n",
              "                                                        input='content',\n",
              "                                                        lowercase=True,\n",
              "                                                        max_df=1.0,\n",
              "                                                        max_features=None,\n",
              "                                                        min_df=1,\n",
              "                                                        ngram_range=(1, 1),\n",
              "                                                        norm='l2',\n",
              "                                                        preprocessor=None,\n",
              "                                                        smooth_idf=True,\n",
              "                                                        stop_words='english',\n",
              "                                                        stri...\n",
              "                                                        vocabulary=None)),\n",
              "                                       ('mnb',\n",
              "                                        MultinomialNB(alpha=1.0,\n",
              "                                                      class_prior=None,\n",
              "                                                      fit_prior=True))],\n",
              "                                verbose=False),\n",
              "             iid='deprecated', n_jobs=2,\n",
              "             param_grid={'tfidf__binary': [False, True],\n",
              "                         'tfidf__max_features': [25000, 10000, 1000, 100],\n",
              "                         'tfidf__ngram_range': [(1, 1), (1, 2), (2, 2)],\n",
              "                         'tfidf__norm': ['l1', 'l2']},\n",
              "             pre_dispatch='2*n_jobs', refit=True, return_train_score=False,\n",
              "             scoring=None, verbose=1)"
            ]
          },
          "metadata": {
            "tags": []
          },
          "execution_count": 105
        }
      ]
    },
    {
      "cell_type": "code",
      "metadata": {
        "colab": {
          "base_uri": "https://localhost:8080/"
        },
        "id": "JUAgU335xhN4",
        "outputId": "a6955b81-6cbb-465c-b7fd-c0535eb9cdaa"
      },
      "source": [
        "gs_tfidf_mnb.best_score_"
      ],
      "execution_count": 106,
      "outputs": [
        {
          "output_type": "execute_result",
          "data": {
            "text/plain": [
              "0.9249697166600175"
            ]
          },
          "metadata": {
            "tags": []
          },
          "execution_count": 106
        }
      ]
    },
    {
      "cell_type": "code",
      "metadata": {
        "colab": {
          "base_uri": "https://localhost:8080/"
        },
        "id": "Q-B81Tk7yKEB",
        "outputId": "89d81f5e-24f7-44ba-cca1-b41a456bf908"
      },
      "source": [
        "gs_tfidf_mnb.best_estimator_"
      ],
      "execution_count": 107,
      "outputs": [
        {
          "output_type": "execute_result",
          "data": {
            "text/plain": [
              "Pipeline(memory=None,\n",
              "         steps=[('tfidf',\n",
              "                 TfidfVectorizer(analyzer='word', binary=True,\n",
              "                                 decode_error='strict',\n",
              "                                 dtype=<class 'numpy.float64'>,\n",
              "                                 encoding='utf-8', input='content',\n",
              "                                 lowercase=True, max_df=1.0, max_features=10000,\n",
              "                                 min_df=1, ngram_range=(1, 2), norm='l2',\n",
              "                                 preprocessor=None, smooth_idf=True,\n",
              "                                 stop_words='english', strip_accents=None,\n",
              "                                 sublinear_tf=False,\n",
              "                                 token_pattern=\"([a-zA-Z]+(?:'[a-z]+)?)\",\n",
              "                                 tokenizer=None, use_idf=True,\n",
              "                                 vocabulary=None)),\n",
              "                ('mnb',\n",
              "                 MultinomialNB(alpha=1.0, class_prior=None, fit_prior=True))],\n",
              "         verbose=False)"
            ]
          },
          "metadata": {
            "tags": []
          },
          "execution_count": 107
        }
      ]
    },
    {
      "cell_type": "code",
      "metadata": {
        "colab": {
          "base_uri": "https://localhost:8080/"
        },
        "id": "3eoKSbaWyKKc",
        "outputId": "b841add4-decd-4225-ba3d-c1c520131235"
      },
      "source": [
        "gs_tfidf_mnb.best_params_"
      ],
      "execution_count": 108,
      "outputs": [
        {
          "output_type": "execute_result",
          "data": {
            "text/plain": [
              "{'tfidf__binary': True,\n",
              " 'tfidf__max_features': 10000,\n",
              " 'tfidf__ngram_range': (1, 2),\n",
              " 'tfidf__norm': 'l2'}"
            ]
          },
          "metadata": {
            "tags": []
          },
          "execution_count": 108
        }
      ]
    },
    {
      "cell_type": "markdown",
      "metadata": {
        "id": "fp43rTw_yYm3"
      },
      "source": [
        "## Best Possible Multinomial Bayes Model with TF-IDF"
      ]
    },
    {
      "cell_type": "code",
      "metadata": {
        "id": "yC8SnpgFykAR"
      },
      "source": [
        "tfidf_mb_best_pipeline = Pipeline([\n",
        " ('tfidf', TfidfVectorizer(token_pattern = r\"([a-zA-Z]+(?:'[a-z]+)?)\", stop_words = 'english', max_features = 10_000,\n",
        "                           ngram_range = (1,2), binary = True, norm = 'l2')),\n",
        " ('mnb', MultinomialNB())\n",
        "])"
      ],
      "execution_count": 109,
      "outputs": []
    },
    {
      "cell_type": "code",
      "metadata": {
        "colab": {
          "base_uri": "https://localhost:8080/"
        },
        "id": "AN_mM-iJyy8-",
        "outputId": "b026322b-187d-4a22-bf41-5760dde4de6d"
      },
      "source": [
        "tfidf_mb_best_pipeline.fit(X_train, y_train)"
      ],
      "execution_count": 110,
      "outputs": [
        {
          "output_type": "execute_result",
          "data": {
            "text/plain": [
              "Pipeline(memory=None,\n",
              "         steps=[('tfidf',\n",
              "                 TfidfVectorizer(analyzer='word', binary=True,\n",
              "                                 decode_error='strict',\n",
              "                                 dtype=<class 'numpy.float64'>,\n",
              "                                 encoding='utf-8', input='content',\n",
              "                                 lowercase=True, max_df=1.0, max_features=10000,\n",
              "                                 min_df=1, ngram_range=(1, 2), norm='l2',\n",
              "                                 preprocessor=None, smooth_idf=True,\n",
              "                                 stop_words='english', strip_accents=None,\n",
              "                                 sublinear_tf=False,\n",
              "                                 token_pattern=\"([a-zA-Z]+(?:'[a-z]+)?)\",\n",
              "                                 tokenizer=None, use_idf=True,\n",
              "                                 vocabulary=None)),\n",
              "                ('mnb',\n",
              "                 MultinomialNB(alpha=1.0, class_prior=None, fit_prior=True))],\n",
              "         verbose=False)"
            ]
          },
          "metadata": {
            "tags": []
          },
          "execution_count": 110
        }
      ]
    },
    {
      "cell_type": "code",
      "metadata": {
        "colab": {
          "base_uri": "https://localhost:8080/"
        },
        "id": "sBl0EBA9yzRK",
        "outputId": "fdd12ccc-96c8-4b3f-d09b-439f5b18bbfe"
      },
      "source": [
        "tfidf_mb_best_pipeline.score(X_train, y_train)"
      ],
      "execution_count": 111,
      "outputs": [
        {
          "output_type": "execute_result",
          "data": {
            "text/plain": [
              "0.9316639829205189"
            ]
          },
          "metadata": {
            "tags": []
          },
          "execution_count": 111
        }
      ]
    },
    {
      "cell_type": "code",
      "metadata": {
        "id": "o8kdS6SVy7o6"
      },
      "source": [
        "from sklearn.model_selection import cross_val_score"
      ],
      "execution_count": 30,
      "outputs": []
    },
    {
      "cell_type": "code",
      "metadata": {
        "colab": {
          "base_uri": "https://localhost:8080/"
        },
        "id": "6RpPK009y70z",
        "outputId": "f20e595d-31e4-4737-fbc6-93cc89ac2e36"
      },
      "source": [
        "cross_val_score(tfidf_mb_best_pipeline, X_train, y_train, cv = 8)"
      ],
      "execution_count": 112,
      "outputs": [
        {
          "output_type": "execute_result",
          "data": {
            "text/plain": [
              "array([0.92372268, 0.92574902, 0.92763063, 0.92517007, 0.92748589,\n",
              "       0.92835432, 0.92661746, 0.92675159])"
            ]
          },
          "metadata": {
            "tags": []
          },
          "execution_count": 112
        }
      ]
    },
    {
      "cell_type": "code",
      "metadata": {
        "colab": {
          "base_uri": "https://localhost:8080/"
        },
        "id": "tp_Jo1ydzQPC",
        "outputId": "1c933e4f-d69e-48a4-960b-f6e179d81793"
      },
      "source": [
        "tfidf_mb_best_pipeline.score(X_test, y_test)"
      ],
      "execution_count": 113,
      "outputs": [
        {
          "output_type": "execute_result",
          "data": {
            "text/plain": [
              "0.9287885366912723"
            ]
          },
          "metadata": {
            "tags": []
          },
          "execution_count": 113
        }
      ]
    },
    {
      "cell_type": "code",
      "metadata": {
        "id": "5C0uy1QYy7_Q"
      },
      "source": [
        "from sklearn.metrics import plot_confusion_matrix, plot_roc_curve, classification_report"
      ],
      "execution_count": 32,
      "outputs": []
    },
    {
      "cell_type": "code",
      "metadata": {
        "colab": {
          "base_uri": "https://localhost:8080/",
          "height": 296
        },
        "id": "uX7_fMVXzKS1",
        "outputId": "f2dc95b2-2130-4895-fbdd-c14cfe4b8f1b"
      },
      "source": [
        "plot_confusion_matrix(tfidf_mb_best_pipeline, X_test, y_test)"
      ],
      "execution_count": 114,
      "outputs": [
        {
          "output_type": "execute_result",
          "data": {
            "text/plain": [
              "<sklearn.metrics._plot.confusion_matrix.ConfusionMatrixDisplay at 0x7f0b23663d10>"
            ]
          },
          "metadata": {
            "tags": []
          },
          "execution_count": 114
        },
        {
          "output_type": "display_data",
          "data": {
            "image/png": "[encoded data removed]",
            "text/plain": [
              "<Figure size 432x288 with 2 Axes>"
            ]
          },
          "metadata": {
            "tags": [],
            "needs_background": "light"
          }
        }
      ]
    },
    {
      "cell_type": "code",
      "metadata": {
        "colab": {
          "base_uri": "https://localhost:8080/",
          "height": 296
        },
        "id": "gBu2MrwKy8MO",
        "outputId": "ee3289dc-5fde-4680-f33d-5b2416d08802"
      },
      "source": [
        "plot_roc_curve(tfidf_mb_best_pipeline, X_test, y_test)"
      ],
      "execution_count": 115,
      "outputs": [
        {
          "output_type": "execute_result",
          "data": {
            "text/plain": [
              "<sklearn.metrics._plot.roc_curve.RocCurveDisplay at 0x7f0b265536d0>"
            ]
          },
          "metadata": {
            "tags": []
          },
          "execution_count": 115
        },
        {
          "output_type": "display_data",
          "data": {
            "image/png": "[encoded data removed]",
            "text/plain": [
              "<Figure size 432x288 with 1 Axes>"
            ]
          },
          "metadata": {
            "tags": [],
            "needs_background": "light"
          }
        }
      ]
    },
    {
      "cell_type": "code",
      "metadata": {
        "colab": {
          "base_uri": "https://localhost:8080/"
        },
        "id": "IaWnr7sdyzXU",
        "outputId": "d8ce1034-d2df-44d4-f724-f59255b75852"
      },
      "source": [
        "y_hat = tfidf_mb_best_pipeline.predict(X_test)\n",
        "print(classification_report(y_pred = y_hat, y_true = y_test))"
      ],
      "execution_count": 116,
      "outputs": [
        {
          "output_type": "stream",
          "text": [
            "              precision    recall  f1-score   support\n",
            "\n",
            "           0       0.93      0.99      0.96     12643\n",
            "           1       0.79      0.22      0.34      1175\n",
            "\n",
            "    accuracy                           0.93     13818\n",
            "   macro avg       0.86      0.61      0.65     13818\n",
            "weighted avg       0.92      0.93      0.91     13818\n",
            "\n"
          ],
          "name": "stdout"
        }
      ]
    },
    {
      "cell_type": "markdown",
      "metadata": {
        "id": "FGLz5bBOz76g"
      },
      "source": [
        "## Pipeline for Count Vectorizer on Multinomial Bayes"
      ]
    },
    {
      "cell_type": "code",
      "metadata": {
        "id": "_5LF7H3qz91T"
      },
      "source": [
        "cv_mb_pipeline = Pipeline([\n",
        " ('cv', CountVectorizer(token_pattern = r\"([a-zA-Z]+(?:'[a-z]+)?)\", stop_words = 'english')),\n",
        " ('mnb', MultinomialNB())\n",
        "])"
      ],
      "execution_count": 61,
      "outputs": []
    },
    {
      "cell_type": "code",
      "metadata": {
        "colab": {
          "base_uri": "https://localhost:8080/"
        },
        "id": "-sXSt45S0bCY",
        "outputId": "b6517a2b-60d6-49a5-de3f-688cbe081de4"
      },
      "source": [
        "cv_mb_pipeline.fit(X_train, y_train)"
      ],
      "execution_count": 62,
      "outputs": [
        {
          "output_type": "execute_result",
          "data": {
            "text/plain": [
              "Pipeline(memory=None,\n",
              "         steps=[('cv',\n",
              "                 CountVectorizer(analyzer='word', binary=False,\n",
              "                                 decode_error='strict',\n",
              "                                 dtype=<class 'numpy.int64'>, encoding='utf-8',\n",
              "                                 input='content', lowercase=True, max_df=1.0,\n",
              "                                 max_features=None, min_df=1,\n",
              "                                 ngram_range=(1, 1), preprocessor=None,\n",
              "                                 stop_words='english', strip_accents=None,\n",
              "                                 token_pattern=\"([a-zA-Z]+(?:'[a-z]+)?)\",\n",
              "                                 tokenizer=None, vocabulary=None)),\n",
              "                ('mnb',\n",
              "                 MultinomialNB(alpha=1.0, class_prior=None, fit_prior=True))],\n",
              "         verbose=False)"
            ]
          },
          "metadata": {
            "tags": []
          },
          "execution_count": 62
        }
      ]
    },
    {
      "cell_type": "code",
      "metadata": {
        "id": "cQhfVhkX0bYm"
      },
      "source": [
        "cv_mnb_params = {\n",
        "    'cv__max_features':[25_000, 10_000, 1_000, 100],\n",
        "    'cv__ngram_range':[(1,1), (1,2), (2,2)],\n",
        "    'cv__binary':[False, True],\n",
        "    }"
      ],
      "execution_count": 120,
      "outputs": []
    },
    {
      "cell_type": "code",
      "metadata": {
        "id": "fc5FFnG40bi1"
      },
      "source": [
        "gs_cv_mnb = GridSearchCV(cv_mb_pipeline,\n",
        "                            param_grid=cv_mnb_params, \n",
        "                            cv = 3, \n",
        "                            verbose = 1,\n",
        "                         n_jobs = 3)"
      ],
      "execution_count": 121,
      "outputs": []
    },
    {
      "cell_type": "code",
      "metadata": {
        "colab": {
          "base_uri": "https://localhost:8080/"
        },
        "id": "_ZAZRdSj0bqT",
        "outputId": "8b1e7d4b-f70d-4111-e615-474a15fdea2e"
      },
      "source": [
        "gs_cv_mnb.fit(X_train, y_train)"
      ],
      "execution_count": 122,
      "outputs": [
        {
          "output_type": "stream",
          "text": [
            "Fitting 3 folds for each of 24 candidates, totalling 72 fits\n"
          ],
          "name": "stdout"
        },
        {
          "output_type": "stream",
          "text": [
            "[Parallel(n_jobs=3)]: Using backend LokyBackend with 3 concurrent workers.\n",
            "[Parallel(n_jobs=3)]: Done  44 tasks      | elapsed:  1.1min\n",
            "[Parallel(n_jobs=3)]: Done  72 out of  72 | elapsed:  1.7min finished\n"
          ],
          "name": "stderr"
        },
        {
          "output_type": "execute_result",
          "data": {
            "text/plain": [
              "GridSearchCV(cv=3, error_score=nan,\n",
              "             estimator=Pipeline(memory=None,\n",
              "                                steps=[('cv',\n",
              "                                        CountVectorizer(analyzer='word',\n",
              "                                                        binary=False,\n",
              "                                                        decode_error='strict',\n",
              "                                                        dtype=<class 'numpy.int64'>,\n",
              "                                                        encoding='utf-8',\n",
              "                                                        input='content',\n",
              "                                                        lowercase=True,\n",
              "                                                        max_df=1.0,\n",
              "                                                        max_features=None,\n",
              "                                                        min_df=1,\n",
              "                                                        ngram_range=(1, 1),\n",
              "                                                        preprocessor=None,\n",
              "                                                        stop_words='english',\n",
              "                                                        strip_accents=None,\n",
              "                                                        token_pattern=\"(...z]+)?)\",\n",
              "                                                        tokenizer=None,\n",
              "                                                        vocabulary=None)),\n",
              "                                       ('mnb',\n",
              "                                        MultinomialNB(alpha=1.0,\n",
              "                                                      class_prior=None,\n",
              "                                                      fit_prior=True))],\n",
              "                                verbose=False),\n",
              "             iid='deprecated', n_jobs=3,\n",
              "             param_grid={'cv__binary': [False, True],\n",
              "                         'cv__max_features': [25000, 10000, 1000, 100],\n",
              "                         'cv__ngram_range': [(1, 1), (1, 2), (2, 2)]},\n",
              "             pre_dispatch='2*n_jobs', refit=True, return_train_score=False,\n",
              "             scoring=None, verbose=1)"
            ]
          },
          "metadata": {
            "tags": []
          },
          "execution_count": 122
        }
      ]
    },
    {
      "cell_type": "code",
      "metadata": {
        "colab": {
          "base_uri": "https://localhost:8080/"
        },
        "id": "oTUpT_u-09I7",
        "outputId": "0d344a63-4351-4025-9ffb-25b9874b1d58"
      },
      "source": [
        "gs_cv_mnb.best_score_"
      ],
      "execution_count": 123,
      "outputs": [
        {
          "output_type": "execute_result",
          "data": {
            "text/plain": [
              "0.9265618674235035"
            ]
          },
          "metadata": {
            "tags": []
          },
          "execution_count": 123
        }
      ]
    },
    {
      "cell_type": "code",
      "metadata": {
        "colab": {
          "base_uri": "https://localhost:8080/"
        },
        "id": "JfP06i2M09vO",
        "outputId": "36ee2ea0-22ff-48fa-ec28-1d004c709496"
      },
      "source": [
        "gs_cv_mnb.best_estimator_"
      ],
      "execution_count": 124,
      "outputs": [
        {
          "output_type": "execute_result",
          "data": {
            "text/plain": [
              "Pipeline(memory=None,\n",
              "         steps=[('cv',\n",
              "                 CountVectorizer(analyzer='word', binary=True,\n",
              "                                 decode_error='strict',\n",
              "                                 dtype=<class 'numpy.int64'>, encoding='utf-8',\n",
              "                                 input='content', lowercase=True, max_df=1.0,\n",
              "                                 max_features=25000, min_df=1,\n",
              "                                 ngram_range=(1, 1), preprocessor=None,\n",
              "                                 stop_words='english', strip_accents=None,\n",
              "                                 token_pattern=\"([a-zA-Z]+(?:'[a-z]+)?)\",\n",
              "                                 tokenizer=None, vocabulary=None)),\n",
              "                ('mnb',\n",
              "                 MultinomialNB(alpha=1.0, class_prior=None, fit_prior=True))],\n",
              "         verbose=False)"
            ]
          },
          "metadata": {
            "tags": []
          },
          "execution_count": 124
        }
      ]
    },
    {
      "cell_type": "code",
      "metadata": {
        "colab": {
          "base_uri": "https://localhost:8080/"
        },
        "id": "cweBUQl00-Cc",
        "outputId": "01038408-e292-4fd9-e68e-047671f2abd8"
      },
      "source": [
        "gs_cv_mnb.best_params_"
      ],
      "execution_count": 125,
      "outputs": [
        {
          "output_type": "execute_result",
          "data": {
            "text/plain": [
              "{'cv__binary': True, 'cv__max_features': 25000, 'cv__ngram_range': (1, 1)}"
            ]
          },
          "metadata": {
            "tags": []
          },
          "execution_count": 125
        }
      ]
    },
    {
      "cell_type": "markdown",
      "metadata": {
        "id": "AF8SXxej1Ijp"
      },
      "source": [
        "## Best Possible Multinomial Bayes Model with Count Vectorizer"
      ]
    },
    {
      "cell_type": "code",
      "metadata": {
        "id": "uhEm56nO1Nt-"
      },
      "source": [
        "cv_best_mb_pipeline = Pipeline([\n",
        " ('cv', CountVectorizer(token_pattern = r\"([a-zA-Z]+(?:'[a-z]+)?)\", stop_words = 'english',\n",
        "                        max_features = 25_000, ngram_range = (1,1), binary = True)),\n",
        " ('mnb', MultinomialNB())\n",
        "])"
      ],
      "execution_count": 126,
      "outputs": []
    },
    {
      "cell_type": "code",
      "metadata": {
        "colab": {
          "base_uri": "https://localhost:8080/"
        },
        "id": "t9-FRpNB3Gah",
        "outputId": "c0788f63-d6b7-4115-b99f-0aeb8a6b40ca"
      },
      "source": [
        "cv_best_mb_pipeline.fit(X_train, y_train)"
      ],
      "execution_count": 127,
      "outputs": [
        {
          "output_type": "execute_result",
          "data": {
            "text/plain": [
              "Pipeline(memory=None,\n",
              "         steps=[('cv',\n",
              "                 CountVectorizer(analyzer='word', binary=True,\n",
              "                                 decode_error='strict',\n",
              "                                 dtype=<class 'numpy.int64'>, encoding='utf-8',\n",
              "                                 input='content', lowercase=True, max_df=1.0,\n",
              "                                 max_features=25000, min_df=1,\n",
              "                                 ngram_range=(1, 1), preprocessor=None,\n",
              "                                 stop_words='english', strip_accents=None,\n",
              "                                 token_pattern=\"([a-zA-Z]+(?:'[a-z]+)?)\",\n",
              "                                 tokenizer=None, vocabulary=None)),\n",
              "                ('mnb',\n",
              "                 MultinomialNB(alpha=1.0, class_prior=None, fit_prior=True))],\n",
              "         verbose=False)"
            ]
          },
          "metadata": {
            "tags": []
          },
          "execution_count": 127
        }
      ]
    },
    {
      "cell_type": "code",
      "metadata": {
        "colab": {
          "base_uri": "https://localhost:8080/"
        },
        "id": "3ZRZu6e03GsV",
        "outputId": "3a7e568c-7e9d-4366-e095-d89ad2f15b39"
      },
      "source": [
        "cv_best_mb_pipeline.score(X_train, y_train)"
      ],
      "execution_count": 128,
      "outputs": [
        {
          "output_type": "execute_result",
          "data": {
            "text/plain": [
              "0.9402037234716216"
            ]
          },
          "metadata": {
            "tags": []
          },
          "execution_count": 128
        }
      ]
    },
    {
      "cell_type": "code",
      "metadata": {
        "colab": {
          "base_uri": "https://localhost:8080/"
        },
        "id": "RGe2irdF3P6f",
        "outputId": "818b06bf-1636-4979-ebd4-d2eb0a202eaf"
      },
      "source": [
        "cross_val_score(cv_best_mb_pipeline, X_train, y_train, cv = 8)"
      ],
      "execution_count": 129,
      "outputs": [
        {
          "output_type": "execute_result",
          "data": {
            "text/plain": [
              "array([0.92024895, 0.92632798, 0.92502533, 0.92545955, 0.92531481,\n",
              "       0.93168331, 0.92242003, 0.92588303])"
            ]
          },
          "metadata": {
            "tags": []
          },
          "execution_count": 129
        }
      ]
    },
    {
      "cell_type": "code",
      "metadata": {
        "colab": {
          "base_uri": "https://localhost:8080/"
        },
        "id": "7le_cvn63QIo",
        "outputId": "c01db683-6295-4753-924b-3e36d4e46de2"
      },
      "source": [
        "cv_best_mb_pipeline.score(X_test, y_test)"
      ],
      "execution_count": 130,
      "outputs": [
        {
          "output_type": "execute_result",
          "data": {
            "text/plain": [
              "0.9277753654653351"
            ]
          },
          "metadata": {
            "tags": []
          },
          "execution_count": 130
        }
      ]
    },
    {
      "cell_type": "code",
      "metadata": {
        "colab": {
          "base_uri": "https://localhost:8080/",
          "height": 296
        },
        "id": "W3Dw0N9S3QRj",
        "outputId": "9c981de8-f44e-4d65-d06f-6c89dbb51704"
      },
      "source": [
        "plot_confusion_matrix(cv_best_mb_pipeline, X_test, y_test)"
      ],
      "execution_count": 131,
      "outputs": [
        {
          "output_type": "execute_result",
          "data": {
            "text/plain": [
              "<sklearn.metrics._plot.confusion_matrix.ConfusionMatrixDisplay at 0x7f0b27b61c90>"
            ]
          },
          "metadata": {
            "tags": []
          },
          "execution_count": 131
        },
        {
          "output_type": "display_data",
          "data": {
            "image/png": "[encoded data removed]",
            "text/plain": [
              "<Figure size 432x288 with 2 Axes>"
            ]
          },
          "metadata": {
            "tags": [],
            "needs_background": "light"
          }
        }
      ]
    },
    {
      "cell_type": "code",
      "metadata": {
        "colab": {
          "base_uri": "https://localhost:8080/",
          "height": 279
        },
        "id": "KL-SKa5p3QbJ",
        "outputId": "c5b65ced-6068-413b-cbad-e58ff29a3378"
      },
      "source": [
        "plot_roc_curve(cv_best_mb_pipeline, X_test, y_test);"
      ],
      "execution_count": 132,
      "outputs": [
        {
          "output_type": "display_data",
          "data": {
            "image/png": "[encoded data removed]",
            "text/plain": [
              "<Figure size 432x288 with 1 Axes>"
            ]
          },
          "metadata": {
            "tags": [],
            "needs_background": "light"
          }
        }
      ]
    },
    {
      "cell_type": "code",
      "metadata": {
        "colab": {
          "base_uri": "https://localhost:8080/"
        },
        "id": "ybY51nqI3G1H",
        "outputId": "f4cf2002-8dcb-4244-cbf3-16bfa8c54cbe"
      },
      "source": [
        "y_hat_2 = cv_best_mb_pipeline.predict(X_test)\n",
        "print(classification_report(y_pred = y_hat_2, y_true = y_test))"
      ],
      "execution_count": 133,
      "outputs": [
        {
          "output_type": "stream",
          "text": [
            "              precision    recall  f1-score   support\n",
            "\n",
            "           0       0.95      0.97      0.96     12643\n",
            "           1       0.60      0.46      0.52      1175\n",
            "\n",
            "    accuracy                           0.93     13818\n",
            "   macro avg       0.77      0.72      0.74     13818\n",
            "weighted avg       0.92      0.93      0.92     13818\n",
            "\n"
          ],
          "name": "stdout"
        }
      ]
    }
  ]
}
{
  "nbformat": 4,
  "nbformat_minor": 0,
  "metadata": {
    "colab": {
      "name": "Multinomial Bayes.ipynb",
      "provenance": [],
      "collapsed_sections": []
    },
    "kernelspec": {
      "display_name": "Python 3",
      "name": "python3"
    },
    "language_info": {
      "name": "python"
    }
  },
  "cells": [
    {
      "cell_type": "markdown",
      "metadata": {
        "id": "WZEXklu8vgo5"
      },
      "source": [
        "# Multinomial Naive Bayes Modeling"
      ]
    },
    {
      "cell_type": "markdown",
      "metadata": {
        "id": "7i14pnbzvmhu"
      },
      "source": [
        "## Pull & Clean Datasets"
      ]
    },
    {
      "cell_type": "code",
      "metadata": {
        "id": "V__tfpu6vqJH"
      },
      "source": [
        "import pandas as pd\n",
        "\n",
        "import warnings\n",
        "warnings.filterwarnings(\"ignore\")"
      ],
      "execution_count": null,
      "outputs": []
    },
    {
      "cell_type": "code",
      "metadata": {
        "id": "b2G3es1Fv7f5"
      },
      "source": [
        "df_train = pd.read_csv('hate_speech_training.csv')\n",
        "df_train_2 = pd.read_csv('hate_speech_training_2.csv')\n",
        "df_train_3 = pd.read_csv('hate_speech_training_3.csv')\n",
        "df_train_4 = pd.read_csv('hate_speech_training_4.tsv', sep = '\\t')\n",
        "df_train_5 = pd.read_csv('hate_speech_training_5.csv')"
      ],
      "execution_count": null,
      "outputs": []
    },
    {
      "cell_type": "code",
      "metadata": {
        "id": "1D7GuxJIwHXz"
      },
      "source": [
        "df_train = df_train.drop('id', axis = 1) #0 = Not Hate Speech, 1 = Hate Speech"
      ],
      "execution_count": null,
      "outputs": []
    },
    {
      "cell_type": "code",
      "metadata": {
        "id": "QYBph_3IwH32"
      },
      "source": [
        "df_train_2 = df_train_2[['tweet', 'class']]\n",
        "df_train_2['class'] = df_train_2['class'].replace([0], 'hate speech')\n",
        "df_train_2['class'] = df_train_2['class'].replace([1, 2], 'not hate speech')\n",
        "df_train_2['class'] = df_train_2['class'].replace(['hate speech'], 1)\n",
        "df_train_2['class'] = df_train_2['class'].replace(['not hate speech'], 0)\n",
        "df_train_2.rename(columns = {'class': 'label'}, inplace = True) #0 = Not Hate Speech, 1 = Hate Speech"
      ],
      "execution_count": null,
      "outputs": []
    },
    {
      "cell_type": "code",
      "metadata": {
        "id": "ri1t2v8DwIHF"
      },
      "source": [
        "df_train_3 = df_train_3.drop('index', axis = 1) \n",
        "df_train_3.rename(columns = {'post': 'tweet'}, inplace = True) #0 = Not Hate Speech, 1 = Hate Speech"
      ],
      "execution_count": null,
      "outputs": []
    },
    {
      "cell_type": "code",
      "metadata": {
        "id": "l35c_9wLwIRr"
      },
      "source": [
        "df_train_4 = df_train_4[['text', 'HS']] \n",
        "df_train_4.rename(columns = {'text': 'tweet', 'HS': 'label'}, inplace = True) #0 = Not Hate Speech, 1 = Hate Speech"
      ],
      "execution_count": null,
      "outputs": []
    },
    {
      "cell_type": "code",
      "metadata": {
        "id": "V-JZLFYYwIg6"
      },
      "source": [
        "df_train_5['Label'] = df_train_5['Label'].replace(['Hate', 'Non-Asian Aggression'], 1)\n",
        "df_train_5['Label'] = df_train_5['Label'].replace(['Neutral', 'Counterhate'], 0) \n",
        "df_train_5.rename(columns = {'Text': 'tweet', 'Label': 'label'}, inplace = True) #0 = Not Hate Speech, 1 = Hate Speech"
      ],
      "execution_count": null,
      "outputs": []
    },
    {
      "cell_type": "code",
      "metadata": {
        "id": "aKsqbSeQwVFc"
      },
      "source": [
        "dfs = [df_train, df_train_2, df_train_3, df_train_4, df_train_5]\n",
        "df = pd.concat(dfs)"
      ],
      "execution_count": null,
      "outputs": []
    },
    {
      "cell_type": "markdown",
      "metadata": {
        "id": "qdKUYcSvwamQ"
      },
      "source": [
        "## Train, Test, Split"
      ]
    },
    {
      "cell_type": "code",
      "metadata": {
        "id": "M8yE4LufweDv"
      },
      "source": [
        "from sklearn.model_selection import train_test_split"
      ],
      "execution_count": null,
      "outputs": []
    },
    {
      "cell_type": "code",
      "metadata": {
        "id": "opzPL1XcweRM"
      },
      "source": [
        "X = df['tweet']\n",
        "y = df['label']\n",
        "X_train, X_test, y_train, y_test = train_test_split(X,\n",
        "                                                    y,\n",
        "                                                    random_state=3,\n",
        "                                                    test_size=0.20,\n",
        "                                                   stratify = y) #80/20 split"
      ],
      "execution_count": null,
      "outputs": []
    },
    {
      "cell_type": "markdown",
      "metadata": {
        "id": "SeqjiJZLwjTs"
      },
      "source": [
        "## Pipeline for TF-IDF on Multinomial Bayes"
      ]
    },
    {
      "cell_type": "code",
      "metadata": {
        "id": "0Sw2Euyew0Iz"
      },
      "source": [
        "from imblearn.over_sampling import SMOTE\n",
        "from imblearn.pipeline import Pipeline\n",
        "from sklearn.naive_bayes import MultinomialNB\n",
        "\n",
        "import nltk\n",
        "from nltk.corpus import stopwords\n",
        "from sklearn.feature_extraction.text import TfidfVectorizer, CountVectorizer"
      ],
      "execution_count": null,
      "outputs": []
    },
    {
      "cell_type": "code",
      "metadata": {
        "colab": {
          "base_uri": "https://localhost:8080/"
        },
        "id": "WN0lVzY4w6UM",
        "outputId": "6b35bf12-3e05-4709-c54d-ec89c4a0e8fb"
      },
      "source": [
        "nltk.download('stopwords')"
      ],
      "execution_count": null,
      "outputs": [
        {
          "output_type": "stream",
          "text": [
            "[nltk_data] Downloading package stopwords to /root/nltk_data...\n",
            "[nltk_data]   Package stopwords is already up-to-date!\n"
          ],
          "name": "stdout"
        },
        {
          "output_type": "execute_result",
          "data": {
            "text/plain": [
              "True"
            ]
          },
          "metadata": {
            "tags": []
          },
          "execution_count": 16
        }
      ]
    },
    {
      "cell_type": "code",
      "metadata": {
        "id": "AN-swYC7w9c8"
      },
      "source": [
        "tfidf_mb_pipe = Pipeline([\n",
        " ('tfidf', TfidfVectorizer(token_pattern = r\"([a-zA-Z]+(?:'[a-z]+)?)\", stop_words = 'english')),\n",
        " ('SMOTE', SMOTE(n_jobs = -1)),\n",
        " ('mnb', MultinomialNB())\n",
        "])"
      ],
      "execution_count": null,
      "outputs": []
    },
    {
      "cell_type": "code",
      "metadata": {
        "colab": {
          "base_uri": "https://localhost:8080/"
        },
        "id": "BX2FhAJrxLuZ",
        "outputId": "84d6b611-b73d-4664-8c52-f964435a85d2"
      },
      "source": [
        "tfidf_mb_pipe.fit(X_train, y_train)"
      ],
      "execution_count": null,
      "outputs": [
        {
          "output_type": "execute_result",
          "data": {
            "text/plain": [
              "Pipeline(memory=None,\n",
              "         steps=[('tfidf',\n",
              "                 TfidfVectorizer(analyzer='word', binary=False,\n",
              "                                 decode_error='strict',\n",
              "                                 dtype=<class 'numpy.float64'>,\n",
              "                                 encoding='utf-8', input='content',\n",
              "                                 lowercase=True, max_df=1.0, max_features=None,\n",
              "                                 min_df=1, ngram_range=(1, 1), norm='l2',\n",
              "                                 preprocessor=None, smooth_idf=True,\n",
              "                                 stop_words='english', strip_accents=None,\n",
              "                                 sublinear_tf=False,\n",
              "                                 token_pattern=\"([a-zA-Z]+(?:'[a-z]+)?)\",\n",
              "                                 tokenizer=None, use_idf=True,\n",
              "                                 vocabulary=None)),\n",
              "                ('SMOTE',\n",
              "                 SMOTE(k_neighbors=5, kind='deprecated',\n",
              "                       m_neighbors='deprecated', n_jobs=-1,\n",
              "                       out_step='deprecated', random_state=None, ratio=None,\n",
              "                       sampling_strategy='auto', svm_estimator='deprecated')),\n",
              "                ('mnb',\n",
              "                 MultinomialNB(alpha=1.0, class_prior=None, fit_prior=True))],\n",
              "         verbose=False)"
            ]
          },
          "metadata": {
            "tags": []
          },
          "execution_count": 18
        }
      ]
    },
    {
      "cell_type": "code",
      "metadata": {
        "id": "-zhvJEM5xRaO"
      },
      "source": [
        "tfidf_mnb_params = {\n",
        "    'tfidf__max_features':[None, 25_000, 10_000, 1_000, 100],\n",
        "    'tfidf__ngram_range':[(1,1), (1,2), (2,2)],\n",
        "    'tfidf__binary':[False, True],\n",
        "    'tfidf__norm': ['l1', 'l2']\n",
        "}"
      ],
      "execution_count": null,
      "outputs": []
    },
    {
      "cell_type": "code",
      "metadata": {
        "id": "rszPfhtJxdpY"
      },
      "source": [
        "from sklearn.model_selection import GridSearchCV"
      ],
      "execution_count": null,
      "outputs": []
    },
    {
      "cell_type": "code",
      "metadata": {
        "id": "m-iEtnCAxg9m"
      },
      "source": [
        "gs_tfidf_mnb = GridSearchCV(tfidf_mb_pipe,\n",
        "                            param_grid=tfidf_mnb_params, \n",
        "                            cv = 3, \n",
        "                            verbose = 1,\n",
        "                            n_jobs = -1)"
      ],
      "execution_count": null,
      "outputs": []
    },
    {
      "cell_type": "code",
      "metadata": {
        "colab": {
          "background_save": true,
          "base_uri": "https://localhost:8080/"
        },
        "id": "fYpdLn20xhF_",
        "outputId": "e78cd5dc-182f-473b-b3c1-adda6c4e75a9"
      },
      "source": [
        "gs_tfidf_mnb.fit(X_train, y_train)"
      ],
      "execution_count": null,
      "outputs": [
        {
          "output_type": "stream",
          "text": [
            "Fitting 3 folds for each of 60 candidates, totalling 180 fits\n"
          ],
          "name": "stdout"
        },
        {
          "output_type": "stream",
          "text": [
            "[Parallel(n_jobs=-1)]: Using backend LokyBackend with 2 concurrent workers.\n",
            "[Parallel(n_jobs=-1)]: Done  46 tasks      | elapsed: 23.7min\n"
          ],
          "name": "stderr"
        }
      ]
    },
    {
      "cell_type": "code",
      "metadata": {
        "id": "JUAgU335xhN4",
        "colab": {
          "base_uri": "https://localhost:8080/"
        },
        "outputId": "00abe620-c64d-4be3-a4bb-5a906a1b7e37"
      },
      "source": [
        "gs_tfidf_mnb.best_score_"
      ],
      "execution_count": 26,
      "outputs": [
        {
          "output_type": "execute_result",
          "data": {
            "text/plain": [
              "0.8959851286142783"
            ]
          },
          "metadata": {
            "tags": []
          },
          "execution_count": 26
        }
      ]
    },
    {
      "cell_type": "code",
      "metadata": {
        "id": "Q-B81Tk7yKEB",
        "colab": {
          "base_uri": "https://localhost:8080/"
        },
        "outputId": "1901b954-1f9a-487e-80aa-8335df1fd960"
      },
      "source": [
        "gs_tfidf_mnb.best_estimator_"
      ],
      "execution_count": 27,
      "outputs": [
        {
          "output_type": "execute_result",
          "data": {
            "text/plain": [
              "Pipeline(memory=None,\n",
              "         steps=[('tfidf',\n",
              "                 TfidfVectorizer(analyzer='word', binary=True,\n",
              "                                 decode_error='strict',\n",
              "                                 dtype=<class 'numpy.float64'>,\n",
              "                                 encoding='utf-8', input='content',\n",
              "                                 lowercase=True, max_df=1.0, max_features=None,\n",
              "                                 min_df=1, ngram_range=(1, 2), norm='l1',\n",
              "                                 preprocessor=None, smooth_idf=True,\n",
              "                                 stop_words='english', strip_accents=None,\n",
              "                                 sublinear_tf=False,\n",
              "                                 token_pattern=\"([a-zA-Z]+(?:'[a-z]+)?)\",\n",
              "                                 tokenizer=None, use_idf=True,\n",
              "                                 vocabulary=None)),\n",
              "                ('SMOTE',\n",
              "                 SMOTE(k_neighbors=5, kind='deprecated',\n",
              "                       m_neighbors='deprecated', n_jobs=-1,\n",
              "                       out_step='deprecated', random_state=None, ratio=None,\n",
              "                       sampling_strategy='auto', svm_estimator='deprecated')),\n",
              "                ('mnb',\n",
              "                 MultinomialNB(alpha=1.0, class_prior=None, fit_prior=True))],\n",
              "         verbose=False)"
            ]
          },
          "metadata": {
            "tags": []
          },
          "execution_count": 27
        }
      ]
    },
    {
      "cell_type": "code",
      "metadata": {
        "id": "3eoKSbaWyKKc",
        "colab": {
          "base_uri": "https://localhost:8080/"
        },
        "outputId": "ca824f42-a66a-44ac-9410-b8f0f5e6b96b"
      },
      "source": [
        "gs_tfidf_mnb.best_params_"
      ],
      "execution_count": 28,
      "outputs": [
        {
          "output_type": "execute_result",
          "data": {
            "text/plain": [
              "{'tfidf__binary': True,\n",
              " 'tfidf__max_features': None,\n",
              " 'tfidf__ngram_range': (1, 2),\n",
              " 'tfidf__norm': 'l1'}"
            ]
          },
          "metadata": {
            "tags": []
          },
          "execution_count": 28
        }
      ]
    },
    {
      "cell_type": "markdown",
      "metadata": {
        "id": "fp43rTw_yYm3"
      },
      "source": [
        "## Best Possible Multinomial Bayes Model with TF-IDF"
      ]
    },
    {
      "cell_type": "code",
      "metadata": {
        "id": "yC8SnpgFykAR"
      },
      "source": [
        "tfidf_mb_best_pipeline = Pipeline([\n",
        "                                   ('tfidf', TfidfVectorizer(token_pattern = r\"([a-zA-Z]+(?:'[a-z]+)?)\", \n",
        "                                                             stop_words = 'english', max_features = None,\n",
        "                                                             ngram_range = (1,2), binary = True, norm = 'l1')),\n",
        "                                   ('SMOTE', SMOTE(n_jobs = -1)),\n",
        "                                   ('mnb', MultinomialNB())\n",
        "                                   ])"
      ],
      "execution_count": 39,
      "outputs": []
    },
    {
      "cell_type": "code",
      "metadata": {
        "colab": {
          "base_uri": "https://localhost:8080/"
        },
        "id": "AN_mM-iJyy8-",
        "outputId": "6dc7f409-0df9-4846-8078-cb07ee1ace74"
      },
      "source": [
        "tfidf_mb_best_pipeline.fit(X_train, y_train)"
      ],
      "execution_count": 40,
      "outputs": [
        {
          "output_type": "execute_result",
          "data": {
            "text/plain": [
              "Pipeline(memory=None,\n",
              "         steps=[('tfidf',\n",
              "                 TfidfVectorizer(analyzer='word', binary=True,\n",
              "                                 decode_error='strict',\n",
              "                                 dtype=<class 'numpy.float64'>,\n",
              "                                 encoding='utf-8', input='content',\n",
              "                                 lowercase=True, max_df=1.0, max_features=None,\n",
              "                                 min_df=1, ngram_range=(1, 2), norm='l1',\n",
              "                                 preprocessor=None, smooth_idf=True,\n",
              "                                 stop_words='english', strip_accents=None,\n",
              "                                 sublinear_tf=False,\n",
              "                                 token_pattern=\"([a-zA-Z]+(?:'[a-z]+)?)\",\n",
              "                                 tokenizer=None, use_idf=True,\n",
              "                                 vocabulary=None)),\n",
              "                ('SMOTE',\n",
              "                 SMOTE(k_neighbors=5, kind='deprecated',\n",
              "                       m_neighbors='deprecated', n_jobs=-1,\n",
              "                       out_step='deprecated', random_state=None, ratio=None,\n",
              "                       sampling_strategy='auto', svm_estimator='deprecated')),\n",
              "                ('mnb',\n",
              "                 MultinomialNB(alpha=1.0, class_prior=None, fit_prior=True))],\n",
              "         verbose=False)"
            ]
          },
          "metadata": {
            "tags": []
          },
          "execution_count": 40
        }
      ]
    },
    {
      "cell_type": "code",
      "metadata": {
        "colab": {
          "base_uri": "https://localhost:8080/"
        },
        "id": "sBl0EBA9yzRK",
        "outputId": "4d4b6f83-0f65-4adb-ac9a-6697134c228e"
      },
      "source": [
        "tfidf_mb_best_pipeline.score(X_train, y_train)"
      ],
      "execution_count": 41,
      "outputs": [
        {
          "output_type": "execute_result",
          "data": {
            "text/plain": [
              "0.9587848962385338"
            ]
          },
          "metadata": {
            "tags": []
          },
          "execution_count": 41
        }
      ]
    },
    {
      "cell_type": "code",
      "metadata": {
        "id": "o8kdS6SVy7o6"
      },
      "source": [
        "from sklearn.model_selection import cross_val_score"
      ],
      "execution_count": 42,
      "outputs": []
    },
    {
      "cell_type": "code",
      "metadata": {
        "colab": {
          "base_uri": "https://localhost:8080/"
        },
        "id": "6RpPK009y70z",
        "outputId": "b7584216-77f0-4803-d629-4706a7507787"
      },
      "source": [
        "cross_val_score(tfidf_mb_best_pipeline, X_train, y_train, cv = 8)"
      ],
      "execution_count": 43,
      "outputs": [
        {
          "output_type": "execute_result",
          "data": {
            "text/plain": [
              "array([0.89926183, 0.90505138, 0.90418295, 0.90345926, 0.8983934 ,\n",
              "       0.90230135, 0.89491967, 0.89866821])"
            ]
          },
          "metadata": {
            "tags": []
          },
          "execution_count": 43
        }
      ]
    },
    {
      "cell_type": "code",
      "metadata": {
        "colab": {
          "base_uri": "https://localhost:8080/"
        },
        "id": "tp_Jo1ydzQPC",
        "outputId": "1c4532c0-d0cf-4b7c-8cb6-7133a33ca4a2"
      },
      "source": [
        "tfidf_mb_best_pipeline.score(X_test, y_test)"
      ],
      "execution_count": 44,
      "outputs": [
        {
          "output_type": "execute_result",
          "data": {
            "text/plain": [
              "0.9097553915183094"
            ]
          },
          "metadata": {
            "tags": []
          },
          "execution_count": 44
        }
      ]
    },
    {
      "cell_type": "code",
      "metadata": {
        "id": "5C0uy1QYy7_Q"
      },
      "source": [
        "from sklearn.metrics import plot_confusion_matrix, plot_roc_curve, classification_report"
      ],
      "execution_count": 35,
      "outputs": []
    },
    {
      "cell_type": "code",
      "metadata": {
        "colab": {
          "base_uri": "https://localhost:8080/",
          "height": 296
        },
        "id": "uX7_fMVXzKS1",
        "outputId": "c4df8a5a-ac07-443c-bf1e-ad54b611dae2"
      },
      "source": [
        "plot_confusion_matrix(tfidf_mb_best_pipeline, X_test, y_test)"
      ],
      "execution_count": 45,
      "outputs": [
        {
          "output_type": "execute_result",
          "data": {
            "text/plain": [
              "<sklearn.metrics._plot.confusion_matrix.ConfusionMatrixDisplay at 0x7f3ae18ff0d0>"
            ]
          },
          "metadata": {
            "tags": []
          },
          "execution_count": 45
        },
        {
          "output_type": "display_data",
          "data": {
            "image/png": "[encoded data removed]",
            "text/plain": [
              "<Figure size 432x288 with 2 Axes>"
            ]
          },
          "metadata": {
            "tags": [],
            "needs_background": "light"
          }
        }
      ]
    },
    {
      "cell_type": "code",
      "metadata": {
        "colab": {
          "base_uri": "https://localhost:8080/",
          "height": 296
        },
        "id": "gBu2MrwKy8MO",
        "outputId": "0bdcd972-7003-4e8a-8492-38aa2d364498"
      },
      "source": [
        "plot_roc_curve(tfidf_mb_best_pipeline, X_test, y_test)"
      ],
      "execution_count": 46,
      "outputs": [
        {
          "output_type": "execute_result",
          "data": {
            "text/plain": [
              "<sklearn.metrics._plot.roc_curve.RocCurveDisplay at 0x7f3adaefa3d0>"
            ]
          },
          "metadata": {
            "tags": []
          },
          "execution_count": 46
        },
        {
          "output_type": "display_data",
          "data": {
            "image/png": "[encoded data removed]",
            "text/plain": [
              "<Figure size 432x288 with 1 Axes>"
            ]
          },
          "metadata": {
            "tags": [],
            "needs_background": "light"
          }
        }
      ]
    },
    {
      "cell_type": "code",
      "metadata": {
        "colab": {
          "base_uri": "https://localhost:8080/"
        },
        "id": "IaWnr7sdyzXU",
        "outputId": "9e17b0c3-f2c9-4f72-a544-0146c069e648"
      },
      "source": [
        "y_hat = tfidf_mb_best_pipeline.predict(X_test)\n",
        "print(classification_report(y_pred = y_hat, y_true = y_test))"
      ],
      "execution_count": 47,
      "outputs": [
        {
          "output_type": "stream",
          "text": [
            "              precision    recall  f1-score   support\n",
            "\n",
            "           0       0.96      0.94      0.95     12643\n",
            "           1       0.48      0.63      0.54      1175\n",
            "\n",
            "    accuracy                           0.91     13818\n",
            "   macro avg       0.72      0.78      0.75     13818\n",
            "weighted avg       0.92      0.91      0.92     13818\n",
            "\n"
          ],
          "name": "stdout"
        }
      ]
    },
    {
      "cell_type": "markdown",
      "metadata": {
        "id": "FGLz5bBOz76g"
      },
      "source": [
        "## Pipeline for Count Vectorizer on Multinomial Bayes"
      ]
    },
    {
      "cell_type": "code",
      "metadata": {
        "id": "_5LF7H3qz91T"
      },
      "source": [
        "cv_mb_pipeline = Pipeline([\n",
        " ('cv', CountVectorizer(token_pattern = r\"([a-zA-Z]+(?:'[a-z]+)?)\", stop_words = 'english')),\n",
        " ('SMOTE', SMOTE(n_jobs = -1)),\n",
        " ('mnb', MultinomialNB())\n",
        "])"
      ],
      "execution_count": 48,
      "outputs": []
    },
    {
      "cell_type": "code",
      "metadata": {
        "colab": {
          "base_uri": "https://localhost:8080/"
        },
        "id": "-sXSt45S0bCY",
        "outputId": "7d4bff42-8bdf-48ad-e018-c1f3cb72308f"
      },
      "source": [
        "cv_mb_pipeline.fit(X_train, y_train)"
      ],
      "execution_count": 49,
      "outputs": [
        {
          "output_type": "execute_result",
          "data": {
            "text/plain": [
              "Pipeline(memory=None,\n",
              "         steps=[('cv',\n",
              "                 CountVectorizer(analyzer='word', binary=False,\n",
              "                                 decode_error='strict',\n",
              "                                 dtype=<class 'numpy.int64'>, encoding='utf-8',\n",
              "                                 input='content', lowercase=True, max_df=1.0,\n",
              "                                 max_features=None, min_df=1,\n",
              "                                 ngram_range=(1, 1), preprocessor=None,\n",
              "                                 stop_words='english', strip_accents=None,\n",
              "                                 token_pattern=\"([a-zA-Z]+(?:'[a-z]+)?)\",\n",
              "                                 tokenizer=None, vocabulary=None)),\n",
              "                ('SMOTE',\n",
              "                 SMOTE(k_neighbors=5, kind='deprecated',\n",
              "                       m_neighbors='deprecated', n_jobs=-1,\n",
              "                       out_step='deprecated', random_state=None, ratio=None,\n",
              "                       sampling_strategy='auto', svm_estimator='deprecated')),\n",
              "                ('mnb',\n",
              "                 MultinomialNB(alpha=1.0, class_prior=None, fit_prior=True))],\n",
              "         verbose=False)"
            ]
          },
          "metadata": {
            "tags": []
          },
          "execution_count": 49
        }
      ]
    },
    {
      "cell_type": "code",
      "metadata": {
        "id": "cQhfVhkX0bYm"
      },
      "source": [
        "cv_mnb_params = {\n",
        "    'cv__max_features':[None, 25_000, 10_000, 1_000, 100],\n",
        "    'cv__ngram_range':[(1,1), (1,2), (2,2)],\n",
        "    'cv__binary':[False, True],\n",
        "    }"
      ],
      "execution_count": 50,
      "outputs": []
    },
    {
      "cell_type": "code",
      "metadata": {
        "id": "fc5FFnG40bi1"
      },
      "source": [
        "gs_cv_mnb = GridSearchCV(cv_mb_pipeline,\n",
        "                            param_grid=cv_mnb_params, \n",
        "                            cv = 3, \n",
        "                            verbose = 1,\n",
        "                         n_jobs = -1)"
      ],
      "execution_count": 51,
      "outputs": []
    },
    {
      "cell_type": "code",
      "metadata": {
        "colab": {
          "base_uri": "https://localhost:8080/"
        },
        "id": "_ZAZRdSj0bqT",
        "outputId": "6727fce5-f0be-4da3-ce7e-0b6521a2a22f"
      },
      "source": [
        "gs_cv_mnb.fit(X_train, y_train)"
      ],
      "execution_count": 52,
      "outputs": [
        {
          "output_type": "stream",
          "text": [
            "Fitting 3 folds for each of 30 candidates, totalling 90 fits\n"
          ],
          "name": "stdout"
        },
        {
          "output_type": "stream",
          "text": [
            "[Parallel(n_jobs=-1)]: Using backend LokyBackend with 2 concurrent workers.\n",
            "[Parallel(n_jobs=-1)]: Done  46 tasks      | elapsed: 13.5min\n",
            "[Parallel(n_jobs=-1)]: Done  90 out of  90 | elapsed: 25.8min finished\n"
          ],
          "name": "stderr"
        },
        {
          "output_type": "execute_result",
          "data": {
            "text/plain": [
              "GridSearchCV(cv=3, error_score=nan,\n",
              "             estimator=Pipeline(memory=None,\n",
              "                                steps=[('cv',\n",
              "                                        CountVectorizer(analyzer='word',\n",
              "                                                        binary=False,\n",
              "                                                        decode_error='strict',\n",
              "                                                        dtype=<class 'numpy.int64'>,\n",
              "                                                        encoding='utf-8',\n",
              "                                                        input='content',\n",
              "                                                        lowercase=True,\n",
              "                                                        max_df=1.0,\n",
              "                                                        max_features=None,\n",
              "                                                        min_df=1,\n",
              "                                                        ngram_range=(1, 1),\n",
              "                                                        preprocessor=None,\n",
              "                                                        stop_words='english',\n",
              "                                                        strip_accents=None,\n",
              "                                                        token_pattern=\"(...\n",
              "                                              sampling_strategy='auto',\n",
              "                                              svm_estimator='deprecated')),\n",
              "                                       ('mnb',\n",
              "                                        MultinomialNB(alpha=1.0,\n",
              "                                                      class_prior=None,\n",
              "                                                      fit_prior=True))],\n",
              "                                verbose=False),\n",
              "             iid='deprecated', n_jobs=-1,\n",
              "             param_grid={'cv__binary': [False, True],\n",
              "                         'cv__max_features': [None, 25000, 10000, 1000, 100],\n",
              "                         'cv__ngram_range': [(1, 1), (1, 2), (2, 2)]},\n",
              "             pre_dispatch='2*n_jobs', refit=True, return_train_score=False,\n",
              "             scoring=None, verbose=1)"
            ]
          },
          "metadata": {
            "tags": []
          },
          "execution_count": 52
        }
      ]
    },
    {
      "cell_type": "code",
      "metadata": {
        "colab": {
          "base_uri": "https://localhost:8080/"
        },
        "id": "oTUpT_u-09I7",
        "outputId": "5b626d2a-c565-4e5c-b392-e17c36c9d98e"
      },
      "source": [
        "gs_cv_mnb.best_score_"
      ],
      "execution_count": 71,
      "outputs": [
        {
          "output_type": "execute_result",
          "data": {
            "text/plain": [
              "0.9269237123258058"
            ]
          },
          "metadata": {
            "tags": []
          },
          "execution_count": 71
        }
      ]
    },
    {
      "cell_type": "code",
      "metadata": {
        "colab": {
          "base_uri": "https://localhost:8080/"
        },
        "id": "JfP06i2M09vO",
        "outputId": "829cc3ee-27e9-46ce-975f-aabd9e5d5a86"
      },
      "source": [
        "gs_cv_mnb.best_estimator_"
      ],
      "execution_count": 72,
      "outputs": [
        {
          "output_type": "execute_result",
          "data": {
            "text/plain": [
              "Pipeline(memory=None,\n",
              "         steps=[('cv',\n",
              "                 CountVectorizer(analyzer='word', binary=True,\n",
              "                                 decode_error='strict',\n",
              "                                 dtype=<class 'numpy.int64'>, encoding='utf-8',\n",
              "                                 input='content', lowercase=True, max_df=1.0,\n",
              "                                 max_features=None, min_df=1,\n",
              "                                 ngram_range=(1, 2), preprocessor=None,\n",
              "                                 stop_words='english', strip_accents=None,\n",
              "                                 token_pattern=\"([a-zA-Z]+(?:'[a-z]+)?)\",\n",
              "                                 tokenizer=None, vocabulary=None)),\n",
              "                ('SMOTE',\n",
              "                 SMOTE(k_neighbors=5, kind='deprecated',\n",
              "                       m_neighbors='deprecated', n_jobs=-1,\n",
              "                       out_step='deprecated', random_state=None, ratio=None,\n",
              "                       sampling_strategy='auto', svm_estimator='deprecated')),\n",
              "                ('mnb',\n",
              "                 MultinomialNB(alpha=1.0, class_prior=None, fit_prior=True))],\n",
              "         verbose=False)"
            ]
          },
          "metadata": {
            "tags": []
          },
          "execution_count": 72
        }
      ]
    },
    {
      "cell_type": "code",
      "metadata": {
        "colab": {
          "base_uri": "https://localhost:8080/"
        },
        "id": "cweBUQl00-Cc",
        "outputId": "6ba8886e-a80c-4cff-be31-b79859beaadd"
      },
      "source": [
        "gs_cv_mnb.best_params_"
      ],
      "execution_count": 73,
      "outputs": [
        {
          "output_type": "execute_result",
          "data": {
            "text/plain": [
              "{'cv__binary': True, 'cv__max_features': None, 'cv__ngram_range': (1, 2)}"
            ]
          },
          "metadata": {
            "tags": []
          },
          "execution_count": 73
        }
      ]
    },
    {
      "cell_type": "markdown",
      "metadata": {
        "id": "AF8SXxej1Ijp"
      },
      "source": [
        "## Best Possible Multinomial Bayes Model with Count Vectorizer"
      ]
    },
    {
      "cell_type": "code",
      "metadata": {
        "id": "uhEm56nO1Nt-"
      },
      "source": [
        "cv_best_mb_pipeline = Pipeline([\n",
        "                                ('cv', CountVectorizer(token_pattern = r\"([a-zA-Z]+(?:'[a-z]+)?)\", stop_words = 'english',\n",
        "                                                       max_features = None, ngram_range = (1,2), binary = True)),\n",
        "                                ('SMOTE', SMOTE(n_jobs = -1)),\n",
        "                                ('mnb', MultinomialNB())\n",
        "])"
      ],
      "execution_count": 59,
      "outputs": []
    },
    {
      "cell_type": "code",
      "metadata": {
        "colab": {
          "base_uri": "https://localhost:8080/"
        },
        "id": "t9-FRpNB3Gah",
        "outputId": "0b78c53f-adc0-47fa-a528-ea141549f2fe"
      },
      "source": [
        "cv_best_mb_pipeline.fit(X_train, y_train)"
      ],
      "execution_count": 60,
      "outputs": [
        {
          "output_type": "execute_result",
          "data": {
            "text/plain": [
              "Pipeline(memory=None,\n",
              "         steps=[('cv',\n",
              "                 CountVectorizer(analyzer='word', binary=True,\n",
              "                                 decode_error='strict',\n",
              "                                 dtype=<class 'numpy.int64'>, encoding='utf-8',\n",
              "                                 input='content', lowercase=True, max_df=1.0,\n",
              "                                 max_features=None, min_df=1,\n",
              "                                 ngram_range=(1, 2), preprocessor=None,\n",
              "                                 stop_words='english', strip_accents=None,\n",
              "                                 token_pattern=\"([a-zA-Z]+(?:'[a-z]+)?)\",\n",
              "                                 tokenizer=None, vocabulary=None)),\n",
              "                ('SMOTE',\n",
              "                 SMOTE(k_neighbors=5, kind='deprecated',\n",
              "                       m_neighbors='deprecated', n_jobs=-1,\n",
              "                       out_step='deprecated', random_state=None, ratio=None,\n",
              "                       sampling_strategy='auto', svm_estimator='deprecated')),\n",
              "                ('mnb',\n",
              "                 MultinomialNB(alpha=1.0, class_prior=None, fit_prior=True))],\n",
              "         verbose=False)"
            ]
          },
          "metadata": {
            "tags": []
          },
          "execution_count": 60
        }
      ]
    },
    {
      "cell_type": "code",
      "metadata": {
        "colab": {
          "base_uri": "https://localhost:8080/"
        },
        "id": "3ZRZu6e03GsV",
        "outputId": "6c22e879-9570-4417-fb28-c9c615f07da5"
      },
      "source": [
        "cv_best_mb_pipeline.score(X_train, y_train)"
      ],
      "execution_count": 67,
      "outputs": [
        {
          "output_type": "execute_result",
          "data": {
            "text/plain": [
              "0.9768775668976497"
            ]
          },
          "metadata": {
            "tags": []
          },
          "execution_count": 67
        }
      ]
    },
    {
      "cell_type": "code",
      "metadata": {
        "colab": {
          "base_uri": "https://localhost:8080/"
        },
        "id": "RGe2irdF3P6f",
        "outputId": "e26ade5e-de20-40ab-a590-e1a1bb9900c8"
      },
      "source": [
        "cross_val_score(cv_best_mb_pipeline, X_train, y_train, cv = 8)"
      ],
      "execution_count": 68,
      "outputs": [
        {
          "output_type": "execute_result",
          "data": {
            "text/plain": [
              "array([0.92213055, 0.92835432, 0.92893328, 0.9286438 , 0.92907801,\n",
              "       0.93081488, 0.92560428, 0.92834395])"
            ]
          },
          "metadata": {
            "tags": []
          },
          "execution_count": 68
        }
      ]
    },
    {
      "cell_type": "code",
      "metadata": {
        "colab": {
          "base_uri": "https://localhost:8080/"
        },
        "id": "7le_cvn63QIo",
        "outputId": "89ff42fe-188f-4a42-e25a-b6721dc20eb0"
      },
      "source": [
        "cv_best_mb_pipeline.score(X_test, y_test)"
      ],
      "execution_count": 69,
      "outputs": [
        {
          "output_type": "execute_result",
          "data": {
            "text/plain": [
              "0.9247358517875235"
            ]
          },
          "metadata": {
            "tags": []
          },
          "execution_count": 69
        }
      ]
    },
    {
      "cell_type": "code",
      "metadata": {
        "colab": {
          "base_uri": "https://localhost:8080/",
          "height": 296
        },
        "id": "W3Dw0N9S3QRj",
        "outputId": "6827c8be-636d-4486-a7ab-bed24c075782"
      },
      "source": [
        "plot_confusion_matrix(cv_best_mb_pipeline, X_test, y_test)"
      ],
      "execution_count": 70,
      "outputs": [
        {
          "output_type": "execute_result",
          "data": {
            "text/plain": [
              "<sklearn.metrics._plot.confusion_matrix.ConfusionMatrixDisplay at 0x7f3ace9fbfd0>"
            ]
          },
          "metadata": {
            "tags": []
          },
          "execution_count": 70
        },
        {
          "output_type": "display_data",
          "data": {
            "image/png": "[encoded data removed]",
            "text/plain": [
              "<Figure size 432x288 with 2 Axes>"
            ]
          },
          "metadata": {
            "tags": [],
            "needs_background": "light"
          }
        }
      ]
    },
    {
      "cell_type": "code",
      "metadata": {
        "colab": {
          "base_uri": "https://localhost:8080/",
          "height": 279
        },
        "id": "KL-SKa5p3QbJ",
        "outputId": "757d15cf-6b98-43c2-98a6-7dc304d895ac"
      },
      "source": [
        "plot_roc_curve(cv_best_mb_pipeline, X_test, y_test);"
      ],
      "execution_count": 74,
      "outputs": [
        {
          "output_type": "display_data",
          "data": {
            "image/png": "[encoded data removed]",
            "text/plain": [
              "<Figure size 432x288 with 1 Axes>"
            ]
          },
          "metadata": {
            "tags": [],
            "needs_background": "light"
          }
        }
      ]
    },
    {
      "cell_type": "code",
      "metadata": {
        "colab": {
          "base_uri": "https://localhost:8080/"
        },
        "id": "ybY51nqI3G1H",
        "outputId": "d1dde320-a63e-4b90-afb6-9ee4fd208e67"
      },
      "source": [
        "y_hat_2 = cv_best_mb_pipeline.predict(X_test)\n",
        "print(classification_report(y_pred = y_hat_2, y_true = y_test))"
      ],
      "execution_count": 75,
      "outputs": [
        {
          "output_type": "stream",
          "text": [
            "              precision    recall  f1-score   support\n",
            "\n",
            "           0       0.94      0.98      0.96     12643\n",
            "           1       0.61      0.31      0.42      1175\n",
            "\n",
            "    accuracy                           0.92     13818\n",
            "   macro avg       0.78      0.65      0.69     13818\n",
            "weighted avg       0.91      0.92      0.91     13818\n",
            "\n"
          ],
          "name": "stdout"
        }
      ]
    }
  ]
}